{
 "cells": [
  {
   "attachments": {},
   "cell_type": "markdown",
   "metadata": {},
   "source": [
    "# String"
   ]
  },
  {
   "cell_type": "code",
   "execution_count": null,
   "metadata": {},
   "outputs": [],
   "source": [
    "name = 'Darius'"
   ]
  },
  {
   "cell_type": "code",
   "execution_count": 7,
   "metadata": {},
   "outputs": [
    {
     "name": "stdout",
     "output_type": "stream",
     "text": [
      "True\n",
      "False\n",
      "1972\n",
      "True\n",
      "19 72\n",
      "False\n"
     ]
    }
   ],
   "source": [
    "print('1972'.isdigit())\n",
    "print('1972 '.isdigit())\n",
    "print('  1972  '.strip())\n",
    "print('  1972  '.strip().isdigit())\n",
    "print('  19 72  '.strip())\n",
    "print('  19 72  '.strip().isdigit())\n"
   ]
  },
  {
   "attachments": {},
   "cell_type": "markdown",
   "metadata": {},
   "source": [
    "### string operations"
   ]
  },
  {
   "cell_type": "code",
   "execution_count": 8,
   "metadata": {},
   "outputs": [
    {
     "data": {
      "text/plain": [
       "'Darius hello'"
      ]
     },
     "execution_count": 8,
     "metadata": {},
     "output_type": "execute_result"
    }
   ],
   "source": [
    "'Darius' + ' ' + 'hello'"
   ]
  },
  {
   "cell_type": "code",
   "execution_count": 9,
   "metadata": {},
   "outputs": [
    {
     "ename": "TypeError",
     "evalue": "unsupported operand type(s) for -: 'str' and 'str'",
     "output_type": "error",
     "traceback": [
      "\u001b[1;31m---------------------------------------------------------------------------\u001b[0m",
      "\u001b[1;31mTypeError\u001b[0m                                 Traceback (most recent call last)",
      "\u001b[1;32mc:\\Users\\Robotux\\Documents\\Python\\20221108VCSDMAB2B\\lesson_2.ipynb Cell 6\u001b[0m in \u001b[0;36m<module>\u001b[1;34m\u001b[0m\n\u001b[1;32m----> <a href='vscode-notebook-cell:/c%3A/Users/Robotux/Documents/Python/20221108VCSDMAB2B/lesson_2.ipynb#W3sZmlsZQ%3D%3D?line=0'>1</a>\u001b[0m \u001b[39m'\u001b[39;49m\u001b[39mDarius\u001b[39;49m\u001b[39m'\u001b[39;49m \u001b[39m-\u001b[39;49m \u001b[39m'\u001b[39;49m\u001b[39mi\u001b[39;49m\u001b[39m'\u001b[39;49m\n",
      "\u001b[1;31mTypeError\u001b[0m: unsupported operand type(s) for -: 'str' and 'str'"
     ]
    }
   ],
   "source": [
    "'Darius' - 'i'"
   ]
  },
  {
   "cell_type": "code",
   "execution_count": 11,
   "metadata": {},
   "outputs": [
    {
     "data": {
      "text/plain": [
       "'hi hi hi hi hi hi hi hi hi hi hi hi hi hi hi hi hi hi hi hi hi hi hi hi hi hi hi hi hi hi hi hi hi hi hi hi hi hi hi hi hi hi hi hi hi hi hi hi hi hi hi hi hi hi hi hi hi hi hi hi hi hi hi hi hi hi hi hi hi hi hi hi hi hi hi hi hi hi hi hi hi hi hi hi hi hi hi hi hi hi hi hi hi hi hi hi hi hi hi hi '"
      ]
     },
     "execution_count": 11,
     "metadata": {},
     "output_type": "execute_result"
    }
   ],
   "source": [
    "'hi ' * 100\n"
   ]
  },
  {
   "cell_type": "code",
   "execution_count": 13,
   "metadata": {},
   "outputs": [
    {
     "ename": "TypeError",
     "evalue": "unsupported operand type(s) for /: 'str' and 'str'",
     "output_type": "error",
     "traceback": [
      "\u001b[1;31m---------------------------------------------------------------------------\u001b[0m",
      "\u001b[1;31mTypeError\u001b[0m                                 Traceback (most recent call last)",
      "\u001b[1;32mc:\\Users\\Robotux\\Documents\\Python\\20221108VCSDMAB2B\\lesson_2.ipynb Cell 8\u001b[0m in \u001b[0;36m<module>\u001b[1;34m\u001b[0m\n\u001b[1;32m----> <a href='vscode-notebook-cell:/c%3A/Users/Robotux/Documents/Python/20221108VCSDMAB2B/lesson_2.ipynb#X12sZmlsZQ%3D%3D?line=0'>1</a>\u001b[0m \u001b[39m'\u001b[39;49m\u001b[39mhi\u001b[39;49m\u001b[39m'\u001b[39;49m \u001b[39m/\u001b[39;49m \u001b[39m'\u001b[39;49m\u001b[39mi\u001b[39;49m\u001b[39m'\u001b[39;49m\n",
      "\u001b[1;31mTypeError\u001b[0m: unsupported operand type(s) for /: 'str' and 'str'"
     ]
    }
   ],
   "source": [
    "'hi' / 'i'"
   ]
  },
  {
   "attachments": {},
   "cell_type": "markdown",
   "metadata": {},
   "source": [
    "### String formating. f-string"
   ]
  },
  {
   "cell_type": "code",
   "execution_count": 22,
   "metadata": {},
   "outputs": [
    {
     "name": "stdout",
     "output_type": "stream",
     "text": [
      "Darius Grigaliunas, nice to meet you! Your number is 42\n",
      "Darius Grigaliunas\n",
      "Darius Grigaliunas, nice to meet you! Your number is 42\n",
      "Darius Grigaliunas, nice to meet you! Your number is 42\n",
      "Darius    Grigaliunas, nice to meet you! Your number is 42\n",
      "Darius Grigaliunas, nice to meet you! Your number is 46\n"
     ]
    }
   ],
   "source": [
    "name = 'Darius'\n",
    "surname = 'Grigaliunas'\n",
    "number = 42\n",
    "\n",
    "# print( name + ' ' + surname + ', nice to meet you! Your number is ' + number ) # error\n",
    "print(name + ' ' + surname + ', nice to meet you! Your number is ' +\n",
    "      str(number))\n",
    "\n",
    "# f-string\n",
    "print(f'{name} {surname}')\n",
    "print(f'{name} {surname}, nice to meet you! Your number is {number}')\n",
    "print(\n",
    "    f'{    name } { surname}, nice to meet you! Your number is {     number}')\n",
    "print(\n",
    "    f'{    name }    { surname}, nice to meet you! Your number is {     number}'\n",
    ")\n",
    "print(f'{name} {surname}, nice to meet you! Your number is {number + 4}')\n"
   ]
  },
  {
   "cell_type": "code",
   "execution_count": 24,
   "metadata": {},
   "outputs": [
    {
     "name": "stdout",
     "output_type": "stream",
     "text": [
      "Darius Grigaliunas\n",
      "Darius Grigaliunas\n"
     ]
    }
   ],
   "source": [
    "vardas = 'Darius'\n",
    "pavarde = \"Grigaliunas\"\n",
    "print(vardas, pavarde)\n",
    "print(f'{vardas} {pavarde}')\n"
   ]
  },
  {
   "cell_type": "code",
   "execution_count": 29,
   "metadata": {},
   "outputs": [
    {
     "name": "stdout",
     "output_type": "stream",
     "text": [
      "PYTHON MAKES ME REALLY HAPPY! TO\n",
      "PyThOn makes me really happy! To\n",
      "PyThOn makes me really happy! TO\n"
     ]
    }
   ],
   "source": [
    "text_1 = 'Python makes me really happy! To'\n",
    "print(text_1.upper())\n",
    "print(text_1.replace('Python', 'PyThOn'))\n",
    "print(text_1.replace('t', 'T').replace('o', 'O'))  # not safe\n"
   ]
  },
  {
   "cell_type": "code",
   "execution_count": 40,
   "metadata": {},
   "outputs": [
    {
     "name": "stdout",
     "output_type": "stream",
     "text": [
      "25\n",
      "25\n",
      "5\n",
      "happy to learn Python!\n",
      "happy\n",
      "lly a\n",
      "to\n",
      "47\n"
     ]
    }
   ],
   "source": [
    "text = 'Hello World, I really am happy to learn Python!'\n",
    "word_to_find = 'happy'\n",
    "\n",
    "print(text.find(word_to_find))\n",
    "print(text.index(word_to_find))\n",
    "print(len(word_to_find))\n",
    "\n",
    "print(text[text.find(word_to_find):])\n",
    "print(text[text.find(word_to_find):text.find(word_to_find) +\n",
    "           len(word_to_find)])\n",
    "print(text[18:18 + 5])\n",
    "\n",
    "word_to_find = 'to'\n",
    "print(text[text.find(word_to_find):text.find(word_to_find) +\n",
    "           len(word_to_find)])\n",
    "\n",
    "print(len(text))\n"
   ]
  },
  {
   "cell_type": "markdown",
   "metadata": {},
   "source": [
    "# Numbers"
   ]
  },
  {
   "cell_type": "code",
   "execution_count": 41,
   "metadata": {},
   "outputs": [
    {
     "name": "stdout",
     "output_type": "stream",
     "text": [
      "<class 'str'>\n",
      "<class 'int'>\n",
      "<class 'float'>\n",
      "<class 'float'>\n"
     ]
    }
   ],
   "source": [
    "number_symbol = '1'\n",
    "int_1 = 1\n",
    "float_1 = 1.0\n",
    "float_2 = 1.\n",
    "\n",
    "print(type(number_symbol))\n",
    "print(type(int_1))\n",
    "print(type(float_1))\n",
    "print(type(float_2))"
   ]
  },
  {
   "attachments": {},
   "cell_type": "markdown",
   "metadata": {},
   "source": [
    "## operations"
   ]
  },
  {
   "cell_type": "code",
   "execution_count": 55,
   "metadata": {},
   "outputs": [
    {
     "name": "stdout",
     "output_type": "stream",
     "text": [
      "15\n",
      "-5\n",
      "50\n",
      "0.5\n",
      "other operations\n",
      "2^2 = 4\n",
      "2^3 = 8\n",
      "2^4 = 16\n",
      "6^4 = 1296\n",
      "floor division\n",
      "1\n",
      "2\n",
      "modulus division\n",
      "5\n",
      "5\n",
      "1\n",
      "0\n",
      "0\n",
      "1\n"
     ]
    }
   ],
   "source": [
    "print(5 + 10)\n",
    "print(5 - 10)\n",
    "print(5 * 10)\n",
    "print(5 / 10)\n",
    "\n",
    "print('other operations')\n",
    "print(f'{2}^{2} = {2 ** 2}')\n",
    "print(f'{2}^{3} = {2 ** 3}')\n",
    "print(f'{2}^{4} = {2 ** 4}')\n",
    "print(f'{6}^{4} = {6 ** 4}')\n",
    "\n",
    "print('floor division')\n",
    "print(15 // 10)\n",
    "print(25 // 10)\n",
    "\n",
    "print('modulus division')\n",
    "print(15 % 10)\n",
    "print(25 % 10)\n",
    "\n",
    "print(16547869 % 2)\n",
    "print(16547868 % 2)\n",
    "\n",
    "print(16547868 % 3)\n",
    "print(45619687 % 3)\n"
   ]
  },
  {
   "cell_type": "code",
   "execution_count": 59,
   "metadata": {},
   "outputs": [
    {
     "name": "stdout",
     "output_type": "stream",
     "text": [
      "8.4\n",
      "6.4\n",
      "5.0\n"
     ]
    }
   ],
   "source": [
    "my_sum = 0\n",
    "\n",
    "my_sum = my_sum + 5.4\n",
    "my_sum = my_sum + 3.0\n",
    "print(my_sum)\n",
    "\n",
    "my_sum = 0\n",
    "my_sum += 5.4\n",
    "my_sum += 1\n",
    "print(my_sum)\n",
    "\n",
    "multiplication = 1\n",
    "multiplication *= 10\n",
    "multiplication *= 0.5\n",
    "print(multiplication)\n"
   ]
  },
  {
   "cell_type": "code",
   "execution_count": 60,
   "metadata": {},
   "outputs": [
    {
     "name": "stdout",
     "output_type": "stream",
     "text": [
      "15\n",
      "-5\n",
      "50\n",
      "0.5\n",
      "5\n"
     ]
    }
   ],
   "source": [
    "int_1 = 5\n",
    "int_2 = 10\n",
    "\n",
    "print(int_1 + int_2)\n",
    "print(int_1 - int_2)\n",
    "print(int_1 * int_2)\n",
    "print(int_1 / int_2)\n",
    "print(int_1 % int_2)\n"
   ]
  },
  {
   "cell_type": "code",
   "execution_count": 61,
   "metadata": {},
   "outputs": [
    {
     "name": "stdout",
     "output_type": "stream",
     "text": [
      "16.04\n",
      "-5.039999999999999\n",
      "57.97\n",
      "0.5218216318785579\n",
      "5.5\n"
     ]
    }
   ],
   "source": [
    "float_1 = 5.5\n",
    "float_2 = 10.54\n",
    "\n",
    "print(float_1 + float_2)\n",
    "print(float_1 - float_2)\n",
    "print(float_1 * float_2)\n",
    "print(float_1 / float_2)\n",
    "print(float_1 % float_2)\n"
   ]
  },
  {
   "cell_type": "code",
   "execution_count": 64,
   "metadata": {},
   "outputs": [
    {
     "name": "stdout",
     "output_type": "stream",
     "text": [
      "Distance to the Sun is 390 greater than to the Moon\n",
      "2560.0\n",
      "106.66666666666667\n",
      "3.5555555555555554\n",
      "0.2962962962962963\n",
      "153600.0\n",
      "9216000.0\n"
     ]
    }
   ],
   "source": [
    "dist_sun = 150_000_000  # same as dist_sun = 150000000\n",
    "dist_moon = 384_000\n",
    "\n",
    "print(f'Distance to the Sun is {dist_sun//dist_moon} greater than to the Moon')\n",
    "\n",
    "speed = 150  # km/h\n",
    "\n",
    "day = speed * 24\n",
    "month = day * 30\n",
    "year = month * 12\n",
    "\n",
    "minutes = speed / 60\n",
    "seconds = minutes / 60\n",
    "\n",
    "print(dist_moon / speed)\n",
    "print(dist_moon / day)\n",
    "print(dist_moon / month)\n",
    "print(dist_moon / year)\n",
    "print(dist_moon / minutes)\n",
    "print(dist_moon / seconds)\n"
   ]
  },
  {
   "cell_type": "code",
   "execution_count": 65,
   "metadata": {},
   "outputs": [
    {
     "data": {
      "text/plain": [
       "10950"
      ]
     },
     "execution_count": 65,
     "metadata": {},
     "output_type": "execute_result"
    }
   ],
   "source": [
    "(2023 - 1993) * 365"
   ]
  },
  {
   "cell_type": "code",
   "execution_count": 67,
   "metadata": {},
   "outputs": [
    {
     "name": "stdout",
     "output_type": "stream",
     "text": [
      "1993-05-23\n",
      "2023-02-23\n",
      "10868\n"
     ]
    }
   ],
   "source": [
    "from datetime import date\n",
    "\n",
    "d0 = date(1993, 5, 23)\n",
    "d1 = date.today()\n",
    "print(d0)\n",
    "print(d1)\n",
    "delta = d1 - d0\n",
    "print(delta.days)\n"
   ]
  },
  {
   "attachments": {},
   "cell_type": "markdown",
   "metadata": {},
   "source": [
    "# Boolean"
   ]
  },
  {
   "cell_type": "code",
   "execution_count": 72,
   "metadata": {},
   "outputs": [
    {
     "name": "stdout",
     "output_type": "stream",
     "text": [
      "True\n",
      "<class 'bool'>\n",
      "False\n",
      "1\n",
      "0\n"
     ]
    }
   ],
   "source": [
    "bool_true = True\n",
    "print(bool_true)\n",
    "print(type(bool_true))\n",
    "bool_false = False\n",
    "print(bool_false)\n",
    "\n",
    "print(int(bool_true))\n",
    "print(int(bool_false))\n"
   ]
  },
  {
   "cell_type": "code",
   "execution_count": 77,
   "metadata": {},
   "outputs": [
    {
     "name": "stdout",
     "output_type": "stream",
     "text": [
      "True\n",
      "True\n",
      "True\n",
      "True\n",
      "False\n"
     ]
    }
   ],
   "source": [
    "print(bool(1))\n",
    "print(bool(2))\n",
    "print(bool(0.0001))\n",
    "print(bool(-40))\n",
    "print(bool(0))  # only possible way to get False from number\n"
   ]
  },
  {
   "cell_type": "code",
   "execution_count": 80,
   "metadata": {},
   "outputs": [
    {
     "name": "stdout",
     "output_type": "stream",
     "text": [
      "True\n",
      "True\n",
      "True\n",
      "True\n",
      "False\n"
     ]
    }
   ],
   "source": [
    "print(bool('45'))\n",
    "print(bool(\"hello\"))\n",
    "print(bool(' '))\n",
    "print(bool('0'))\n",
    "print(bool(''))  # only possible way to get False from string\n"
   ]
  },
  {
   "cell_type": "code",
   "execution_count": 89,
   "metadata": {},
   "outputs": [
    {
     "name": "stdout",
     "output_type": "stream",
     "text": [
      "False\n",
      "True\n",
      ">=\n",
      "True\n",
      "False\n",
      "<=\n",
      "False\n",
      "True\n",
      "True\n",
      "==\n",
      "False\n",
      "True\n",
      "False\n",
      "!=\n",
      "True\n",
      "False\n",
      "True\n"
     ]
    }
   ],
   "source": [
    "print( 2 > 5)\n",
    "print( 2 < 5)\n",
    "\n",
    "print ('>=')\n",
    "print( 2 >= 2)\n",
    "print( 2 >= 3)\n",
    "\n",
    "print ('<=')\n",
    "print( 2 <= 1)\n",
    "print( 2 <= 2)\n",
    "print( 2 <= 3)\n",
    "\n",
    "print ('==')\n",
    "print( 2 == 1)\n",
    "print( 2 == 2) # == - comparison, = - assingment\n",
    "print( 2 == 3)\n",
    "\n",
    "print ('!=')# not equal\n",
    "print( 2 != 1)\n",
    "print( 2 != 2) \n",
    "print( 2 != 3)"
   ]
  },
  {
   "attachments": {},
   "cell_type": "markdown",
   "metadata": {},
   "source": [
    "## in"
   ]
  },
  {
   "cell_type": "code",
   "execution_count": 97,
   "metadata": {},
   "outputs": [
    {
     "name": "stdout",
     "output_type": "stream",
     "text": [
      "True\n",
      "False\n",
      "False\n",
      "False\n",
      "True\n",
      "True\n"
     ]
    }
   ],
   "source": [
    "text = 'Hello world'\n",
    "bool_1 = 'd' in text\n",
    "print (bool_1)\n",
    "print ('D' in text)\n",
    "print ('h' in text)\n",
    "print( text.islower() )\n",
    "print( text.lower().islower() )\n",
    "print ('h' in text.lower() )"
   ]
  },
  {
   "attachments": {},
   "cell_type": "markdown",
   "metadata": {},
   "source": [
    "## not"
   ]
  },
  {
   "cell_type": "code",
   "execution_count": 101,
   "metadata": {},
   "outputs": [
    {
     "name": "stdout",
     "output_type": "stream",
     "text": [
      "False\n",
      "True\n",
      "False\n",
      "True\n"
     ]
    }
   ],
   "source": [
    "print( not True )\n",
    "print( not False )\n",
    "print( not not False )\n",
    "print( not not not False )"
   ]
  },
  {
   "attachments": {},
   "cell_type": "markdown",
   "metadata": {},
   "source": [
    "## and, or "
   ]
  },
  {
   "cell_type": "code",
   "execution_count": 105,
   "metadata": {},
   "outputs": [
    {
     "name": "stdout",
     "output_type": "stream",
     "text": [
      "and\n",
      "True\n",
      "False\n",
      "False\n",
      "or\n",
      "True\n",
      "True\n",
      "False\n"
     ]
    }
   ],
   "source": [
    "a = 2\n",
    "b = 5 \n",
    "c = -10\n",
    "\n",
    "print ('and')\n",
    "print ( a < b and b > c )\n",
    "print ( a > b and b > c )\n",
    "print ( a > b and b < c )\n",
    "\n",
    "print ('or')\n",
    "print ( a < b or b > c )\n",
    "print ( a > b or b > c )\n",
    "print ( a > b or b < c )"
   ]
  },
  {
   "cell_type": "code",
   "execution_count": 106,
   "metadata": {},
   "outputs": [
    {
     "name": "stdout",
     "output_type": "stream",
     "text": [
      "True\n"
     ]
    }
   ],
   "source": [
    "print ( a < b and b > c or 1 > 5)"
   ]
  },
  {
   "cell_type": "code",
   "execution_count": 107,
   "metadata": {},
   "outputs": [
    {
     "name": "stdout",
     "output_type": "stream",
     "text": [
      "True\n",
      "True\n",
      "True\n",
      "True\n",
      "True\n"
     ]
    }
   ],
   "source": [
    "print (10 > 5)\n",
    "print ('a' in 'auto')\n",
    "test = bool(1)\n",
    "print(test)\n",
    "print(bool('oo'))\n",
    "print( not False )"
   ]
  },
  {
   "cell_type": "code",
   "execution_count": 108,
   "metadata": {},
   "outputs": [
    {
     "name": "stdout",
     "output_type": "stream",
     "text": [
      "False\n",
      "False\n",
      "False\n",
      "False\n",
      "False\n"
     ]
    }
   ],
   "source": [
    "print (10 < 5)\n",
    "print ('A' in 'auto')\n",
    "test = bool(0)\n",
    "print(test)\n",
    "print(bool(''))\n",
    "print( not True )"
   ]
  },
  {
   "cell_type": "code",
   "execution_count": 109,
   "metadata": {},
   "outputs": [
    {
     "name": "stdout",
     "output_type": "stream",
     "text": [
      "False\n",
      "False\n"
     ]
    }
   ],
   "source": [
    "print(bool(0))\n",
    "print(bool(''))"
   ]
  },
  {
   "attachments": {},
   "cell_type": "markdown",
   "metadata": {},
   "source": [
    "# List"
   ]
  },
  {
   "cell_type": "code",
   "execution_count": 112,
   "metadata": {},
   "outputs": [],
   "source": [
    "cities = ['Vilnius', 'Kaunas', 'London']"
   ]
  },
  {
   "cell_type": "code",
   "execution_count": 118,
   "metadata": {},
   "outputs": [
    {
     "name": "stdout",
     "output_type": "stream",
     "text": [
      "['Vilnius', 'Kaunas', 'London']\n",
      "<class 'list'>\n",
      "Vilnius\n",
      "<class 'str'>\n",
      "['Kaunas', 'London']\n",
      "['Vilnius', 'Kaunas']\n"
     ]
    }
   ],
   "source": [
    "print( cities)\n",
    "print( type(cities) )\n",
    "print( cities[0] )\n",
    "print( type(cities[0]) )\n",
    "\n",
    "print( cities[1:] )\n",
    "print( cities[:2] )\n"
   ]
  },
  {
   "cell_type": "code",
   "execution_count": 122,
   "metadata": {},
   "outputs": [
    {
     "name": "stdout",
     "output_type": "stream",
     "text": [
      "7\n",
      "<class 'int'>\n",
      "<class 'bool'>\n",
      "<class 'str'>\n"
     ]
    }
   ],
   "source": [
    "numbers = [ 1,654,7,6987,7,'87', False ] # try to not mix types in same list\n",
    "\n",
    "print(len(numbers))\n",
    "print(type(numbers[0]))\n",
    "print(type(numbers[-1]))\n",
    "print(type(numbers[-2]))\n"
   ]
  },
  {
   "cell_type": "code",
   "execution_count": 128,
   "metadata": {},
   "outputs": [
    {
     "name": "stdout",
     "output_type": "stream",
     "text": [
      "[14, 786, 7]\n",
      "[14, 786, 7, 500]\n",
      "None\n",
      "[14, 786, 7, 500, 999]\n",
      "999\n",
      "[14, 786, 7, 500]\n"
     ]
    }
   ],
   "source": [
    "numbers = [14,786,7]\n",
    "print(numbers)\n",
    "numbers.append( 500 )\n",
    "print(numbers)\n",
    "print( numbers.append( 999 ) )\n",
    "print(numbers)\n",
    "print( numbers.pop() )\n",
    "print(numbers)"
   ]
  },
  {
   "cell_type": "code",
   "execution_count": null,
   "metadata": {},
   "outputs": [],
   "source": []
  }
 ],
 "metadata": {
  "kernelspec": {
   "display_name": "Python 3",
   "language": "python",
   "name": "python3"
  },
  "language_info": {
   "codemirror_mode": {
    "name": "ipython",
    "version": 3
   },
   "file_extension": ".py",
   "mimetype": "text/x-python",
   "name": "python",
   "nbconvert_exporter": "python",
   "pygments_lexer": "ipython3",
   "version": "3.10.2"
  },
  "orig_nbformat": 4,
  "vscode": {
   "interpreter": {
    "hash": "db50a459ab6695ace3368e8957af3456c8c93e92d9fe6c38987133d01669da40"
   }
  }
 },
 "nbformat": 4,
 "nbformat_minor": 2
}
