{
 "cells": [
  {
   "attachments": {},
   "cell_type": "markdown",
   "metadata": {},
   "source": [
    "# If statement"
   ]
  },
  {
   "cell_type": "code",
   "execution_count": 5,
   "metadata": {},
   "outputs": [
    {
     "name": "stdout",
     "output_type": "stream",
     "text": [
      "15\n"
     ]
    }
   ],
   "source": [
    "age = int( input( \"Enter your age:\" ) )\n",
    "print( age )\n",
    "\n",
    "if age >= 18:\n",
    "    print(f'You are above 18 years old')\n"
   ]
  },
  {
   "cell_type": "code",
   "execution_count": 7,
   "metadata": {},
   "outputs": [
    {
     "name": "stdout",
     "output_type": "stream",
     "text": [
      "15\n",
      "You are under 18 years old\n"
     ]
    }
   ],
   "source": [
    "age = int( input( \"Enter your age:\" ) )\n",
    "print( age )\n",
    "\n",
    "if age >= 18:\n",
    "    print(f'You are above 18 years old')\n",
    "else:\n",
    "    print(f'You are under 18 years old')"
   ]
  },
  {
   "cell_type": "code",
   "execution_count": 9,
   "metadata": {},
   "outputs": [
    {
     "name": "stdout",
     "output_type": "stream",
     "text": [
      "15\n",
      "You are between 12 and 18 years old\n"
     ]
    }
   ],
   "source": [
    "age = int( input( \"Enter your age:\" ) )\n",
    "print( age )\n",
    "\n",
    "if age >= 18:\n",
    "    print('You are above 18 years old')\n",
    "elif age >= 12:\n",
    "    print('You are between 12 and 18 years old')\n",
    "else:\n",
    "    print('You are under 18 years old')"
   ]
  },
  {
   "cell_type": "code",
   "execution_count": 10,
   "metadata": {},
   "outputs": [
    {
     "name": "stdout",
     "output_type": "stream",
     "text": [
      "12\n",
      "You are between 12 and 18 years old\n"
     ]
    }
   ],
   "source": [
    "age = int( input( \"Enter your age:\" ) )\n",
    "print( age )\n",
    "\n",
    "if age >= 18:\n",
    "    print('You are above 18 years old')\n",
    "elif age >= 12:\n",
    "    print('You are between 12 and 18 years old')\n",
    "elif age >= 8:\n",
    "    print('You are between 8 and 12 years old')\n",
    "else:\n",
    "    print('You are under 18 years old')"
   ]
  },
  {
   "cell_type": "code",
   "execution_count": 11,
   "metadata": {},
   "outputs": [
    {
     "name": "stdout",
     "output_type": "stream",
     "text": [
      "13\n",
      "You are between 8 and 12 years old\n"
     ]
    }
   ],
   "source": [
    "age = int( input( \"Enter your age:\" ) )\n",
    "print( age )\n",
    "\n",
    "# THIS ONE IS BAD\n",
    "if age >= 18:\n",
    "    print('You are above 18 years old')\n",
    "elif age >= 8:\n",
    "    print('You are between 8 and 12 years old')\n",
    "elif age >= 12: # THIS WRONG ORDER. WILL NEVER BE EXECUTED\n",
    "    print('You are between 12 and 18 years old')\n",
    "else:\n",
    "    print('You are under 18 years old')"
   ]
  },
  {
   "cell_type": "code",
   "execution_count": 18,
   "metadata": {},
   "outputs": [
    {
     "name": "stdout",
     "output_type": "stream",
     "text": [
      "4 is not dividable by 3\n"
     ]
    }
   ],
   "source": [
    "number = int( input( \"Enter a number:\" ) )\n",
    "# print(number)\n",
    "\n",
    "if number % 3 == 0:\n",
    "    print(f'{number} is dividable by 3')\n",
    "else:\n",
    "    print(f'{number} is not dividable by 3')"
   ]
  },
  {
   "cell_type": "code",
   "execution_count": 21,
   "metadata": {},
   "outputs": [
    {
     "name": "stdout",
     "output_type": "stream",
     "text": [
      "3\n",
      "6\n",
      "9\n",
      "12\n",
      "15\n",
      "18\n"
     ]
    }
   ],
   "source": [
    "for i in range ( 1, 21 ):\n",
    "    if i % 3 == 0:\n",
    "        print ( i )\n",
    "    # if i > 10:\n",
    "    #     break"
   ]
  },
  {
   "cell_type": "code",
   "execution_count": 22,
   "metadata": {},
   "outputs": [
    {
     "name": "stdout",
     "output_type": "stream",
     "text": [
      "New current amount is 2\n",
      "New current amount is 6\n",
      "New current amount is 12\n",
      "New current amount is 20\n",
      "New current amount is 30\n",
      "New current amount is 42\n",
      "New current amount is 56\n",
      "New current amount is 72\n",
      "New current amount is 90\n",
      "New current amount is 110\n",
      "New current amount is 132\n",
      "New current amount is 156\n",
      "New current amount is 182\n",
      "New current amount is 210\n",
      "New current amount is 240\n",
      "New current amount is 272\n",
      "New current amount is 306\n",
      "New current amount is 342\n",
      "New current amount is 380\n",
      "New current amount is 420\n",
      "New current amount is 462\n",
      "New current amount is 506\n",
      "New current amount is 552\n",
      "New current amount is 600\n",
      "New current amount is 650\n",
      "650\n"
     ]
    }
   ],
   "source": [
    "current_amount = 0\n",
    "for i in range (1, 51):\n",
    "    current_amount += i\n",
    "    if current_amount % 2 == 0:\n",
    "        print (f'New current amount is {current_amount}')\n",
    "    else:\n",
    "        current_amount -= i\n",
    "print ( current_amount )"
   ]
  },
  {
   "cell_type": "code",
   "execution_count": 23,
   "metadata": {},
   "outputs": [
    {
     "name": "stdout",
     "output_type": "stream",
     "text": [
      "2\n",
      "6\n",
      "12\n",
      "20\n",
      "30\n",
      "42\n",
      "56\n",
      "72\n",
      "90\n",
      "110\n",
      "132\n",
      "156\n",
      "182\n",
      "210\n",
      "240\n",
      "272\n",
      "306\n",
      "342\n",
      "380\n",
      "420\n",
      "462\n",
      "506\n",
      "552\n",
      "600\n",
      "650\n"
     ]
    }
   ],
   "source": [
    "current_amount = 0\n",
    "for i in range (1, 51):\n",
    "    if (current_amount + i) % 2 == 0:\n",
    "        current_amount += i\n",
    "        print(current_amount)"
   ]
  },
  {
   "cell_type": "code",
   "execution_count": 32,
   "metadata": {},
   "outputs": [
    {
     "name": "stdout",
     "output_type": "stream",
     "text": [
      "[('Monday', 12), ('Monday', 13), ('Monday', 14), ('Monday', 15), ('Monday', 16), ('Monday', 17), ('Wednesday', 12), ('Wednesday', 13), ('Wednesday', 14), ('Wednesday', 15), ('Wednesday', 16), ('Wednesday', 17)]\n"
     ]
    }
   ],
   "source": [
    "days = ('Monday', 'Tuesday', 'Wednesday', 'Thursday', 'Friday', 'Saturday' , 'Sunday')\n",
    "hours = [10, 11, 12, 13, 14, 15, 16, 17, 18, 19]\n",
    "\n",
    "combinations = []\n",
    "\n",
    "for day in days:\n",
    "    # if day == 'Monday' or day == 'Wednesday':\n",
    "    if day in ['Monday', 'Wednesday']:\n",
    "        for hour in hours:\n",
    "            # print(day, hour)\n",
    "            if hour in range(12, 18):\n",
    "                combinations.append( (day, hour) )\n",
    "\n",
    "print(combinations)"
   ]
  },
  {
   "cell_type": "code",
   "execution_count": null,
   "metadata": {},
   "outputs": [],
   "source": [
    "full_list = []\n",
    "days = ('Monday', 'Tuesday', 'Wednesday', 'Thursday', 'Friday', 'Saturday' , 'Sunday')\n",
    "hours = [10, 11, 12, 13, 14, 15, 16, 17, 18, 19]\n",
    "\n",
    "for day in days:\n",
    "    for hour in hours:\n",
    "        if day == 'Monday' or day == 'Wednesday':\n",
    "            if hour > 11 and hour <18:\n",
    "                full_list.append((day, hour))"
   ]
  },
  {
   "attachments": {},
   "cell_type": "markdown",
   "metadata": {},
   "source": [
    "# None a.k.a null, nill, NaN"
   ]
  },
  {
   "cell_type": "code",
   "execution_count": 33,
   "metadata": {},
   "outputs": [
    {
     "name": "stdout",
     "output_type": "stream",
     "text": [
      "None\n",
      "<class 'NoneType'>\n"
     ]
    }
   ],
   "source": [
    "nothing = None\n",
    "print(nothing)\n",
    "print(type(nothing))"
   ]
  },
  {
   "cell_type": "code",
   "execution_count": 38,
   "metadata": {},
   "outputs": [],
   "source": [
    "import random\n",
    "\n",
    "name = ''\n",
    "\n",
    "if random.random() > 0.5:\n",
    "    name = input('Enter your name:')\n",
    "\n",
    "if name != '':\n",
    "    print(f'Hello {name}!')"
   ]
  },
  {
   "cell_type": "code",
   "execution_count": 42,
   "metadata": {},
   "outputs": [
    {
     "name": "stdout",
     "output_type": "stream",
     "text": [
      "Hello Darius!\n"
     ]
    }
   ],
   "source": [
    "import random\n",
    "\n",
    "name = None\n",
    "\n",
    "if random.random() > 0.5:\n",
    "    name = input('Enter your name:')\n",
    "\n",
    "if name is not None and name != '':\n",
    "    print(f'Hello {name}!')\n",
    "elif name is not None and name == '':\n",
    "    print(f'We couldn\\'t read your name. Please try again')\n",
    "else:\n",
    "    print('we didn\\'t ask for the name')"
   ]
  },
  {
   "attachments": {},
   "cell_type": "markdown",
   "metadata": {},
   "source": [
    "# Dictionary"
   ]
  },
  {
   "cell_type": "code",
   "execution_count": 43,
   "metadata": {},
   "outputs": [],
   "source": [
    "me = {\n",
    "    'name': 'Darius',\n",
    "    'surname': 'Grigaliunas',\n",
    "    'hobbies': ['tennis', 'football'],\n",
    "    'age': 265\n",
    "}"
   ]
  },
  {
   "cell_type": "code",
   "execution_count": 44,
   "metadata": {},
   "outputs": [
    {
     "name": "stdout",
     "output_type": "stream",
     "text": [
      "{'name': 'Darius', 'surname': 'Grigaliunas', 'hobbies': ['tennis', 'football'], 'age': 265}\n"
     ]
    }
   ],
   "source": [
    "print(me)"
   ]
  },
  {
   "cell_type": "code",
   "execution_count": 46,
   "metadata": {},
   "outputs": [
    {
     "ename": "KeyError",
     "evalue": "'non_existing_key'",
     "output_type": "error",
     "traceback": [
      "\u001b[1;31m---------------------------------------------------------------------------\u001b[0m",
      "\u001b[1;31mKeyError\u001b[0m                                  Traceback (most recent call last)",
      "\u001b[1;32mc:\\Users\\Robotux\\Documents\\Python\\20221108VCSDMAB2B\\lesson_4.ipynb Cell 20\u001b[0m in \u001b[0;36m<module>\u001b[1;34m\u001b[0m\n\u001b[0;32m      <a href='vscode-notebook-cell:/c%3A/Users/Robotux/Documents/Python/20221108VCSDMAB2B/lesson_4.ipynb#X25sZmlsZQ%3D%3D?line=0'>1</a>\u001b[0m \u001b[39m# me[0]\u001b[39;00m\n\u001b[1;32m----> <a href='vscode-notebook-cell:/c%3A/Users/Robotux/Documents/Python/20221108VCSDMAB2B/lesson_4.ipynb#X25sZmlsZQ%3D%3D?line=1'>2</a>\u001b[0m me[\u001b[39m'\u001b[39;49m\u001b[39mnon_existing_key\u001b[39;49m\u001b[39m'\u001b[39;49m]\n",
      "\u001b[1;31mKeyError\u001b[0m: 'non_existing_key'"
     ]
    }
   ],
   "source": [
    "me[0]\n",
    "# me['non_existing_key']"
   ]
  },
  {
   "cell_type": "code",
   "execution_count": 48,
   "metadata": {},
   "outputs": [
    {
     "name": "stdout",
     "output_type": "stream",
     "text": [
      "Darius\n",
      "['tennis', 'football']\n"
     ]
    }
   ],
   "source": [
    "print( me['name'] )\n",
    "print( me['hobbies'] )"
   ]
  },
  {
   "cell_type": "code",
   "execution_count": 50,
   "metadata": {},
   "outputs": [
    {
     "name": "stdout",
     "output_type": "stream",
     "text": [
      "{'name': 'Darius', 'surname': 'Grigaliunas', 'hobbies': ['tennis', 'football'], 'age': 265, 'country': 'Lithuania'}\n",
      "{'name': 'Darius', 'surname': 'Grigaliunas', 'hobbies': ['tennis', 'football'], 'age': 265, 'country': 'Denmark'}\n"
     ]
    }
   ],
   "source": [
    "me['country'] = 'Lithuania'\n",
    "print(me)\n",
    "me['country'] = 'Denmark'\n",
    "print(me)"
   ]
  },
  {
   "cell_type": "code",
   "execution_count": 58,
   "metadata": {},
   "outputs": [
    {
     "name": "stdout",
     "output_type": "stream",
     "text": [
      "True value\n",
      "False value\n",
      "None value\n",
      "number 2\n"
     ]
    },
    {
     "ename": "KeyError",
     "evalue": "3",
     "output_type": "error",
     "traceback": [
      "\u001b[1;31m---------------------------------------------------------------------------\u001b[0m",
      "\u001b[1;31mKeyError\u001b[0m                                  Traceback (most recent call last)",
      "\u001b[1;32mc:\\Users\\Robotux\\Documents\\Python\\20221108VCSDMAB2B\\lesson_4.ipynb Cell 23\u001b[0m in \u001b[0;36m<module>\u001b[1;34m\u001b[0m\n\u001b[0;32m      <a href='vscode-notebook-cell:/c%3A/Users/Robotux/Documents/Python/20221108VCSDMAB2B/lesson_4.ipynb#X31sZmlsZQ%3D%3D?line=8'>9</a>\u001b[0m \u001b[39mprint\u001b[39m (strange_dict[\u001b[39mNone\u001b[39;00m])\n\u001b[0;32m     <a href='vscode-notebook-cell:/c%3A/Users/Robotux/Documents/Python/20221108VCSDMAB2B/lesson_4.ipynb#X31sZmlsZQ%3D%3D?line=9'>10</a>\u001b[0m \u001b[39mprint\u001b[39m (strange_dict[\u001b[39m2\u001b[39m])\n\u001b[1;32m---> <a href='vscode-notebook-cell:/c%3A/Users/Robotux/Documents/Python/20221108VCSDMAB2B/lesson_4.ipynb#X31sZmlsZQ%3D%3D?line=10'>11</a>\u001b[0m \u001b[39mprint\u001b[39m (strange_dict[\u001b[39m3\u001b[39;49m])\n",
      "\u001b[1;31mKeyError\u001b[0m: 3"
     ]
    }
   ],
   "source": [
    "strange_dict = {\n",
    "    True: 'True value',\n",
    "    False: 'False value',\n",
    "    None: 'None value',\n",
    "    2: 'number 2'\n",
    "}\n",
    "print (strange_dict[True])\n",
    "print (strange_dict[False])\n",
    "print (strange_dict[None])\n",
    "print (strange_dict[2])\n",
    "print (strange_dict[3])"
   ]
  },
  {
   "cell_type": "code",
   "execution_count": 63,
   "metadata": {},
   "outputs": [
    {
     "name": "stdout",
     "output_type": "stream",
     "text": [
      "[{'name': 'John', 'age': 30}, {'name': 'Ben', 'age': 22}, {'name': 'Bob', 'age': 50}]\n",
      "{'name': 'John', 'age': 30}\n",
      "John\n",
      "your name is John and your age is 30 \n",
      "your name is Ben and your age is 22 \n",
      "your name is Bob and your age is 50 \n"
     ]
    }
   ],
   "source": [
    "people = [\n",
    "    {'name':'John', 'age': 30},\n",
    "    {'name':'Ben', 'age':22},\n",
    "    {'name':'Bob', 'age':50}\n",
    "]\n",
    "\n",
    "print(people)\n",
    "print(people[0])\n",
    "print(people[0]['name'])\n",
    "\n",
    "for person in people:\n",
    "    print(f\"your name is {person['name']} and your age is {person['age']} \")"
   ]
  },
  {
   "cell_type": "code",
   "execution_count": 65,
   "metadata": {},
   "outputs": [
    {
     "name": "stdout",
     "output_type": "stream",
     "text": [
      "{'name': 'Darius', 'surname': 'Grigaliunas', 'hobbies': ['tennis', 'football'], 'age': 265, 'country': 'Denmark'}\n",
      "5\n"
     ]
    }
   ],
   "source": [
    "print(me)\n",
    "print(len(me))"
   ]
  },
  {
   "attachments": {},
   "cell_type": "markdown",
   "metadata": {},
   "source": [
    "## deleting pairs"
   ]
  },
  {
   "cell_type": "code",
   "execution_count": 68,
   "metadata": {},
   "outputs": [
    {
     "name": "stdout",
     "output_type": "stream",
     "text": [
      "{'name': 'Darius', 'surname': 'Grigaliunas', 'hobbies': ['tennis', 'football'], 'age': 265}\n",
      "265\n",
      "{'name': 'Darius', 'surname': 'Grigaliunas', 'hobbies': ['tennis', 'football']}\n",
      "{'name': 'Darius', 'surname': 'Grigaliunas'}\n"
     ]
    }
   ],
   "source": [
    "me = {\n",
    "    'name': 'Darius',\n",
    "    'surname': 'Grigaliunas',\n",
    "    'hobbies': ['tennis', 'football'],\n",
    "    'age': 265\n",
    "}\n",
    "print(me)\n",
    "print( me.pop('age') )\n",
    "print(me)\n",
    "del me['hobbies']\n",
    "print(me)"
   ]
  },
  {
   "attachments": {},
   "cell_type": "markdown",
   "metadata": {},
   "source": [
    "Dictionaries are mutable. Be careful when making copies "
   ]
  },
  {
   "attachments": {},
   "cell_type": "markdown",
   "metadata": {},
   "source": [
    "# dict methods"
   ]
  },
  {
   "cell_type": "code",
   "execution_count": 70,
   "metadata": {},
   "outputs": [
    {
     "name": "stdout",
     "output_type": "stream",
     "text": [
      "('age', 265)\n",
      "{'name': 'Darius', 'surname': 'Grigaliunas', 'hobbies': ['tennis', 'football']}\n",
      "('hobbies', ['tennis', 'football'])\n",
      "{'name': 'Darius', 'surname': 'Grigaliunas'}\n"
     ]
    }
   ],
   "source": [
    "me = {\n",
    "    'name': 'Darius',\n",
    "    'surname': 'Grigaliunas',\n",
    "    'hobbies': ['tennis', 'football'],\n",
    "    'age': 265\n",
    "}\n",
    "print( me.popitem() )\n",
    "print( me )\n",
    "print( me.popitem() )\n",
    "print( me )"
   ]
  },
  {
   "cell_type": "code",
   "execution_count": 78,
   "metadata": {},
   "outputs": [
    {
     "name": "stdout",
     "output_type": "stream",
     "text": [
      "None\n",
      "Grigaliunas\n",
      "could not find the key\n",
      "0\n",
      "0\n"
     ]
    }
   ],
   "source": [
    "me = {\n",
    "    'name': 'Darius',\n",
    "    'surname': 'Grigaliunas',\n",
    "    'hobbies': ['tennis', 'football'],\n",
    "    'age': 265\n",
    "}\n",
    "# print( me['not_exist'] ) # error\n",
    "print (me.get('not_exist') )\n",
    "print (me.get('surname') )\n",
    "print (me.get('not_exist', 'could not find the key') )\n",
    "print (me.get('not_exist', 0) )\n",
    "\n",
    "print (me.get('age', 0) )"
   ]
  },
  {
   "cell_type": "code",
   "execution_count": 80,
   "metadata": {},
   "outputs": [
    {
     "name": "stdout",
     "output_type": "stream",
     "text": [
      "{'name': 'Darius', 'surname': 'Grigaliunas', 'hobbies': ['tennis', 'football'], 'age': 26}\n",
      "{'name': 'Darius', 'surname': 'Grigaliunas', 'hobbies': ['tennis', 'bicycle'], 'age': 27, 'city': 'Vilnius'}\n"
     ]
    }
   ],
   "source": [
    "me = {\n",
    "    'name': 'Darius',\n",
    "    'surname': 'Grigaliunas',\n",
    "    'hobbies': ['tennis', 'football'],\n",
    "    'age': 265\n",
    "}\n",
    "me['age'] = 26\n",
    "print(me)\n",
    "update_dict = { 'hobbies': ['tennis', 'bicycle' ], 'age': 27, 'city': 'Vilnius' }\n",
    "me.update( update_dict )\n",
    "print(me)"
   ]
  },
  {
   "cell_type": "code",
   "execution_count": 83,
   "metadata": {},
   "outputs": [
    {
     "name": "stdout",
     "output_type": "stream",
     "text": [
      "dict_keys(['name', 'surname', 'hobbies', 'age', 'city'])\n",
      "name\n",
      "surname\n",
      "hobbies\n",
      "age\n",
      "city\n"
     ]
    }
   ],
   "source": [
    "print( me.keys() )\n",
    "\n",
    "# for key in me.keys(): # same\n",
    "for key in me:\n",
    "    print(key)"
   ]
  },
  {
   "cell_type": "code",
   "execution_count": 84,
   "metadata": {},
   "outputs": [
    {
     "name": "stdout",
     "output_type": "stream",
     "text": [
      "Darius\n",
      "Grigaliunas\n",
      "['tennis', 'bicycle']\n",
      "27\n",
      "Vilnius\n"
     ]
    }
   ],
   "source": [
    "for val in me.values():\n",
    "    print(val)"
   ]
  },
  {
   "cell_type": "code",
   "execution_count": 86,
   "metadata": {},
   "outputs": [
    {
     "name": "stdout",
     "output_type": "stream",
     "text": [
      "key is name with a value of Darius\n",
      "key is surname with a value of Grigaliunas\n",
      "key is hobbies with a value of ['tennis', 'bicycle']\n",
      "key is age with a value of 27\n",
      "key is city with a value of Vilnius\n"
     ]
    }
   ],
   "source": [
    "# for key, value in me.items():\n",
    "for k, v in me.items():\n",
    "    print(f'key is {k} with a value of {v}')"
   ]
  },
  {
   "attachments": {},
   "cell_type": "markdown",
   "metadata": {},
   "source": [
    "https://developer.twitter.com/en/docs/twitter-api/data-dictionary/example-payloads"
   ]
  },
  {
   "cell_type": "code",
   "execution_count": 87,
   "metadata": {},
   "outputs": [],
   "source": [
    "twitter_post = {\n",
    "  \"created_at\": \"Tue Feb 27 21:11:40 +0000 2018\",\n",
    "  \"id\": 968594506663669800,\n",
    "  \"id_str\": \"968594506663669760\",\n",
    "  \"text\": \"RT @honeydrop_506: 180222 ICN #백현 #BAEKHYUNnn나의 겨울과 너nn#iHeartAwards #BestFanArmy #EXOL @weareoneEXO https://t.co/hg7I3xAlBg\",\n",
    "  \"truncated\": False,\n",
    "  \"in_reply_to_status_id\": None,\n",
    "  \"in_reply_to_status_id_str\": None,\n",
    "  \"in_reply_to_user_id\": None,\n",
    "  \"in_reply_to_user_id_str\": None,\n",
    "  \"in_reply_to_screen_name\": None,\n",
    "  \"user\": {\n",
    "    \"id\": 4448809940,\n",
    "    \"id_str\": \"4448809940\",\n",
    "    \"name\": \"ayah\",\n",
    "    \"screen_name\": \"lovbyun\",\n",
    "    \"location\": \"bbh iu jjh pcy kjd dks\",\n",
    "    \"url\": \"https://curiouscat.me/baekhyun-l\",\n",
    "    \"description\": \"hi hello I love exo\",\n",
    "    \"translator_type\": \"none\",\n",
    "    \"protected\": False,\n",
    "    \"verified\": False,\n",
    "    \"followers_count\": 1142,\n",
    "    \"friends_count\": 125,\n",
    "    \"listed_count\": 20,\n",
    "    \"favourites_count\": 5712,\n",
    "    \"statuses_count\": 4011,\n",
    "    \"created_at\": \"Fri Dec 04 03:44:59 +0000 2015\",\n",
    "    \"utc_offset\": -28800,\n",
    "    \"time_zone\": \"Pacific Time (US & Canada)\",\n",
    "    \"geo_enabled\": False,\n",
    "    \"lang\": \"en\",\n",
    "    \"contributors_enabled\": False,\n",
    "    \"is_translator\": False,\n",
    "    \"profile_background_color\": \"000000\",\n",
    "    \"profile_background_image_url\": \"http://abs.twimg.com/images/themes/theme1/bg.png\",\n",
    "    \"profile_background_image_url_https\": \"https://abs.twimg.com/images/themes/theme1/bg.png\",\n",
    "    \"profile_background_tile\": False,\n",
    "    \"profile_link_color\": \"F58EA8\",\n",
    "    \"profile_sidebar_border_color\": \"000000\",\n",
    "    \"profile_sidebar_fill_color\": \"000000\",\n",
    "    \"profile_text_color\": \"000000\",\n",
    "    \"profile_use_background_image\": False,\n",
    "    \"profile_image_url\": \"http://pbs.twimg.com/profile_images/967130320259526656/0xZ-wxXJ_normal.jpg\",\n",
    "    \"profile_image_url_https\": \"https://pbs.twimg.com/profile_images/967130320259526656/0xZ-wxXJ_normal.jpg\",\n",
    "    \"profile_banner_url\": \"https://pbs.twimg.com/profile_banners/4448809940/1519340670\",\n",
    "    \"default_profile\": False,\n",
    "    \"default_profile_image\": False,\n",
    "    \"following\": None,\n",
    "    \"follow_request_sent\": None,\n",
    "    \"notifications\": None\n",
    "  },\n",
    "}"
   ]
  },
  {
   "cell_type": "code",
   "execution_count": 89,
   "metadata": {},
   "outputs": [
    {
     "name": "stdout",
     "output_type": "stream",
     "text": [
      "125\n",
      "125\n"
     ]
    }
   ],
   "source": [
    "print(twitter_post[\"user\"].get('friends_count')) \n",
    "print(twitter_post[\"user\"][\"friends_count\"])\n"
   ]
  },
  {
   "cell_type": "code",
   "execution_count": null,
   "metadata": {},
   "outputs": [],
   "source": []
  }
 ],
 "metadata": {
  "kernelspec": {
   "display_name": "Python 3",
   "language": "python",
   "name": "python3"
  },
  "language_info": {
   "codemirror_mode": {
    "name": "ipython",
    "version": 3
   },
   "file_extension": ".py",
   "mimetype": "text/x-python",
   "name": "python",
   "nbconvert_exporter": "python",
   "pygments_lexer": "ipython3",
   "version": "3.10.2"
  },
  "orig_nbformat": 4,
  "vscode": {
   "interpreter": {
    "hash": "db50a459ab6695ace3368e8957af3456c8c93e92d9fe6c38987133d01669da40"
   }
  }
 },
 "nbformat": 4,
 "nbformat_minor": 2
}
