{
 "cells": [
  {
   "attachments": {},
   "cell_type": "markdown",
   "metadata": {},
   "source": [
    "# Homework 3"
   ]
  },
  {
   "attachments": {},
   "cell_type": "markdown",
   "metadata": {},
   "source": [
    "1) Create a list of 10 words and answer these questions:  \n",
    "How many words are longer than 10 characters  \n",
    "Which word is the longest and shortest  \n",
    "Is even one word palindrome, if so, what or what are those words  \n",
    "Palindrome - Reading a word in reverse results in the same word.  \n",
    "bob -> bob"
   ]
  },
  {
   "cell_type": "code",
   "execution_count": 5,
   "metadata": {},
   "outputs": [
    {
     "name": "stdout",
     "output_type": "stream",
     "text": [
      "['polindromes']\n",
      "1\n",
      "I\n",
      "polindromes\n",
      "['bob', 'I']\n"
     ]
    }
   ],
   "source": [
    "words = [ 'bob', 'I', 'me', 'computer', 'characters' , 'polindromes']\n",
    "\n",
    "long_words = [ word for word in words if len(word) > 10  ]\n",
    "print(long_words)\n",
    "print(len(long_words))\n",
    "\n",
    "print( min(words, key=len ) )\n",
    "print( max(words, key=len ) )\n",
    "\n",
    "polindromes = [ word for word in words if word == word[::-1]  ]\n",
    "print(polindromes)"
   ]
  },
  {
   "attachments": {},
   "cell_type": "markdown",
   "metadata": {},
   "source": [
    "2) With a list, get the largest product of nearby numbers  \n",
    "my_list = [3, 6, -2, -5, 7, 3]  \n",
    "Result should be 21"
   ]
  },
  {
   "cell_type": "code",
   "execution_count": 10,
   "metadata": {},
   "outputs": [
    {
     "name": "stdout",
     "output_type": "stream",
     "text": [
      "[18, -12, 10, -35, 21]\n",
      "21\n"
     ]
    }
   ],
   "source": [
    "my_list = [3, 6, -2, -5, 7, 3]\n",
    "\n",
    "# for number in my_list: # not the way for this task\n",
    "products = []\n",
    "for idx in range(len(my_list) - 1):\n",
    "    # print(f'index is {idx} and the value is {my_list[idx]}')\n",
    "    # print(f'neighbor index is {idx + 1} and the value is {my_list[idx + 1]}')\n",
    "    products.append( my_list[idx] * my_list[idx + 1] )\n",
    "\n",
    "print(products)\n",
    "print(max(products) )"
   ]
  },
  {
   "cell_type": "code",
   "execution_count": 14,
   "metadata": {},
   "outputs": [
    {
     "name": "stdout",
     "output_type": "stream",
     "text": [
      "[3, 6, -2, -5, 7]\n",
      "[6, -2, -5, 7, 3]\n",
      "[18, -12, 10, -35, 21]\n",
      "21\n"
     ]
    }
   ],
   "source": [
    "my_list = [3, 6, -2, -5, 7, 3]\n",
    "\n",
    "print( my_list[:-1] )\n",
    "print( my_list[1:] )\n",
    "\n",
    "products = []\n",
    "for left_neighbor, right_neighbor in zip( my_list[:-1], my_list[1:]):\n",
    "    # print(f'left: {left_neighbor}, right: {right_neighbor}')\n",
    "    products.append( left_neighbor * right_neighbor )\n",
    "\n",
    "print(products)\n",
    "print(max(products) )\n"
   ]
  },
  {
   "attachments": {},
   "cell_type": "markdown",
   "metadata": {},
   "source": [
    "3) Find duplicate items between two lists\n",
    "\n",
    "a = [1,2,3,4,5,6,7,8,9,15]  \n",
    "b = [3,8,9,11,15]  \n",
    "Result should be  [3,8,9,15]"
   ]
  },
  {
   "cell_type": "code",
   "execution_count": 16,
   "metadata": {},
   "outputs": [
    {
     "name": "stdout",
     "output_type": "stream",
     "text": [
      "{1, 2, 3, 4, 5, 6, 7, 8, 9, 15}\n",
      "{8, 9, 3, 15}\n"
     ]
    }
   ],
   "source": [
    "a = [1,2,3,4,5,6,7,8,9,15]  \n",
    "b = [3,8,9,11,15]  \n",
    "\n",
    "a = set(a)\n",
    "print(a)\n",
    "print(a.intersection(b) )"
   ]
  },
  {
   "attachments": {},
   "cell_type": "markdown",
   "metadata": {},
   "source": [
    "4) Filter out unique positive numbers from the list  \n",
    "x = [1, 5, 1, 2, 8, -9, 10, 1, -8, -900, 14, 5, -8, 2, 1, -20, 900, 800, -6, -8, 12, 1]"
   ]
  },
  {
   "cell_type": "code",
   "execution_count": 18,
   "metadata": {},
   "outputs": [
    {
     "name": "stdout",
     "output_type": "stream",
     "text": [
      "[800, 1, 2, 900, 5, 8, 10, 12, 14]\n"
     ]
    }
   ],
   "source": [
    "x = [1, 5, 1, 2, 8, -9, 10, 1, -8, -900, 14, 5, -8, 2, 1, -20, 900, 800, -6, -8, 12, 1]\n",
    "\n",
    "positive_numbers = [ number for number in set(x) if number >= 0 ]\n",
    "print(positive_numbers)"
   ]
  },
  {
   "attachments": {},
   "cell_type": "markdown",
   "metadata": {},
   "source": [
    "5) Calculate the profit on the sale of all goods. Price and quantity information is provided as a dictionary, the answer rounded to 2 decimal places.  "
   ]
  },
  {
   "cell_type": "code",
   "execution_count": 23,
   "metadata": {},
   "outputs": [
    {
     "name": "stdout",
     "output_type": "stream",
     "text": [
      "14796.0\n",
      "14796.00\n"
     ]
    }
   ],
   "source": [
    "x = { \"cost_price\": 32.67, \n",
    "         \"sell_price\": 45.00,\n",
    "          \"inventory\": 1200  }\n",
    "\n",
    "profit = (x['sell_price'] - x['cost_price']) * x['inventory']\n",
    "# profit = round(profit, 2)\n",
    "print(round(profit, 2))\n",
    "print(f'{profit:.2f}')"
   ]
  },
  {
   "attachments": {},
   "cell_type": "markdown",
   "metadata": {},
   "source": [
    "# Functions"
   ]
  },
  {
   "cell_type": "code",
   "execution_count": 24,
   "metadata": {},
   "outputs": [],
   "source": [
    "# def - define\n",
    "def print_hello():\n",
    "    print('Hello world')"
   ]
  },
  {
   "cell_type": "code",
   "execution_count": 25,
   "metadata": {},
   "outputs": [
    {
     "data": {
      "text/plain": [
       "<function __main__.print_hello()>"
      ]
     },
     "execution_count": 25,
     "metadata": {},
     "output_type": "execute_result"
    }
   ],
   "source": [
    "print_hello"
   ]
  },
  {
   "cell_type": "code",
   "execution_count": 27,
   "metadata": {},
   "outputs": [
    {
     "name": "stdout",
     "output_type": "stream",
     "text": [
      "Hello world\n",
      "Hello world\n",
      "Hello world\n"
     ]
    }
   ],
   "source": [
    "print_hello()\n",
    "print_hello()\n",
    "print_hello()\n"
   ]
  },
  {
   "cell_type": "code",
   "execution_count": 28,
   "metadata": {},
   "outputs": [
    {
     "ename": "NameError",
     "evalue": "name 'print_hello_2' is not defined",
     "output_type": "error",
     "traceback": [
      "\u001b[1;31m---------------------------------------------------------------------------\u001b[0m",
      "\u001b[1;31mNameError\u001b[0m                                 Traceback (most recent call last)",
      "\u001b[1;32mc:\\Users\\Robotux\\Documents\\Python\\20221108VCSDMAB2B\\lesson_6.ipynb Cell 17\u001b[0m in \u001b[0;36m<module>\u001b[1;34m\u001b[0m\n\u001b[1;32m----> <a href='vscode-notebook-cell:/c%3A/Users/Robotux/Documents/Python/20221108VCSDMAB2B/lesson_6.ipynb#X23sZmlsZQ%3D%3D?line=0'>1</a>\u001b[0m print_hello_2()\n\u001b[0;32m      <a href='vscode-notebook-cell:/c%3A/Users/Robotux/Documents/Python/20221108VCSDMAB2B/lesson_6.ipynb#X23sZmlsZQ%3D%3D?line=2'>3</a>\u001b[0m \u001b[39mdef\u001b[39;00m \u001b[39mprint_hello_2\u001b[39m():\n\u001b[0;32m      <a href='vscode-notebook-cell:/c%3A/Users/Robotux/Documents/Python/20221108VCSDMAB2B/lesson_6.ipynb#X23sZmlsZQ%3D%3D?line=3'>4</a>\u001b[0m     \u001b[39mprint\u001b[39m(\u001b[39m'\u001b[39m\u001b[39mHello world\u001b[39m\u001b[39m'\u001b[39m)\n",
      "\u001b[1;31mNameError\u001b[0m: name 'print_hello_2' is not defined"
     ]
    }
   ],
   "source": [
    "print_hello_2() # error, first need to define the function\n",
    "\n",
    "def print_hello_2():\n",
    "    print('Hello world')"
   ]
  },
  {
   "cell_type": "code",
   "execution_count": 30,
   "metadata": {},
   "outputs": [
    {
     "name": "stdout",
     "output_type": "stream",
     "text": [
      "Hello world\n",
      "None\n"
     ]
    }
   ],
   "source": [
    "print( print_hello() )"
   ]
  },
  {
   "cell_type": "code",
   "execution_count": 31,
   "metadata": {},
   "outputs": [],
   "source": [
    "def get_hello_message():\n",
    "    return 'Hello world'"
   ]
  },
  {
   "cell_type": "code",
   "execution_count": 34,
   "metadata": {},
   "outputs": [
    {
     "data": {
      "text/plain": [
       "'Hello world'"
      ]
     },
     "execution_count": 34,
     "metadata": {},
     "output_type": "execute_result"
    }
   ],
   "source": [
    "get_hello_message()"
   ]
  },
  {
   "cell_type": "code",
   "execution_count": 35,
   "metadata": {},
   "outputs": [
    {
     "name": "stdout",
     "output_type": "stream",
     "text": [
      "Hello world\n"
     ]
    }
   ],
   "source": [
    "print(get_hello_message() )"
   ]
  },
  {
   "cell_type": "code",
   "execution_count": 37,
   "metadata": {},
   "outputs": [
    {
     "name": "stdout",
     "output_type": "stream",
     "text": [
      "Hello world\n",
      "None\n"
     ]
    }
   ],
   "source": [
    "message = print_hello()\n",
    "print(message)"
   ]
  },
  {
   "cell_type": "code",
   "execution_count": 36,
   "metadata": {},
   "outputs": [
    {
     "name": "stdout",
     "output_type": "stream",
     "text": [
      "Hello world and Python\n"
     ]
    }
   ],
   "source": [
    "message = get_hello_message()\n",
    "message += ' and Python'\n",
    "print(message)"
   ]
  },
  {
   "attachments": {},
   "cell_type": "markdown",
   "metadata": {},
   "source": [
    "## mandatory/positional arguments"
   ]
  },
  {
   "cell_type": "code",
   "execution_count": 53,
   "metadata": {},
   "outputs": [],
   "source": [
    "# def get_hello_to_message(name):\n",
    "#     return f'Hello {name}!'\n",
    "\n",
    "# not necessary to specify types\n",
    "# def get_hello_to_message(name: str) -> str:\n",
    "#     return f'Hello {name}!'\n",
    "\n",
    "# not necessary to specify types or docstring\n",
    "def get_hello_to_message(name: str) -> str:\n",
    "    \"\"\"Gives back a greeting message\n",
    "\n",
    "    Args:\n",
    "        name (str): name of a person\n",
    "\n",
    "    Returns:\n",
    "        str: formated message\n",
    "\n",
    "    example: \n",
    "    get_hello_to_message('Darius') -> 'Hello Darius!'\n",
    "    \"\"\"\n",
    "    print('in function')\n",
    "    return f'Hello {name}!'\n",
    "    print('THIS WILL NEVER BE EXECUTED')"
   ]
  },
  {
   "cell_type": "code",
   "execution_count": 54,
   "metadata": {},
   "outputs": [
    {
     "ename": "TypeError",
     "evalue": "get_hello_to_message() missing 1 required positional argument: 'name'",
     "output_type": "error",
     "traceback": [
      "\u001b[1;31m---------------------------------------------------------------------------\u001b[0m",
      "\u001b[1;31mTypeError\u001b[0m                                 Traceback (most recent call last)",
      "\u001b[1;32mc:\\Users\\Robotux\\Documents\\Python\\20221108VCSDMAB2B\\lesson_6.ipynb Cell 26\u001b[0m in \u001b[0;36m<module>\u001b[1;34m\u001b[0m\n\u001b[1;32m----> <a href='vscode-notebook-cell:/c%3A/Users/Robotux/Documents/Python/20221108VCSDMAB2B/lesson_6.ipynb#X32sZmlsZQ%3D%3D?line=0'>1</a>\u001b[0m get_hello_to_message()\n",
      "\u001b[1;31mTypeError\u001b[0m: get_hello_to_message() missing 1 required positional argument: 'name'"
     ]
    }
   ],
   "source": [
    "get_hello_to_message()"
   ]
  },
  {
   "cell_type": "code",
   "execution_count": 55,
   "metadata": {},
   "outputs": [
    {
     "name": "stdout",
     "output_type": "stream",
     "text": [
      "in function\n",
      "Hello Darius!\n",
      "in function\n",
      "Hello 5!\n",
      "in function\n",
      "Hello None!\n"
     ]
    }
   ],
   "source": [
    "message = get_hello_to_message('Darius')\n",
    "print(message)\n",
    "message = get_hello_to_message(5)\n",
    "print(message)\n",
    "message = get_hello_to_message(None)\n",
    "print(message)"
   ]
  },
  {
   "cell_type": "code",
   "execution_count": 56,
   "metadata": {},
   "outputs": [],
   "source": [
    "def subtract_numbers(num_1, num_2):\n",
    "    return num_1 - num_2"
   ]
  },
  {
   "cell_type": "code",
   "execution_count": 62,
   "metadata": {},
   "outputs": [
    {
     "name": "stdout",
     "output_type": "stream",
     "text": [
      "2\n",
      "8\n",
      "2\n",
      "2\n",
      "-2\n",
      "2\n"
     ]
    },
    {
     "ename": "TypeError",
     "evalue": "subtract_numbers() missing 1 required positional argument: 'num_2'",
     "output_type": "error",
     "traceback": [
      "\u001b[1;31m---------------------------------------------------------------------------\u001b[0m",
      "\u001b[1;31mTypeError\u001b[0m                                 Traceback (most recent call last)",
      "\u001b[1;32mc:\\Users\\Robotux\\Documents\\Python\\20221108VCSDMAB2B\\lesson_6.ipynb Cell 29\u001b[0m in \u001b[0;36m<module>\u001b[1;34m\u001b[0m\n\u001b[0;32m      <a href='vscode-notebook-cell:/c%3A/Users/Robotux/Documents/Python/20221108VCSDMAB2B/lesson_6.ipynb#X41sZmlsZQ%3D%3D?line=5'>6</a>\u001b[0m \u001b[39mprint\u001b[39m (subtract_numbers(num_2\u001b[39m=\u001b[39m\u001b[39m5\u001b[39m, num_1\u001b[39m=\u001b[39m\u001b[39m3\u001b[39m))\n\u001b[0;32m      <a href='vscode-notebook-cell:/c%3A/Users/Robotux/Documents/Python/20221108VCSDMAB2B/lesson_6.ipynb#X41sZmlsZQ%3D%3D?line=6'>7</a>\u001b[0m \u001b[39mprint\u001b[39m (subtract_numbers(\u001b[39m5\u001b[39m,num_2\u001b[39m=\u001b[39m\u001b[39m3\u001b[39m))\n\u001b[1;32m----> <a href='vscode-notebook-cell:/c%3A/Users/Robotux/Documents/Python/20221108VCSDMAB2B/lesson_6.ipynb#X41sZmlsZQ%3D%3D?line=7'>8</a>\u001b[0m \u001b[39mprint\u001b[39m (subtract_numbers(\u001b[39m5\u001b[39;49m))\n",
      "\u001b[1;31mTypeError\u001b[0m: subtract_numbers() missing 1 required positional argument: 'num_2'"
     ]
    }
   ],
   "source": [
    "number = subtract_numbers(5,3)\n",
    "print(number)\n",
    "print(number**3)\n",
    "print (subtract_numbers(5,3))\n",
    "print (subtract_numbers(num_1=5, num_2=3))\n",
    "print (subtract_numbers(num_2=5, num_1=3))\n",
    "print (subtract_numbers(5, num_2=3))\n",
    "print (subtract_numbers(5)) # error"
   ]
  },
  {
   "attachments": {},
   "cell_type": "markdown",
   "metadata": {},
   "source": [
    "## Optional arguments"
   ]
  },
  {
   "cell_type": "code",
   "execution_count": 68,
   "metadata": {},
   "outputs": [],
   "source": [
    "# Positional arguments always at the beginning\n",
    "def subtract_numbers(num_1, num_2=5):\n",
    "    return num_1 - num_2\n",
    "\n",
    "# def subtract_numbers( num_2=5, num_1): # ERROR\n",
    "#     return num_1 - num_2"
   ]
  },
  {
   "cell_type": "code",
   "execution_count": 66,
   "metadata": {},
   "outputs": [
    {
     "name": "stdout",
     "output_type": "stream",
     "text": [
      "8\n",
      "6\n",
      "6\n"
     ]
    }
   ],
   "source": [
    "print (subtract_numbers(13))\n",
    "print (subtract_numbers(13, 7))\n",
    "print (subtract_numbers(13, num_2=7))"
   ]
  },
  {
   "attachments": {},
   "cell_type": "markdown",
   "metadata": {},
   "source": [
    "## passing infinite number of arguments"
   ]
  },
  {
   "cell_type": "code",
   "execution_count": 75,
   "metadata": {},
   "outputs": [],
   "source": [
    "def product_of_numbers( *args ): # args - arguments\n",
    "    print(args)\n",
    "    result = 1\n",
    "    for number in args:\n",
    "        result *= number\n",
    "    \n",
    "    return result"
   ]
  },
  {
   "cell_type": "code",
   "execution_count": 78,
   "metadata": {},
   "outputs": [
    {
     "name": "stdout",
     "output_type": "stream",
     "text": [
      "()\n",
      "1\n",
      "(5,)\n",
      "5\n",
      "(1, 4, 7, 6, 7)\n",
      "1176\n",
      "(1, 4, 7, 6, 7, 5, 74, 6, 87, 3)\n",
      "681397920\n"
     ]
    }
   ],
   "source": [
    "print (product_of_numbers( ) )\n",
    "print (product_of_numbers(5) )\n",
    "print (product_of_numbers(1,4,7,6,7) )\n",
    "print (product_of_numbers(1,4,7,6,7,5,74,6,87,3) )"
   ]
  },
  {
   "attachments": {},
   "cell_type": "markdown",
   "metadata": {},
   "source": [
    "## passing keyword arguments"
   ]
  },
  {
   "cell_type": "code",
   "execution_count": 86,
   "metadata": {},
   "outputs": [],
   "source": [
    "def kwargs_example( **kwargs ): # kwargs - keyword arguments\n",
    "    # print(kwargs)\n",
    "    # print(type(kwargs))\n",
    "    for k, v in kwargs.items():\n",
    "        print(f'key {k} has a value of {v}')"
   ]
  },
  {
   "cell_type": "code",
   "execution_count": 87,
   "metadata": {},
   "outputs": [
    {
     "name": "stdout",
     "output_type": "stream",
     "text": [
      "key num_1 has a value of 6\n",
      "key num_2 has a value of 3\n",
      "key color has a value of red\n"
     ]
    }
   ],
   "source": [
    "kwargs_example( num_1=6, num_2=3, color='red' )"
   ]
  },
  {
   "attachments": {},
   "cell_type": "markdown",
   "metadata": {},
   "source": [
    "## local vs global scope"
   ]
  },
  {
   "cell_type": "code",
   "execution_count": 101,
   "metadata": {},
   "outputs": [
    {
     "name": "stdout",
     "output_type": "stream",
     "text": [
      "from function scope GLOBAL\n"
     ]
    },
    {
     "ename": "NameError",
     "evalue": "name 'local_var' is not defined",
     "output_type": "error",
     "traceback": [
      "\u001b[1;31m---------------------------------------------------------------------------\u001b[0m",
      "\u001b[1;31mNameError\u001b[0m                                 Traceback (most recent call last)",
      "\u001b[1;32mc:\\Users\\Robotux\\Documents\\Python\\20221108VCSDMAB2B\\lesson_6.ipynb Cell 40\u001b[0m in \u001b[0;36m<module>\u001b[1;34m\u001b[0m\n\u001b[0;32m      <a href='vscode-notebook-cell:/c%3A/Users/Robotux/Documents/Python/20221108VCSDMAB2B/lesson_6.ipynb#X54sZmlsZQ%3D%3D?line=6'>7</a>\u001b[0m     local_var \u001b[39m=\u001b[39m \u001b[39m5\u001b[39m\n\u001b[0;32m      <a href='vscode-notebook-cell:/c%3A/Users/Robotux/Documents/Python/20221108VCSDMAB2B/lesson_6.ipynb#X54sZmlsZQ%3D%3D?line=8'>9</a>\u001b[0m example_local_scope()\n\u001b[1;32m---> <a href='vscode-notebook-cell:/c%3A/Users/Robotux/Documents/Python/20221108VCSDMAB2B/lesson_6.ipynb#X54sZmlsZQ%3D%3D?line=9'>10</a>\u001b[0m \u001b[39mprint\u001b[39m(local_var)\n",
      "\u001b[1;31mNameError\u001b[0m: name 'local_var' is not defined"
     ]
    }
   ],
   "source": [
    "# global scope\n",
    "some_global_var = 'GLOBAL'\n",
    "\n",
    "def example_local_scope():\n",
    "    print('from function scope', some_global_var)\n",
    "\n",
    "    local_var = 5\n",
    "\n",
    "example_local_scope()\n",
    "print(local_var) # ERROR, can't use function local variables\n"
   ]
  },
  {
   "cell_type": "code",
   "execution_count": 100,
   "metadata": {},
   "outputs": [
    {
     "name": "stdout",
     "output_type": "stream",
     "text": [
      "from function NOW local\n",
      "GLOBAL\n"
     ]
    }
   ],
   "source": [
    "# global scope\n",
    "some_global_var = 'GLOBAL'\n",
    "\n",
    "def example_local_scope():\n",
    "    \n",
    "    some_global_var = 'NOW local'\n",
    "    print('from function', some_global_var)\n",
    "    local_var = 5\n",
    "\n",
    "example_local_scope()\n",
    "print(some_global_var)"
   ]
  },
  {
   "cell_type": "code",
   "execution_count": 104,
   "metadata": {},
   "outputs": [
    {
     "name": "stdout",
     "output_type": "stream",
     "text": [
      "from function GLOBAL\n",
      "NOW local\n"
     ]
    }
   ],
   "source": [
    "some_global_var = 'GLOBAL'\n",
    "\n",
    "def example_local_scope(var):\n",
    "    print('from function', var)\n",
    "    var = 'NOW local'\n",
    "    return var\n",
    "\n",
    "some_global_var = example_local_scope(some_global_var)\n",
    "print(some_global_var)"
   ]
  },
  {
   "cell_type": "code",
   "execution_count": 105,
   "metadata": {},
   "outputs": [
    {
     "name": "stdout",
     "output_type": "stream",
     "text": [
      "The Zen of Python, by Tim Peters\n",
      "\n",
      "Beautiful is better than ugly.\n",
      "Explicit is better than implicit.\n",
      "Simple is better than complex.\n",
      "Complex is better than complicated.\n",
      "Flat is better than nested.\n",
      "Sparse is better than dense.\n",
      "Readability counts.\n",
      "Special cases aren't special enough to break the rules.\n",
      "Although practicality beats purity.\n",
      "Errors should never pass silently.\n",
      "Unless explicitly silenced.\n",
      "In the face of ambiguity, refuse the temptation to guess.\n",
      "There should be one-- and preferably only one --obvious way to do it.\n",
      "Although that way may not be obvious at first unless you're Dutch.\n",
      "Now is better than never.\n",
      "Although never is often better than *right* now.\n",
      "If the implementation is hard to explain, it's a bad idea.\n",
      "If the implementation is easy to explain, it may be a good idea.\n",
      "Namespaces are one honking great idea -- let's do more of those!\n"
     ]
    }
   ],
   "source": [
    "import this"
   ]
  },
  {
   "cell_type": "code",
   "execution_count": 107,
   "metadata": {},
   "outputs": [
    {
     "data": {
      "text/plain": [
       "<function __main__.get_hello_message()>"
      ]
     },
     "execution_count": 107,
     "metadata": {},
     "output_type": "execute_result"
    }
   ],
   "source": [
    "get_hello_message()\n",
    "get_hello_message"
   ]
  },
  {
   "cell_type": "code",
   "execution_count": 109,
   "metadata": {},
   "outputs": [
    {
     "name": "stdout",
     "output_type": "stream",
     "text": [
      "Hello world\n",
      "Hello world\n",
      "Hello world\n"
     ]
    }
   ],
   "source": [
    "new_function_name = get_hello_message\n",
    "print( new_function_name() )\n",
    "print( new_function_name() )\n",
    "print( new_function_name() )"
   ]
  },
  {
   "cell_type": "code",
   "execution_count": 115,
   "metadata": {},
   "outputs": [],
   "source": [
    "def my_func(num_1, num_2):\n",
    "    # if (num_1 + num_2) % 2 == 0:\n",
    "    #     return num_1 * num_2\n",
    "    # else:\n",
    "    #     return num_1 / num_2\n",
    "    result = None\n",
    "    if (num_1 + num_2) % 2 == 0:\n",
    "        result = num_1 * num_2\n",
    "    else:\n",
    "        result = num_1 / num_2\n",
    "    \n",
    "    return result"
   ]
  },
  {
   "cell_type": "code",
   "execution_count": 116,
   "metadata": {},
   "outputs": [
    {
     "name": "stdout",
     "output_type": "stream",
     "text": [
      "12\n",
      "2.0\n"
     ]
    }
   ],
   "source": [
    "print(my_func(2,6) )\n",
    "print(my_func(10,5) )"
   ]
  },
  {
   "cell_type": "code",
   "execution_count": null,
   "metadata": {},
   "outputs": [],
   "source": []
  }
 ],
 "metadata": {
  "kernelspec": {
   "display_name": "Python 3",
   "language": "python",
   "name": "python3"
  },
  "language_info": {
   "codemirror_mode": {
    "name": "ipython",
    "version": 3
   },
   "file_extension": ".py",
   "mimetype": "text/x-python",
   "name": "python",
   "nbconvert_exporter": "python",
   "pygments_lexer": "ipython3",
   "version": "3.10.2"
  },
  "orig_nbformat": 4
 },
 "nbformat": 4,
 "nbformat_minor": 2
}
