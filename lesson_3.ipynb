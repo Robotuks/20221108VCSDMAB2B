{
 "cells": [
  {
   "attachments": {},
   "cell_type": "markdown",
   "metadata": {},
   "source": [
    "# List"
   ]
  },
  {
   "attachments": {},
   "cell_type": "markdown",
   "metadata": {},
   "source": [
    "## append vs extend"
   ]
  },
  {
   "cell_type": "code",
   "execution_count": 9,
   "metadata": {},
   "outputs": [
    {
     "name": "stdout",
     "output_type": "stream",
     "text": [
      "[14, 786, 7]\n",
      "[14, 786, 7, 500]\n",
      "None\n",
      "[14, 786, 7, 500, 999]\n",
      "[14, 786, 7, 500, 999, [100, 100]]\n",
      "[100, 100]\n",
      "extend\n",
      "[14, 786, 7, 500, 999, [100, 100], 500]\n",
      "[14, 786, 7, 500, 999, [100, 100], 500, 999, 888, 777]\n"
     ]
    }
   ],
   "source": [
    "\n",
    "numbers = [14,786,7]\n",
    "print(numbers)\n",
    "numbers.append( 500 )\n",
    "print(numbers)\n",
    "print( numbers.append( 999 ) )\n",
    "print(numbers)\n",
    "numbers.append( [100, 100] )\n",
    "print(numbers)\n",
    "print(numbers[-1])\n",
    "\n",
    "print('extend')\n",
    "numbers.extend( [500] )\n",
    "print(numbers)\n",
    "numbers.extend( [999,888,777] )\n",
    "print(numbers)"
   ]
  },
  {
   "cell_type": "code",
   "execution_count": 12,
   "metadata": {},
   "outputs": [
    {
     "name": "stdout",
     "output_type": "stream",
     "text": [
      "8\n",
      "888\n"
     ]
    }
   ],
   "source": [
    "print (numbers.index(888) )\n",
    "print (numbers[8] )"
   ]
  },
  {
   "cell_type": "code",
   "execution_count": 13,
   "metadata": {},
   "outputs": [
    {
     "ename": "ValueError",
     "evalue": "666 is not in list",
     "output_type": "error",
     "traceback": [
      "\u001b[1;31m---------------------------------------------------------------------------\u001b[0m",
      "\u001b[1;31mValueError\u001b[0m                                Traceback (most recent call last)",
      "\u001b[1;32mc:\\Users\\Robotux\\Documents\\Python\\20221108VCSDMAB2B\\lesson_3.ipynb Cell 5\u001b[0m in \u001b[0;36m<module>\u001b[1;34m\u001b[0m\n\u001b[1;32m----> <a href='vscode-notebook-cell:/c%3A/Users/Robotux/Documents/Python/20221108VCSDMAB2B/lesson_3.ipynb#W6sZmlsZQ%3D%3D?line=0'>1</a>\u001b[0m \u001b[39mprint\u001b[39m (numbers\u001b[39m.\u001b[39;49mindex(\u001b[39m666\u001b[39;49m) )\n",
      "\u001b[1;31mValueError\u001b[0m: 666 is not in list"
     ]
    }
   ],
   "source": [
    "print (numbers.index(666) )"
   ]
  },
  {
   "cell_type": "code",
   "execution_count": 14,
   "metadata": {},
   "outputs": [
    {
     "name": "stdout",
     "output_type": "stream",
     "text": [
      "[14, 1000, 786, 7, 500, 999, [100, 100], 500, 999, 888, 777]\n"
     ]
    }
   ],
   "source": [
    "numbers.insert(1, 1000)\n",
    "print(numbers)"
   ]
  },
  {
   "cell_type": "code",
   "execution_count": 16,
   "metadata": {},
   "outputs": [],
   "source": [
    "numbers.remove([100, 100])"
   ]
  },
  {
   "cell_type": "code",
   "execution_count": 19,
   "metadata": {},
   "outputs": [
    {
     "name": "stdout",
     "output_type": "stream",
     "text": [
      "[7, 14, 500, 500, 777, 786, 888, 999, 999, 1000]\n",
      "[1000, 999, 999, 888, 786, 777, 500, 500, 14, 7]\n",
      "[1000, 999, 999, 888, 786, 777, 500, 500, 14, 7]\n"
     ]
    }
   ],
   "source": [
    "numbers.sort()\n",
    "print(numbers)\n",
    "numbers.sort(reverse=True)\n",
    "print(numbers)\n",
    "print(numbers)"
   ]
  },
  {
   "cell_type": "code",
   "execution_count": 21,
   "metadata": {},
   "outputs": [
    {
     "name": "stdout",
     "output_type": "stream",
     "text": [
      "[2, 4, 562, 778]\n",
      "[562, 4, 778, 2]\n"
     ]
    }
   ],
   "source": [
    "nums = [ 562,4,778,2]\n",
    "print (sorted(nums) )\n",
    "print(nums)"
   ]
  },
  {
   "cell_type": "code",
   "execution_count": 31,
   "metadata": {},
   "outputs": [
    {
     "name": "stdout",
     "output_type": "stream",
     "text": [
      "[654, [[[48, [['65']]], 57]]]\n",
      "2\n",
      "[[[48, [['65']]], 57]]\n",
      "1\n",
      "[[48, [['65']]], 57]\n",
      "2\n",
      "[48, [['65']]]\n",
      "[['65']]\n",
      "65\n"
     ]
    }
   ],
   "source": [
    "# print '65' from this list\n",
    "nested_list = [654, [[[48, [['65']]], 57]]]\n",
    "print(nested_list)\n",
    "print(len(nested_list))\n",
    "print(nested_list[1] )\n",
    "print(len(nested_list[1]))\n",
    "print(nested_list[1][0] )\n",
    "print(len(nested_list[1][0]) )\n",
    "print(nested_list[1][0][0] )\n",
    "print(nested_list[1][0][0][1] )\n",
    "print(nested_list[1][0][0][1][0][0] )"
   ]
  },
  {
   "cell_type": "code",
   "execution_count": 36,
   "metadata": {},
   "outputs": [
    {
     "name": "stdout",
     "output_type": "stream",
     "text": [
      "[1000, 999, 999, 888, 786, 777, 500, 500, 14, 7]\n",
      "[1000, 999, 786, 500, 14]\n",
      "[1000, 888, 500, 7]\n",
      "[1000, 786, 14]\n"
     ]
    }
   ],
   "source": [
    "print(numbers)\n",
    "print(numbers[::2])\n",
    "print(numbers[::3])\n",
    "print(numbers[::4])"
   ]
  },
  {
   "cell_type": "code",
   "execution_count": 37,
   "metadata": {},
   "outputs": [
    {
     "data": {
      "text/plain": [
       "[1000, 999, 999, 888, 786, 777, 500, 500, 14, 7]"
      ]
     },
     "execution_count": 37,
     "metadata": {},
     "output_type": "execute_result"
    }
   ],
   "source": [
    "numbers"
   ]
  },
  {
   "cell_type": "code",
   "execution_count": 38,
   "metadata": {},
   "outputs": [
    {
     "data": {
      "text/plain": [
       "True"
      ]
     },
     "execution_count": 38,
     "metadata": {},
     "output_type": "execute_result"
    }
   ],
   "source": [
    "14 in numbers"
   ]
  },
  {
   "cell_type": "code",
   "execution_count": 40,
   "metadata": {},
   "outputs": [
    {
     "name": "stdout",
     "output_type": "stream",
     "text": [
      "False\n",
      "True\n"
     ]
    }
   ],
   "source": [
    "print (bool( [] ) ) # empty will be False, otherwise True\n",
    "print (bool( ['a'] ) ) "
   ]
  },
  {
   "attachments": {},
   "cell_type": "markdown",
   "metadata": {},
   "source": [
    "## operators with list"
   ]
  },
  {
   "cell_type": "code",
   "execution_count": 41,
   "metadata": {},
   "outputs": [
    {
     "name": "stdout",
     "output_type": "stream",
     "text": [
      "[1, 2, 3, 'a', 'b', 'c']\n"
     ]
    }
   ],
   "source": [
    "print( [1,2,3] + ['a','b', 'c'] )"
   ]
  },
  {
   "cell_type": "code",
   "execution_count": 42,
   "metadata": {},
   "outputs": [
    {
     "name": "stdout",
     "output_type": "stream",
     "text": [
      "[1, 2, 3, 1, 2, 3, 1, 2, 3, 1, 2, 3, 1, 2, 3, 1, 2, 3, 1, 2, 3, 1, 2, 3, 1, 2, 3, 1, 2, 3]\n"
     ]
    }
   ],
   "source": [
    "print( [1,2,3] * 10)"
   ]
  },
  {
   "cell_type": "code",
   "execution_count": 43,
   "metadata": {},
   "outputs": [
    {
     "ename": "TypeError",
     "evalue": "unsupported operand type(s) for -: 'list' and 'list'",
     "output_type": "error",
     "traceback": [
      "\u001b[1;31m---------------------------------------------------------------------------\u001b[0m",
      "\u001b[1;31mTypeError\u001b[0m                                 Traceback (most recent call last)",
      "\u001b[1;32mc:\\Users\\Robotux\\Documents\\Python\\20221108VCSDMAB2B\\lesson_3.ipynb Cell 18\u001b[0m in \u001b[0;36m<module>\u001b[1;34m\u001b[0m\n\u001b[1;32m----> <a href='vscode-notebook-cell:/c%3A/Users/Robotux/Documents/Python/20221108VCSDMAB2B/lesson_3.ipynb#X25sZmlsZQ%3D%3D?line=0'>1</a>\u001b[0m \u001b[39mprint\u001b[39m( [\u001b[39m1\u001b[39;49m,\u001b[39m2\u001b[39;49m,\u001b[39m3\u001b[39;49m] \u001b[39m-\u001b[39;49m [\u001b[39m1\u001b[39;49m,\u001b[39m2\u001b[39;49m] )\n",
      "\u001b[1;31mTypeError\u001b[0m: unsupported operand type(s) for -: 'list' and 'list'"
     ]
    }
   ],
   "source": [
    "print( [1,2,3] - [1,2] )"
   ]
  },
  {
   "cell_type": "code",
   "execution_count": 45,
   "metadata": {},
   "outputs": [
    {
     "name": "stdout",
     "output_type": "stream",
     "text": [
      "3\n",
      "[1, 2, 3, 4]\n"
     ]
    }
   ],
   "source": [
    "my_list = [ 1,2,3 ]\n",
    "print( len(my_list) )\n",
    "my_list.append( 4 )\n",
    "print(my_list)"
   ]
  },
  {
   "cell_type": "code",
   "execution_count": 46,
   "metadata": {},
   "outputs": [
    {
     "data": {
      "text/plain": [
       "False"
      ]
     },
     "execution_count": 46,
     "metadata": {},
     "output_type": "execute_result"
    }
   ],
   "source": [
    "5 in my_list"
   ]
  },
  {
   "cell_type": "code",
   "execution_count": 51,
   "metadata": {},
   "outputs": [
    {
     "name": "stdout",
     "output_type": "stream",
     "text": [
      "[456, 1, 1, 8, 411, 33, 274]\n",
      "[456, 1, 1, 8, 411, 33]\n",
      "[1, 1, 8, 33, 411, 456]\n",
      "2\n"
     ]
    }
   ],
   "source": [
    "combined = [ 456,1,1,8] + [411,33,274]\n",
    "print(combined)\n",
    "combined.pop()\n",
    "print(combined)\n",
    "combined.sort()\n",
    "print(combined)\n",
    "print(combined.count(1) )"
   ]
  },
  {
   "attachments": {},
   "cell_type": "markdown",
   "metadata": {},
   "source": [
    "## mutable and immutable variables\n",
    "https://medium.com/@meghamohan/mutable-and-immutable-side-of-python-c2145cf72747"
   ]
  },
  {
   "cell_type": "code",
   "execution_count": 55,
   "metadata": {},
   "outputs": [
    {
     "name": "stdout",
     "output_type": "stream",
     "text": [
      "before\n",
      "2460234416368\n",
      "2460234416368\n",
      "after\n",
      "2460234416368\n",
      "2460234416528\n",
      "1\n",
      "6\n"
     ]
    }
   ],
   "source": [
    "# immutable variable:\n",
    "a = 1\n",
    "b = a\n",
    "print('before')\n",
    "print(id(a) )\n",
    "print(id(b) )\n",
    "b += 5\n",
    "print('after')\n",
    "print(id(a) )\n",
    "print(id(b) )\n",
    "print(a)\n",
    "print(b)\n"
   ]
  },
  {
   "cell_type": "code",
   "execution_count": 56,
   "metadata": {},
   "outputs": [
    {
     "name": "stdout",
     "output_type": "stream",
     "text": [
      "before\n",
      "2460345774848\n",
      "2460345774848\n",
      "after\n",
      "2460345774848\n",
      "2460345774848\n",
      "[1, 2, 3, 999]\n",
      "[1, 2, 3, 999]\n"
     ]
    }
   ],
   "source": [
    "# mutable variable:\n",
    "a = [1,2,3]\n",
    "b = a\n",
    "print('before')\n",
    "print(id(a) )\n",
    "print(id(b) )\n",
    "b.append( 999 )\n",
    "print('after')\n",
    "print(id(a) )\n",
    "print(id(b) )\n",
    "print(a)\n",
    "print(b)"
   ]
  },
  {
   "cell_type": "code",
   "execution_count": 57,
   "metadata": {},
   "outputs": [
    {
     "name": "stdout",
     "output_type": "stream",
     "text": [
      "before\n",
      "2460345771456\n",
      "2460345778304\n",
      "after\n",
      "2460345771456\n",
      "2460345778304\n",
      "[1, 2, 3]\n",
      "[1, 2, 3, 999]\n"
     ]
    }
   ],
   "source": [
    "# fixing mutable variable #1\n",
    "a = [1,2,3]\n",
    "b = a.copy()\n",
    "print('before')\n",
    "print(id(a) )\n",
    "print(id(b) )\n",
    "b.append( 999 )\n",
    "print('after')\n",
    "print(id(a) )\n",
    "print(id(b) )\n",
    "print(a)\n",
    "print(b)"
   ]
  },
  {
   "cell_type": "code",
   "execution_count": 60,
   "metadata": {},
   "outputs": [
    {
     "name": "stdout",
     "output_type": "stream",
     "text": [
      "before\n",
      "2460346292992\n",
      "2460346292416\n",
      "after\n",
      "2460346292992\n",
      "2460346292416\n",
      "[1, 2, ['a', 'b', 999]]\n",
      "[1, 2, ['a', 'b', 999], 999]\n"
     ]
    }
   ],
   "source": [
    "# where fix #1 doesn't work\n",
    "a = [1,2, ['a', 'b'] ]\n",
    "b = a.copy()\n",
    "print('before')\n",
    "print(id(a) )\n",
    "print(id(b) )\n",
    "b[-1].append( 999 )\n",
    "b.append( 999 )\n",
    "print('after')\n",
    "print(id(a) )\n",
    "print(id(b) )\n",
    "print(a)\n",
    "print(b)"
   ]
  },
  {
   "cell_type": "code",
   "execution_count": 61,
   "metadata": {},
   "outputs": [
    {
     "name": "stdout",
     "output_type": "stream",
     "text": [
      "before\n",
      "2460346292160\n",
      "2460346292032\n",
      "after\n",
      "2460346292160\n",
      "2460346292032\n",
      "[1, 2, ['a', 'b']]\n",
      "[1, 2, ['a', 'b', 999], 999]\n"
     ]
    }
   ],
   "source": [
    "# fixing mutable variable #2\n",
    "import copy\n",
    "a = [1,2, ['a', 'b'] ]\n",
    "b = copy.deepcopy(a)\n",
    "print('before')\n",
    "print(id(a) )\n",
    "print(id(b) )\n",
    "b[-1].append( 999 )\n",
    "b.append( 999 )\n",
    "print('after')\n",
    "print(id(a) )\n",
    "print(id(b) )\n",
    "print(a)\n",
    "print(b)"
   ]
  },
  {
   "attachments": {},
   "cell_type": "markdown",
   "metadata": {},
   "source": [
    "# Tuple"
   ]
  },
  {
   "cell_type": "code",
   "execution_count": 62,
   "metadata": {},
   "outputs": [],
   "source": [
    "my_tuple = ( 1,2, True, 'a')\n"
   ]
  },
  {
   "cell_type": "code",
   "execution_count": 64,
   "metadata": {},
   "outputs": [
    {
     "name": "stdout",
     "output_type": "stream",
     "text": [
      "<class 'tuple'>\n",
      "(1, 2, True, 'a')\n"
     ]
    }
   ],
   "source": [
    "print(type(my_tuple))\n",
    "print(my_tuple)"
   ]
  },
  {
   "cell_type": "code",
   "execution_count": 67,
   "metadata": {},
   "outputs": [
    {
     "name": "stdout",
     "output_type": "stream",
     "text": [
      "1\n",
      "a\n",
      "(2, True)\n"
     ]
    }
   ],
   "source": [
    "print(my_tuple[0])\n",
    "print(my_tuple[-1])\n",
    "print(my_tuple[1:3])"
   ]
  },
  {
   "cell_type": "code",
   "execution_count": 70,
   "metadata": {},
   "outputs": [
    {
     "name": "stdout",
     "output_type": "stream",
     "text": [
      "[1, 2]\n",
      "[100, 2]\n",
      "tuple\n",
      "(1, 2, True, 'a')\n"
     ]
    },
    {
     "ename": "TypeError",
     "evalue": "'tuple' object does not support item assignment",
     "output_type": "error",
     "traceback": [
      "\u001b[1;31m---------------------------------------------------------------------------\u001b[0m",
      "\u001b[1;31mTypeError\u001b[0m                                 Traceback (most recent call last)",
      "\u001b[1;32mc:\\Users\\Robotux\\Documents\\Python\\20221108VCSDMAB2B\\lesson_3.ipynb Cell 32\u001b[0m in \u001b[0;36m<module>\u001b[1;34m\u001b[0m\n\u001b[0;32m      <a href='vscode-notebook-cell:/c%3A/Users/Robotux/Documents/Python/20221108VCSDMAB2B/lesson_3.ipynb#X45sZmlsZQ%3D%3D?line=4'>5</a>\u001b[0m \u001b[39mprint\u001b[39m(\u001b[39m'\u001b[39m\u001b[39mtuple\u001b[39m\u001b[39m'\u001b[39m)\n\u001b[0;32m      <a href='vscode-notebook-cell:/c%3A/Users/Robotux/Documents/Python/20221108VCSDMAB2B/lesson_3.ipynb#X45sZmlsZQ%3D%3D?line=5'>6</a>\u001b[0m \u001b[39mprint\u001b[39m(my_tuple)\n\u001b[1;32m----> <a href='vscode-notebook-cell:/c%3A/Users/Robotux/Documents/Python/20221108VCSDMAB2B/lesson_3.ipynb#X45sZmlsZQ%3D%3D?line=6'>7</a>\u001b[0m my_tuple[\u001b[39m0\u001b[39m] \u001b[39m=\u001b[39m \u001b[39m100\u001b[39m\n\u001b[0;32m      <a href='vscode-notebook-cell:/c%3A/Users/Robotux/Documents/Python/20221108VCSDMAB2B/lesson_3.ipynb#X45sZmlsZQ%3D%3D?line=7'>8</a>\u001b[0m \u001b[39mprint\u001b[39m(my_tuple)\n",
      "\u001b[1;31mTypeError\u001b[0m: 'tuple' object does not support item assignment"
     ]
    }
   ],
   "source": [
    "my_list_2 = [1,2]\n",
    "print (my_list_2)\n",
    "my_list_2[0] = 100\n",
    "print (my_list_2)\n",
    "print('tuple')\n",
    "print(my_tuple)\n",
    "my_tuple[0] = 100 # can't overwrite values\n",
    "print(my_tuple)"
   ]
  },
  {
   "cell_type": "code",
   "execution_count": 71,
   "metadata": {},
   "outputs": [
    {
     "data": {
      "text/plain": [
       "(1, 2, True, 'a', 5, 55)"
      ]
     },
     "execution_count": 71,
     "metadata": {},
     "output_type": "execute_result"
    }
   ],
   "source": [
    "my_tuple + (5,55)"
   ]
  },
  {
   "cell_type": "code",
   "execution_count": 73,
   "metadata": {},
   "outputs": [
    {
     "data": {
      "text/plain": [
       "(1, 2, True, 'a', 1, 2, True, 'a', 1, 2, True, 'a')"
      ]
     },
     "execution_count": 73,
     "metadata": {},
     "output_type": "execute_result"
    }
   ],
   "source": [
    "my_tuple * 3"
   ]
  },
  {
   "cell_type": "code",
   "execution_count": 78,
   "metadata": {},
   "outputs": [
    {
     "name": "stdout",
     "output_type": "stream",
     "text": [
      "(1, 2, True, 'a')\n",
      "1\n",
      "3\n"
     ]
    }
   ],
   "source": [
    "print(my_tuple)\n",
    "print(my_tuple.count(2) )\n",
    "print( my_tuple.index('a') )"
   ]
  },
  {
   "cell_type": "code",
   "execution_count": 80,
   "metadata": {},
   "outputs": [
    {
     "name": "stdout",
     "output_type": "stream",
     "text": [
      "4\n",
      "True\n",
      "False\n"
     ]
    }
   ],
   "source": [
    "print( len(my_tuple) )\n",
    "print( 2 in my_tuple )\n",
    "print( 100 in my_tuple )"
   ]
  },
  {
   "cell_type": "code",
   "execution_count": 83,
   "metadata": {},
   "outputs": [
    {
     "name": "stdout",
     "output_type": "stream",
     "text": [
      "[1, 2, True, 'a']\n",
      "(1, 2, True, 'a')\n"
     ]
    }
   ],
   "source": [
    "print(list( my_tuple ) )\n",
    "print( tuple( list( my_tuple ) ) )"
   ]
  },
  {
   "cell_type": "code",
   "execution_count": 87,
   "metadata": {},
   "outputs": [
    {
     "name": "stdout",
     "output_type": "stream",
     "text": [
      "8\n",
      "8\n"
     ]
    }
   ],
   "source": [
    "my_tuple = (1, 2, ['3', 4, 5], [6, [7, (8)]])\n",
    "\n",
    "print(my_tuple[-1][-1][-1])\n",
    "print(my_tuple[3][1][1])"
   ]
  },
  {
   "cell_type": "code",
   "execution_count": 90,
   "metadata": {},
   "outputs": [
    {
     "name": "stdout",
     "output_type": "stream",
     "text": [
      "[11, [222, 33], 44, 55]\n",
      "[11, [222, 22], 44, 55]\n",
      "(11, [222, 22], 44, 55)\n"
     ]
    }
   ],
   "source": [
    "tuple1 = (11, [222, 33], 44, 55)\n",
    "\n",
    "# solution #1\n",
    "tmp_list = list(tuple1)\n",
    "print(tmp_list)\n",
    "tmp_list[1][1] = 22\n",
    "print(tmp_list)\n",
    "tuple1 = tuple(tmp_list)\n",
    "print( tuple1)"
   ]
  },
  {
   "cell_type": "code",
   "execution_count": 95,
   "metadata": {},
   "outputs": [
    {
     "name": "stdout",
     "output_type": "stream",
     "text": [
      "2460346209408\n",
      "(11, [222, 22], 44, 55)\n",
      "2460346209408\n"
     ]
    }
   ],
   "source": [
    "tuple1 = (11, [222, 33], 44, 55)\n",
    "# solution #2\n",
    "print( id(tuple1[1]) )\n",
    "tuple1[1][1] = 22\n",
    "\n",
    "print(tuple1)\n",
    "print( id(tuple1[1]) )\n",
    "# tuple1[1] = [222, 22] # error\n"
   ]
  },
  {
   "cell_type": "code",
   "execution_count": 108,
   "metadata": {},
   "outputs": [
    {
     "name": "stdout",
     "output_type": "stream",
     "text": [
      "(1, 2, 3, 8, 5, 5, 5, 10)\n",
      "[1, 2, 3, 8, 5, 5, 5, 10]\n",
      "[1, 2, 3, 8, 5, 5, 5]\n",
      "(1, 2, 3, 8, 5, 5, 5)\n",
      "[1, 2, 3, 5, 5, 5, 8]\n",
      "3\n",
      "8\n",
      "8\n"
     ]
    }
   ],
   "source": [
    "combined_tuple = (1,2,3 ) + (8, 5, 5, 5, 10)\n",
    "print( combined_tuple)\n",
    "tmp_list = list(combined_tuple)\n",
    "print(tmp_list)\n",
    "tmp_list.pop()\n",
    "print(tmp_list)\n",
    "combined_tuple = tuple( tmp_list )\n",
    "print( combined_tuple)\n",
    "print( sorted( combined_tuple ) )\n",
    "\n",
    "print( combined_tuple.count(5) )\n",
    "# option #1 for largest value\n",
    "print( sorted( combined_tuple )[-1] )\n",
    "# option #2 for largest value\n",
    "print( max( combined_tuple ) )"
   ]
  },
  {
   "attachments": {},
   "cell_type": "markdown",
   "metadata": {},
   "source": [
    "# Range"
   ]
  },
  {
   "cell_type": "code",
   "execution_count": 114,
   "metadata": {},
   "outputs": [
    {
     "name": "stdout",
     "output_type": "stream",
     "text": [
      "range(0, 10)\n",
      "<class 'range'>\n",
      "[0, 1, 2, 3, 4, 5, 6, 7, 8, 9]\n",
      "[-4, -3, -2, -1, 0, 1, 2, 3, 4, 5, 6, 7, 8, 9]\n",
      "[-4, -1, 2, 5, 8]\n"
     ]
    }
   ],
   "source": [
    "print( range(10) )\n",
    "print( type( range(10) ) )\n",
    "print( list(range(10) ) ) # does not include the end number\n",
    "print( list(range(-4, 10) ) )\n",
    "print( list(range(-4, 10, 3) ) )"
   ]
  },
  {
   "attachments": {},
   "cell_type": "markdown",
   "metadata": {},
   "source": [
    "# For loop"
   ]
  },
  {
   "cell_type": "code",
   "execution_count": 121,
   "metadata": {},
   "outputs": [
    {
     "name": "stdout",
     "output_type": "stream",
     "text": [
      "['Vilnius', 'Kaunas', 'London', 'Berlin']\n",
      "beginning of for loop iteration\n",
      "Vilnius\n",
      "end of for loop iteration\n",
      "beginning of for loop iteration\n",
      "Kaunas\n",
      "end of for loop iteration\n",
      "beginning of for loop iteration\n",
      "London\n",
      "end of for loop iteration\n",
      "beginning of for loop iteration\n",
      "Berlin\n",
      "end of for loop iteration\n",
      "end of cell\n"
     ]
    }
   ],
   "source": [
    "cities = ['Vilnius', 'Kaunas', 'London', 'Berlin']\n",
    "print( cities )\n",
    "\n",
    "# for <member variable name> in <sequence>: \n",
    "for city in cities:\n",
    "    print('beginning of for loop iteration')\n",
    "    print( city )\n",
    "    print('end of for loop iteration')\n",
    "\n",
    "print('end of cell')"
   ]
  },
  {
   "cell_type": "code",
   "execution_count": 119,
   "metadata": {},
   "outputs": [
    {
     "name": "stdout",
     "output_type": "stream",
     "text": [
      "hello\n",
      "Vilnius\n",
      "hello\n",
      "Kaunas\n",
      "hello\n",
      "London\n",
      "hello\n",
      "Berlin\n"
     ]
    }
   ],
   "source": [
    "for x in cities: # try to give meaningful names to variable\n",
    "    print('hello')\n",
    "    print( x )"
   ]
  },
  {
   "cell_type": "code",
   "execution_count": 123,
   "metadata": {},
   "outputs": [
    {
     "name": "stdout",
     "output_type": "stream",
     "text": [
      "Vilnius is a beautiful city!\n",
      "Kaunas is a beautiful city!\n",
      "London is a beautiful city!\n",
      "Berlin is a beautiful city!\n"
     ]
    }
   ],
   "source": [
    "for city in cities:\n",
    "    print(f'{city} is a beautiful city!')"
   ]
  },
  {
   "cell_type": "code",
   "execution_count": 125,
   "metadata": {},
   "outputs": [
    {
     "name": "stdout",
     "output_type": "stream",
     "text": [
      "3^2 = 9\n",
      "7^2 = 49\n",
      "11^2 = 121\n",
      "15^2 = 225\n",
      "19^2 = 361\n",
      "23^2 = 529\n",
      "27^2 = 729\n",
      "31^2 = 961\n",
      "35^2 = 1225\n",
      "39^2 = 1521\n",
      "43^2 = 1849\n",
      "47^2 = 2209\n",
      "51^2 = 2601\n"
     ]
    }
   ],
   "source": [
    "for number in range(3,53,4):\n",
    "    print(f'{number}^2 = {number**2}')"
   ]
  },
  {
   "cell_type": "code",
   "execution_count": 126,
   "metadata": {},
   "outputs": [
    {
     "name": "stdout",
     "output_type": "stream",
     "text": [
      "5\n",
      "4\n",
      "3\n",
      "7\n",
      "5\n",
      "8\n",
      "9\n"
     ]
    }
   ],
   "source": [
    "numbers = [5,4,3,7,5,8,9]\n",
    "# i or idx \n",
    "for i in range( len(numbers) ):\n",
    "    print( numbers[i] )"
   ]
  },
  {
   "cell_type": "code",
   "execution_count": null,
   "metadata": {},
   "outputs": [],
   "source": []
  }
 ],
 "metadata": {
  "kernelspec": {
   "display_name": "Python 3",
   "language": "python",
   "name": "python3"
  },
  "language_info": {
   "codemirror_mode": {
    "name": "ipython",
    "version": 3
   },
   "file_extension": ".py",
   "mimetype": "text/x-python",
   "name": "python",
   "nbconvert_exporter": "python",
   "pygments_lexer": "ipython3",
   "version": "3.10.2"
  },
  "orig_nbformat": 4,
  "vscode": {
   "interpreter": {
    "hash": "db50a459ab6695ace3368e8957af3456c8c93e92d9fe6c38987133d01669da40"
   }
  }
 },
 "nbformat": 4,
 "nbformat_minor": 2
}
