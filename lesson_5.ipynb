{
 "cells": [
  {
   "attachments": {},
   "cell_type": "markdown",
   "metadata": {},
   "source": [
    "# Homework"
   ]
  },
  {
   "attachments": {},
   "cell_type": "markdown",
   "metadata": {},
   "source": [
    "## Homework 1"
   ]
  },
  {
   "attachments": {},
   "cell_type": "markdown",
   "metadata": {},
   "source": [
    "1.1 Print the first 10 inclusive numbers using for loop.\n",
    "\n",
    "1.2 Get the sum of the first 50 numbers inclusive."
   ]
  },
  {
   "cell_type": "code",
   "execution_count": 1,
   "metadata": {},
   "outputs": [
    {
     "name": "stdout",
     "output_type": "stream",
     "text": [
      "1\n",
      "2\n",
      "3\n",
      "4\n",
      "5\n",
      "6\n",
      "7\n",
      "8\n",
      "9\n",
      "10\n"
     ]
    }
   ],
   "source": [
    "for number in range(1,11):\n",
    "    print(number)"
   ]
  },
  {
   "cell_type": "code",
   "execution_count": 2,
   "metadata": {},
   "outputs": [
    {
     "name": "stdout",
     "output_type": "stream",
     "text": [
      "1275\n"
     ]
    }
   ],
   "source": [
    "our_sum = 0\n",
    "for number in range(1,51):\n",
    "    our_sum += number\n",
    "    # our_sum = our_sum + number\n",
    "print(our_sum)"
   ]
  },
  {
   "attachments": {},
   "cell_type": "markdown",
   "metadata": {},
   "source": [
    "2. Use Input() to select a number, print its product from 1 to 10 inclusive."
   ]
  },
  {
   "cell_type": "code",
   "execution_count": 4,
   "metadata": {},
   "outputs": [
    {
     "name": "stdout",
     "output_type": "stream",
     "text": [
      "9 x 1 = 9\n",
      "9 x 2 = 18\n",
      "9 x 3 = 27\n",
      "9 x 4 = 36\n",
      "9 x 5 = 45\n",
      "9 x 6 = 54\n",
      "9 x 7 = 63\n",
      "9 x 8 = 72\n",
      "9 x 9 = 81\n",
      "9 x 10 = 90\n"
     ]
    }
   ],
   "source": [
    "our_number = int(input('enter a number'))\n",
    "\n",
    "for num in range(1,11):\n",
    "    print( f'{our_number} x {num} = {our_number*num}' )"
   ]
  },
  {
   "attachments": {},
   "cell_type": "markdown",
   "metadata": {},
   "source": [
    "3. Get all possible combinations from these lists, add them to a single list.\n"
   ]
  },
  {
   "cell_type": "code",
   "execution_count": 5,
   "metadata": {},
   "outputs": [
    {
     "name": "stdout",
     "output_type": "stream",
     "text": [
      "[('Monday', 10), ('Monday', 11), ('Monday', 12), ('Monday', 13), ('Monday', 14), ('Monday', 15), ('Monday', 16), ('Monday', 17), ('Monday', 18), ('Monday', 19), ('Tuesday', 10), ('Tuesday', 11), ('Tuesday', 12), ('Tuesday', 13), ('Tuesday', 14), ('Tuesday', 15), ('Tuesday', 16), ('Tuesday', 17), ('Tuesday', 18), ('Tuesday', 19), ('Wednesday', 10), ('Wednesday', 11), ('Wednesday', 12), ('Wednesday', 13), ('Wednesday', 14), ('Wednesday', 15), ('Wednesday', 16), ('Wednesday', 17), ('Wednesday', 18), ('Wednesday', 19), ('Thursday', 10), ('Thursday', 11), ('Thursday', 12), ('Thursday', 13), ('Thursday', 14), ('Thursday', 15), ('Thursday', 16), ('Thursday', 17), ('Thursday', 18), ('Thursday', 19), ('Friday', 10), ('Friday', 11), ('Friday', 12), ('Friday', 13), ('Friday', 14), ('Friday', 15), ('Friday', 16), ('Friday', 17), ('Friday', 18), ('Friday', 19), ('Saturday', 10), ('Saturday', 11), ('Saturday', 12), ('Saturday', 13), ('Saturday', 14), ('Saturday', 15), ('Saturday', 16), ('Saturday', 17), ('Saturday', 18), ('Saturday', 19), ('Sunday', 10), ('Sunday', 11), ('Sunday', 12), ('Sunday', 13), ('Sunday', 14), ('Sunday', 15), ('Sunday', 16), ('Sunday', 17), ('Sunday', 18), ('Sunday', 19)]\n"
     ]
    }
   ],
   "source": [
    "days = ('Monday', 'Tuesday', 'Wednesday', 'Thursday', 'Friday', 'Saturday' , 'Sunday')\n",
    "hours = [10, 11, 12, 13, 14, 15, 16, 17, 18, 19]\n",
    "\n",
    "combinations = []\n",
    "\n",
    "for day in days:\n",
    "    for hour in hours:\n",
    "        # print(day, hour)\n",
    "        combinations.append( (day, hour) )\n",
    "\n",
    "print(combinations)"
   ]
  },
  {
   "attachments": {},
   "cell_type": "markdown",
   "metadata": {},
   "source": [
    "## Homework 2"
   ]
  },
  {
   "attachments": {},
   "cell_type": "markdown",
   "metadata": {},
   "source": [
    "1. From the first 100 numbers, if the number is divisible by 2 without a residue, print 'Fizz', if the number is divisible by 3 without a residue, print 'Buzz', if the number is divisible by 2 and 3 without a residue, print 'FizzBuzz'"
   ]
  },
  {
   "cell_type": "code",
   "execution_count": 8,
   "metadata": {},
   "outputs": [
    {
     "name": "stdout",
     "output_type": "stream",
     "text": [
      "1 - \n",
      "2 - Fizz\n",
      "3 - Buzz\n",
      "4 - Fizz\n",
      "5 - \n",
      "6 - FizzBuzz\n",
      "7 - \n",
      "8 - Fizz\n",
      "9 - Buzz\n",
      "10 - Fizz\n",
      "11 - \n",
      "12 - FizzBuzz\n",
      "13 - \n",
      "14 - Fizz\n",
      "15 - Buzz\n",
      "16 - Fizz\n",
      "17 - \n",
      "18 - FizzBuzz\n",
      "19 - \n",
      "20 - Fizz\n",
      "21 - Buzz\n",
      "22 - Fizz\n",
      "23 - \n",
      "24 - FizzBuzz\n",
      "25 - \n",
      "26 - Fizz\n",
      "27 - Buzz\n",
      "28 - Fizz\n",
      "29 - \n",
      "30 - FizzBuzz\n",
      "31 - \n",
      "32 - Fizz\n",
      "33 - Buzz\n",
      "34 - Fizz\n",
      "35 - \n",
      "36 - FizzBuzz\n",
      "37 - \n",
      "38 - Fizz\n",
      "39 - Buzz\n",
      "40 - Fizz\n",
      "41 - \n",
      "42 - FizzBuzz\n",
      "43 - \n",
      "44 - Fizz\n",
      "45 - Buzz\n",
      "46 - Fizz\n",
      "47 - \n",
      "48 - FizzBuzz\n",
      "49 - \n",
      "50 - Fizz\n",
      "51 - Buzz\n",
      "52 - Fizz\n",
      "53 - \n",
      "54 - FizzBuzz\n",
      "55 - \n",
      "56 - Fizz\n",
      "57 - Buzz\n",
      "58 - Fizz\n",
      "59 - \n",
      "60 - FizzBuzz\n",
      "61 - \n",
      "62 - Fizz\n",
      "63 - Buzz\n",
      "64 - Fizz\n",
      "65 - \n",
      "66 - FizzBuzz\n",
      "67 - \n",
      "68 - Fizz\n",
      "69 - Buzz\n",
      "70 - Fizz\n",
      "71 - \n",
      "72 - FizzBuzz\n",
      "73 - \n",
      "74 - Fizz\n",
      "75 - Buzz\n",
      "76 - Fizz\n",
      "77 - \n",
      "78 - FizzBuzz\n",
      "79 - \n",
      "80 - Fizz\n",
      "81 - Buzz\n",
      "82 - Fizz\n",
      "83 - \n",
      "84 - FizzBuzz\n",
      "85 - \n",
      "86 - Fizz\n",
      "87 - Buzz\n",
      "88 - Fizz\n",
      "89 - \n",
      "90 - FizzBuzz\n",
      "91 - \n",
      "92 - Fizz\n",
      "93 - Buzz\n",
      "94 - Fizz\n",
      "95 - \n",
      "96 - FizzBuzz\n",
      "97 - \n",
      "98 - Fizz\n",
      "99 - Buzz\n",
      "100 - Fizz\n"
     ]
    }
   ],
   "source": [
    "for num in range(1,101):\n",
    "    if num % 2 == 0 and num % 3 == 0:\n",
    "        print(f'{num} - FizzBuzz')\n",
    "    elif num % 2 == 0:\n",
    "        print(f'{num} - Fizz')\n",
    "    elif num % 3 == 0:\n",
    "        print(f'{num} - Buzz')\n",
    "    else:\n",
    "        print(f'{num} - ')"
   ]
  },
  {
   "cell_type": "code",
   "execution_count": 9,
   "metadata": {},
   "outputs": [
    {
     "name": "stdout",
     "output_type": "stream",
     "text": [
      "1 - \n",
      "2 - Fizz\n",
      "3 - Buzz\n",
      "4 - Fizz\n",
      "5 - \n",
      "6 - FizzBuzz\n",
      "7 - \n",
      "8 - Fizz\n",
      "9 - Buzz\n",
      "10 - Fizz\n",
      "11 - \n",
      "12 - FizzBuzz\n",
      "13 - \n",
      "14 - Fizz\n",
      "15 - Buzz\n",
      "16 - Fizz\n",
      "17 - \n",
      "18 - FizzBuzz\n",
      "19 - \n",
      "20 - Fizz\n",
      "21 - Buzz\n",
      "22 - Fizz\n",
      "23 - \n",
      "24 - FizzBuzz\n",
      "25 - \n",
      "26 - Fizz\n",
      "27 - Buzz\n",
      "28 - Fizz\n",
      "29 - \n",
      "30 - FizzBuzz\n",
      "31 - \n",
      "32 - Fizz\n",
      "33 - Buzz\n",
      "34 - Fizz\n",
      "35 - \n",
      "36 - FizzBuzz\n",
      "37 - \n",
      "38 - Fizz\n",
      "39 - Buzz\n",
      "40 - Fizz\n",
      "41 - \n",
      "42 - FizzBuzz\n",
      "43 - \n",
      "44 - Fizz\n",
      "45 - Buzz\n",
      "46 - Fizz\n",
      "47 - \n",
      "48 - FizzBuzz\n",
      "49 - \n",
      "50 - Fizz\n",
      "51 - Buzz\n",
      "52 - Fizz\n",
      "53 - \n",
      "54 - FizzBuzz\n",
      "55 - \n",
      "56 - Fizz\n",
      "57 - Buzz\n",
      "58 - Fizz\n",
      "59 - \n",
      "60 - FizzBuzz\n",
      "61 - \n",
      "62 - Fizz\n",
      "63 - Buzz\n",
      "64 - Fizz\n",
      "65 - \n",
      "66 - FizzBuzz\n",
      "67 - \n",
      "68 - Fizz\n",
      "69 - Buzz\n",
      "70 - Fizz\n",
      "71 - \n",
      "72 - FizzBuzz\n",
      "73 - \n",
      "74 - Fizz\n",
      "75 - Buzz\n",
      "76 - Fizz\n",
      "77 - \n",
      "78 - FizzBuzz\n",
      "79 - \n",
      "80 - Fizz\n",
      "81 - Buzz\n",
      "82 - Fizz\n",
      "83 - \n",
      "84 - FizzBuzz\n",
      "85 - \n",
      "86 - Fizz\n",
      "87 - Buzz\n",
      "88 - Fizz\n",
      "89 - \n",
      "90 - FizzBuzz\n",
      "91 - \n",
      "92 - Fizz\n",
      "93 - Buzz\n",
      "94 - Fizz\n",
      "95 - \n",
      "96 - FizzBuzz\n",
      "97 - \n",
      "98 - Fizz\n",
      "99 - Buzz\n",
      "100 - Fizz\n"
     ]
    }
   ],
   "source": [
    "for num in range(1,101):\n",
    "    message = f'{num} - '\n",
    "    if num % 2 == 0:\n",
    "        message += 'Fizz'\n",
    "    if num % 3 == 0:\n",
    "        message += 'Buzz'\n",
    "    print(message)"
   ]
  },
  {
   "attachments": {},
   "cell_type": "markdown",
   "metadata": {},
   "source": [
    "2. Let's choose a number, if the number entered is greater than or equal to 10. go through all numbers from 1 to entered number and  print numbers that divide by 5 with the remainder"
   ]
  },
  {
   "cell_type": "code",
   "execution_count": 12,
   "metadata": {},
   "outputs": [
    {
     "name": "stdout",
     "output_type": "stream",
     "text": [
      "1\n",
      "2\n",
      "3\n",
      "4\n",
      "6\n",
      "7\n",
      "8\n",
      "9\n",
      "11\n",
      "12\n",
      "13\n",
      "14\n",
      "16\n"
     ]
    }
   ],
   "source": [
    "number = 16\n",
    "\n",
    "if number >= 10:\n",
    "    for num in range(1, number + 1 ):\n",
    "        if num % 5 != 0:\n",
    "            print(num)\n",
    "else:\n",
    "    print('number is less than 10')"
   ]
  },
  {
   "attachments": {},
   "cell_type": "markdown",
   "metadata": {},
   "source": [
    "3. What is the length of a list made up of combinations of lists provided if we want to find all possible values? Sort the list from highest to lowest. Might need to do some manipulation or find some help on the internet"
   ]
  },
  {
   "cell_type": "code",
   "execution_count": 17,
   "metadata": {},
   "outputs": [
    {
     "name": "stdout",
     "output_type": "stream",
     "text": [
      "[('1', 'hi', 100), ('1', 'hi', 200), ('1', 'hi', 40), ('1', 'hi', 10), ('1', 'evening', 100), ('1', 'evening', 200), ('1', 'evening', 40), ('1', 'evening', 10), ('1', 'what a beautiful day', 100), ('1', 'what a beautiful day', 200), ('1', 'what a beautiful day', 40), ('1', 'what a beautiful day', 10), ('1', 'weather', 100), ('1', 'weather', 200), ('1', 'weather', 40), ('1', 'weather', 10), ('1', '10 degrees outside', 100), ('1', '10 degrees outside', 200), ('1', '10 degrees outside', 40), ('1', '10 degrees outside', 10), ('2', 'hi', 100), ('2', 'hi', 200), ('2', 'hi', 40), ('2', 'hi', 10), ('2', 'evening', 100), ('2', 'evening', 200), ('2', 'evening', 40), ('2', 'evening', 10), ('2', 'what a beautiful day', 100), ('2', 'what a beautiful day', 200), ('2', 'what a beautiful day', 40), ('2', 'what a beautiful day', 10), ('2', 'weather', 100), ('2', 'weather', 200), ('2', 'weather', 40), ('2', 'weather', 10), ('2', '10 degrees outside', 100), ('2', '10 degrees outside', 200), ('2', '10 degrees outside', 40), ('2', '10 degrees outside', 10), ('3', 'hi', 100), ('3', 'hi', 200), ('3', 'hi', 40), ('3', 'hi', 10), ('3', 'evening', 100), ('3', 'evening', 200), ('3', 'evening', 40), ('3', 'evening', 10), ('3', 'what a beautiful day', 100), ('3', 'what a beautiful day', 200), ('3', 'what a beautiful day', 40), ('3', 'what a beautiful day', 10), ('3', 'weather', 100), ('3', 'weather', 200), ('3', 'weather', 40), ('3', 'weather', 10), ('3', '10 degrees outside', 100), ('3', '10 degrees outside', 200), ('3', '10 degrees outside', 40), ('3', '10 degrees outside', 10), ('4', 'hi', 100), ('4', 'hi', 200), ('4', 'hi', 40), ('4', 'hi', 10), ('4', 'evening', 100), ('4', 'evening', 200), ('4', 'evening', 40), ('4', 'evening', 10), ('4', 'what a beautiful day', 100), ('4', 'what a beautiful day', 200), ('4', 'what a beautiful day', 40), ('4', 'what a beautiful day', 10), ('4', 'weather', 100), ('4', 'weather', 200), ('4', 'weather', 40), ('4', 'weather', 10), ('4', '10 degrees outside', 100), ('4', '10 degrees outside', 200), ('4', '10 degrees outside', 40), ('4', '10 degrees outside', 10), ('5', 'hi', 100), ('5', 'hi', 200), ('5', 'hi', 40), ('5', 'hi', 10), ('5', 'evening', 100), ('5', 'evening', 200), ('5', 'evening', 40), ('5', 'evening', 10), ('5', 'what a beautiful day', 100), ('5', 'what a beautiful day', 200), ('5', 'what a beautiful day', 40), ('5', 'what a beautiful day', 10), ('5', 'weather', 100), ('5', 'weather', 200), ('5', 'weather', 40), ('5', 'weather', 10), ('5', '10 degrees outside', 100), ('5', '10 degrees outside', 200), ('5', '10 degrees outside', 40), ('5', '10 degrees outside', 10)]\n",
      "[('1', '10 degrees outside', 10), ('1', '10 degrees outside', 40), ('1', '10 degrees outside', 100), ('1', '10 degrees outside', 200), ('1', 'evening', 10), ('1', 'evening', 40), ('1', 'evening', 100), ('1', 'evening', 200), ('1', 'hi', 10), ('1', 'hi', 40), ('1', 'hi', 100), ('1', 'hi', 200), ('1', 'weather', 10), ('1', 'weather', 40), ('1', 'weather', 100), ('1', 'weather', 200), ('1', 'what a beautiful day', 10), ('1', 'what a beautiful day', 40), ('1', 'what a beautiful day', 100), ('1', 'what a beautiful day', 200), ('2', '10 degrees outside', 10), ('2', '10 degrees outside', 40), ('2', '10 degrees outside', 100), ('2', '10 degrees outside', 200), ('2', 'evening', 10), ('2', 'evening', 40), ('2', 'evening', 100), ('2', 'evening', 200), ('2', 'hi', 10), ('2', 'hi', 40), ('2', 'hi', 100), ('2', 'hi', 200), ('2', 'weather', 10), ('2', 'weather', 40), ('2', 'weather', 100), ('2', 'weather', 200), ('2', 'what a beautiful day', 10), ('2', 'what a beautiful day', 40), ('2', 'what a beautiful day', 100), ('2', 'what a beautiful day', 200), ('3', '10 degrees outside', 10), ('3', '10 degrees outside', 40), ('3', '10 degrees outside', 100), ('3', '10 degrees outside', 200), ('3', 'evening', 10), ('3', 'evening', 40), ('3', 'evening', 100), ('3', 'evening', 200), ('3', 'hi', 10), ('3', 'hi', 40), ('3', 'hi', 100), ('3', 'hi', 200), ('3', 'weather', 10), ('3', 'weather', 40), ('3', 'weather', 100), ('3', 'weather', 200), ('3', 'what a beautiful day', 10), ('3', 'what a beautiful day', 40), ('3', 'what a beautiful day', 100), ('3', 'what a beautiful day', 200), ('4', '10 degrees outside', 10), ('4', '10 degrees outside', 40), ('4', '10 degrees outside', 100), ('4', '10 degrees outside', 200), ('4', 'evening', 10), ('4', 'evening', 40), ('4', 'evening', 100), ('4', 'evening', 200), ('4', 'hi', 10), ('4', 'hi', 40), ('4', 'hi', 100), ('4', 'hi', 200), ('4', 'weather', 10), ('4', 'weather', 40), ('4', 'weather', 100), ('4', 'weather', 200), ('4', 'what a beautiful day', 10), ('4', 'what a beautiful day', 40), ('4', 'what a beautiful day', 100), ('4', 'what a beautiful day', 200), ('5', '10 degrees outside', 10), ('5', '10 degrees outside', 40), ('5', '10 degrees outside', 100), ('5', '10 degrees outside', 200), ('5', 'evening', 10), ('5', 'evening', 40), ('5', 'evening', 100), ('5', 'evening', 200), ('5', 'hi', 10), ('5', 'hi', 40), ('5', 'hi', 100), ('5', 'hi', 200), ('5', 'weather', 10), ('5', 'weather', 40), ('5', 'weather', 100), ('5', 'weather', 200), ('5', 'what a beautiful day', 10), ('5', 'what a beautiful day', 40), ('5', 'what a beautiful day', 100), ('5', 'what a beautiful day', 200)]\n",
      "[('1', 'hi', 10), ('1', 'evening', 10), ('1', 'what a beautiful day', 10), ('1', 'weather', 10), ('1', '10 degrees outside', 10), ('2', 'hi', 10), ('2', 'evening', 10), ('2', 'what a beautiful day', 10), ('2', 'weather', 10), ('2', '10 degrees outside', 10), ('3', 'hi', 10), ('3', 'evening', 10), ('3', 'what a beautiful day', 10), ('3', 'weather', 10), ('3', '10 degrees outside', 10), ('4', 'hi', 10), ('4', 'evening', 10), ('4', 'what a beautiful day', 10), ('4', 'weather', 10), ('4', '10 degrees outside', 10), ('5', 'hi', 10), ('5', 'evening', 10), ('5', 'what a beautiful day', 10), ('5', 'weather', 10), ('5', '10 degrees outside', 10), ('1', 'hi', 40), ('1', 'evening', 40), ('1', 'what a beautiful day', 40), ('1', 'weather', 40), ('1', '10 degrees outside', 40), ('2', 'hi', 40), ('2', 'evening', 40), ('2', 'what a beautiful day', 40), ('2', 'weather', 40), ('2', '10 degrees outside', 40), ('3', 'hi', 40), ('3', 'evening', 40), ('3', 'what a beautiful day', 40), ('3', 'weather', 40), ('3', '10 degrees outside', 40), ('4', 'hi', 40), ('4', 'evening', 40), ('4', 'what a beautiful day', 40), ('4', 'weather', 40), ('4', '10 degrees outside', 40), ('5', 'hi', 40), ('5', 'evening', 40), ('5', 'what a beautiful day', 40), ('5', 'weather', 40), ('5', '10 degrees outside', 40), ('1', 'hi', 100), ('1', 'evening', 100), ('1', 'what a beautiful day', 100), ('1', 'weather', 100), ('1', '10 degrees outside', 100), ('2', 'hi', 100), ('2', 'evening', 100), ('2', 'what a beautiful day', 100), ('2', 'weather', 100), ('2', '10 degrees outside', 100), ('3', 'hi', 100), ('3', 'evening', 100), ('3', 'what a beautiful day', 100), ('3', 'weather', 100), ('3', '10 degrees outside', 100), ('4', 'hi', 100), ('4', 'evening', 100), ('4', 'what a beautiful day', 100), ('4', 'weather', 100), ('4', '10 degrees outside', 100), ('5', 'hi', 100), ('5', 'evening', 100), ('5', 'what a beautiful day', 100), ('5', 'weather', 100), ('5', '10 degrees outside', 100), ('1', 'hi', 200), ('1', 'evening', 200), ('1', 'what a beautiful day', 200), ('1', 'weather', 200), ('1', '10 degrees outside', 200), ('2', 'hi', 200), ('2', 'evening', 200), ('2', 'what a beautiful day', 200), ('2', 'weather', 200), ('2', '10 degrees outside', 200), ('3', 'hi', 200), ('3', 'evening', 200), ('3', 'what a beautiful day', 200), ('3', 'weather', 200), ('3', '10 degrees outside', 200), ('4', 'hi', 200), ('4', 'evening', 200), ('4', 'what a beautiful day', 200), ('4', 'weather', 200), ('4', '10 degrees outside', 200), ('5', 'hi', 200), ('5', 'evening', 200), ('5', 'what a beautiful day', 200), ('5', 'weather', 200), ('5', '10 degrees outside', 200)]\n",
      "[('1', 'hi', 100), ('1', 'hi', 200), ('1', 'hi', 40), ('1', 'hi', 10), ('2', 'hi', 100), ('2', 'hi', 200), ('2', 'hi', 40), ('2', 'hi', 10), ('3', 'hi', 100), ('3', 'hi', 200), ('3', 'hi', 40), ('3', 'hi', 10), ('4', 'hi', 100), ('4', 'hi', 200), ('4', 'hi', 40), ('4', 'hi', 10), ('5', 'hi', 100), ('5', 'hi', 200), ('5', 'hi', 40), ('5', 'hi', 10), ('1', 'evening', 100), ('1', 'evening', 200), ('1', 'evening', 40), ('1', 'evening', 10), ('1', 'weather', 100), ('1', 'weather', 200), ('1', 'weather', 40), ('1', 'weather', 10), ('2', 'evening', 100), ('2', 'evening', 200), ('2', 'evening', 40), ('2', 'evening', 10), ('2', 'weather', 100), ('2', 'weather', 200), ('2', 'weather', 40), ('2', 'weather', 10), ('3', 'evening', 100), ('3', 'evening', 200), ('3', 'evening', 40), ('3', 'evening', 10), ('3', 'weather', 100), ('3', 'weather', 200), ('3', 'weather', 40), ('3', 'weather', 10), ('4', 'evening', 100), ('4', 'evening', 200), ('4', 'evening', 40), ('4', 'evening', 10), ('4', 'weather', 100), ('4', 'weather', 200), ('4', 'weather', 40), ('4', 'weather', 10), ('5', 'evening', 100), ('5', 'evening', 200), ('5', 'evening', 40), ('5', 'evening', 10), ('5', 'weather', 100), ('5', 'weather', 200), ('5', 'weather', 40), ('5', 'weather', 10), ('1', '10 degrees outside', 100), ('1', '10 degrees outside', 200), ('1', '10 degrees outside', 40), ('1', '10 degrees outside', 10), ('2', '10 degrees outside', 100), ('2', '10 degrees outside', 200), ('2', '10 degrees outside', 40), ('2', '10 degrees outside', 10), ('3', '10 degrees outside', 100), ('3', '10 degrees outside', 200), ('3', '10 degrees outside', 40), ('3', '10 degrees outside', 10), ('4', '10 degrees outside', 100), ('4', '10 degrees outside', 200), ('4', '10 degrees outside', 40), ('4', '10 degrees outside', 10), ('5', '10 degrees outside', 100), ('5', '10 degrees outside', 200), ('5', '10 degrees outside', 40), ('5', '10 degrees outside', 10), ('1', 'what a beautiful day', 100), ('1', 'what a beautiful day', 200), ('1', 'what a beautiful day', 40), ('1', 'what a beautiful day', 10), ('2', 'what a beautiful day', 100), ('2', 'what a beautiful day', 200), ('2', 'what a beautiful day', 40), ('2', 'what a beautiful day', 10), ('3', 'what a beautiful day', 100), ('3', 'what a beautiful day', 200), ('3', 'what a beautiful day', 40), ('3', 'what a beautiful day', 10), ('4', 'what a beautiful day', 100), ('4', 'what a beautiful day', 200), ('4', 'what a beautiful day', 40), ('4', 'what a beautiful day', 10), ('5', 'what a beautiful day', 100), ('5', 'what a beautiful day', 200), ('5', 'what a beautiful day', 40), ('5', 'what a beautiful day', 10)]\n",
      "[('1', 'hi', 100), ('1', 'hi', 200), ('1', 'hi', 40), ('1', 'hi', 10), ('1', 'evening', 100), ('1', 'evening', 200), ('1', 'evening', 40), ('1', 'evening', 10), ('1', '10 degrees outside', 100), ('1', '10 degrees outside', 200), ('1', '10 degrees outside', 40), ('1', '10 degrees outside', 10), ('2', 'hi', 100), ('2', 'hi', 200), ('2', 'hi', 40), ('2', 'hi', 10), ('2', 'evening', 100), ('2', 'evening', 200), ('2', 'evening', 40), ('2', 'evening', 10), ('2', '10 degrees outside', 100), ('2', '10 degrees outside', 200), ('2', '10 degrees outside', 40), ('2', '10 degrees outside', 10), ('3', 'hi', 100), ('3', 'hi', 200), ('3', 'hi', 40), ('3', 'hi', 10), ('3', 'evening', 100), ('3', 'evening', 200), ('3', 'evening', 40), ('3', 'evening', 10), ('3', '10 degrees outside', 100), ('3', '10 degrees outside', 200), ('3', '10 degrees outside', 40), ('3', '10 degrees outside', 10), ('4', 'hi', 100), ('4', 'hi', 200), ('4', 'hi', 40), ('4', 'hi', 10), ('4', 'evening', 100), ('4', 'evening', 200), ('4', 'evening', 40), ('4', 'evening', 10), ('4', '10 degrees outside', 100), ('4', '10 degrees outside', 200), ('4', '10 degrees outside', 40), ('4', '10 degrees outside', 10), ('5', 'hi', 100), ('5', 'hi', 200), ('5', 'hi', 40), ('5', 'hi', 10), ('5', 'evening', 100), ('5', 'evening', 200), ('5', 'evening', 40), ('5', 'evening', 10), ('5', '10 degrees outside', 100), ('5', '10 degrees outside', 200), ('5', '10 degrees outside', 40), ('5', '10 degrees outside', 10), ('1', 'weather', 100), ('1', 'weather', 200), ('1', 'weather', 40), ('1', 'weather', 10), ('2', 'weather', 100), ('2', 'weather', 200), ('2', 'weather', 40), ('2', 'weather', 10), ('3', 'weather', 100), ('3', 'weather', 200), ('3', 'weather', 40), ('3', 'weather', 10), ('4', 'weather', 100), ('4', 'weather', 200), ('4', 'weather', 40), ('4', 'weather', 10), ('5', 'weather', 100), ('5', 'weather', 200), ('5', 'weather', 40), ('5', 'weather', 10), ('1', 'what a beautiful day', 100), ('1', 'what a beautiful day', 200), ('1', 'what a beautiful day', 40), ('1', 'what a beautiful day', 10), ('2', 'what a beautiful day', 100), ('2', 'what a beautiful day', 200), ('2', 'what a beautiful day', 40), ('2', 'what a beautiful day', 10), ('3', 'what a beautiful day', 100), ('3', 'what a beautiful day', 200), ('3', 'what a beautiful day', 40), ('3', 'what a beautiful day', 10), ('4', 'what a beautiful day', 100), ('4', 'what a beautiful day', 200), ('4', 'what a beautiful day', 40), ('4', 'what a beautiful day', 10), ('5', 'what a beautiful day', 100), ('5', 'what a beautiful day', 200), ('5', 'what a beautiful day', 40), ('5', 'what a beautiful day', 10)]\n"
     ]
    }
   ],
   "source": [
    "a = ['1','2','3','4','5']\n",
    "b = ['hi', 'evening', 'what a beautiful day', 'weather', '10 degrees outside'] \n",
    "c = ['100', '200', 40, 10]\n",
    "\n",
    "c[0] = int(c[0])\n",
    "c[1] = int(c[1])\n",
    "\n",
    "combinations = []\n",
    "for first in a:\n",
    "    for second in b:\n",
    "        for third in c:\n",
    "            combinations.append( (first,second,third) )\n",
    "print(combinations)\n",
    "print( sorted(combinations) )\n",
    "print( sorted(combinations, key=lambda x: x[2] ) )\n",
    "print( sorted(combinations, key=lambda x: len(x[1]) ) )\n",
    "print( sorted(combinations, key=lambda x: x[1].count('a') ) )"
   ]
  },
  {
   "attachments": {},
   "cell_type": "markdown",
   "metadata": {},
   "source": [
    "4. get value 'Ford', get the length of the dictionary car, change the year to 2020"
   ]
  },
  {
   "cell_type": "code",
   "execution_count": 18,
   "metadata": {},
   "outputs": [
    {
     "name": "stdout",
     "output_type": "stream",
     "text": [
      "Ford\n",
      "3\n",
      "{'brand': 'Ford', 'model': 'Mustang', 'year': 2020}\n"
     ]
    }
   ],
   "source": [
    "car =    {\n",
    "  \"brand\": \"Ford\",\n",
    "  \"model\": \"Mustang\",\n",
    "  \"year\": 1964\n",
    "}\n",
    "\n",
    "print( car[ 'brand' ] )\n",
    "print( len(car) )\n",
    "car[ 'year' ] = 2020\n",
    "print(car)"
   ]
  },
  {
   "attachments": {},
   "cell_type": "markdown",
   "metadata": {},
   "source": [
    "5. Add new values to the existing dictionary (from task 4.)\n",
    "'color' = 'red'\n",
    "'used' =  True"
   ]
  },
  {
   "cell_type": "code",
   "execution_count": 19,
   "metadata": {},
   "outputs": [
    {
     "name": "stdout",
     "output_type": "stream",
     "text": [
      "{'brand': 'Ford', 'model': 'Mustang', 'year': 2020, 'color': 'red', 'used': True}\n"
     ]
    }
   ],
   "source": [
    "car.update( {'color' : 'red', 'used' : True} )\n",
    "print(car)"
   ]
  },
  {
   "attachments": {},
   "cell_type": "markdown",
   "metadata": {},
   "source": [
    "6. Delete the 'brand' key and value from the following dictionary and change the value of year to None.\n"
   ]
  },
  {
   "cell_type": "code",
   "execution_count": 20,
   "metadata": {},
   "outputs": [
    {
     "name": "stdout",
     "output_type": "stream",
     "text": [
      "{'year': None, 'color': 'red', 'used': True}\n"
     ]
    }
   ],
   "source": [
    "car =    {\n",
    "  \"brand\": \"Ford\",\n",
    "  \"year\": 1992,\n",
    "  'color' : 'red',\n",
    "  'used' :  True\n",
    "}\n",
    "\n",
    "del car['brand']\n",
    "# car.pop()\n",
    "car['year'] = None\n",
    "print(car)"
   ]
  },
  {
   "attachments": {},
   "cell_type": "markdown",
   "metadata": {},
   "source": [
    "# List comprehensions "
   ]
  },
  {
   "cell_type": "code",
   "execution_count": 21,
   "metadata": {},
   "outputs": [
    {
     "name": "stdout",
     "output_type": "stream",
     "text": [
      "[3, 6, 9, 12, 15, 18]\n"
     ]
    }
   ],
   "source": [
    "numbers = list(range(1,21) )\n",
    "dividible_by_3 = []\n",
    "for number in numbers:\n",
    "    if number % 3 == 0:\n",
    "        dividible_by_3.append(number)\n",
    "        # print(number)\n",
    "print (dividible_by_3)"
   ]
  },
  {
   "cell_type": "code",
   "execution_count": 23,
   "metadata": {},
   "outputs": [
    {
     "name": "stdout",
     "output_type": "stream",
     "text": [
      "[3, 6, 9, 12, 15, 18]\n"
     ]
    }
   ],
   "source": [
    "dividible_by_3 = [ number for number in numbers if number % 3 == 0 ]\n",
    "print (dividible_by_3)"
   ]
  },
  {
   "cell_type": "code",
   "execution_count": 24,
   "metadata": {},
   "outputs": [
    {
     "name": "stdout",
     "output_type": "stream",
     "text": [
      "[30, 60, 90, 120, 150, 180]\n"
     ]
    }
   ],
   "source": [
    "dividible_by_3_times_10 = [ number*10 for number in numbers if number % 3 == 0 ]\n",
    "print(dividible_by_3_times_10)"
   ]
  },
  {
   "cell_type": "code",
   "execution_count": 27,
   "metadata": {},
   "outputs": [
    {
     "name": "stdout",
     "output_type": "stream",
     "text": [
      "[1, 1, 1, 1, 1, 1]\n"
     ]
    }
   ],
   "source": [
    "dividible_by_3_count = [ 1 for number in numbers if number % 3 == 0 ]\n",
    "print(dividible_by_3_count)"
   ]
  },
  {
   "cell_type": "code",
   "execution_count": 30,
   "metadata": {},
   "outputs": [
    {
     "name": "stdout",
     "output_type": "stream",
     "text": [
      "['not div by 3', 'not div by 3', 3, 'not div by 3', 'not div by 3', 6, 'not div by 3', 'not div by 3', 9, 'not div by 3', 'not div by 3', 12, 'not div by 3', 'not div by 3', 15, 'not div by 3', 'not div by 3', 18, 'not div by 3', 'not div by 3']\n",
      "20\n"
     ]
    }
   ],
   "source": [
    "dividible_by_3 = [ number if number % 3 == 0 else 'not div by 3' for number in numbers ]\n",
    "print(dividible_by_3)\n",
    "print(len (dividible_by_3) )"
   ]
  },
  {
   "cell_type": "code",
   "execution_count": 31,
   "metadata": {},
   "outputs": [
    {
     "name": "stdout",
     "output_type": "stream",
     "text": [
      "The Zen of Python, by Tim Peters\n",
      "\n",
      "Beautiful is better than ugly.\n",
      "Explicit is better than implicit.\n",
      "Simple is better than complex.\n",
      "Complex is better than complicated.\n",
      "Flat is better than nested.\n",
      "Sparse is better than dense.\n",
      "Readability counts.\n",
      "Special cases aren't special enough to break the rules.\n",
      "Although practicality beats purity.\n",
      "Errors should never pass silently.\n",
      "Unless explicitly silenced.\n",
      "In the face of ambiguity, refuse the temptation to guess.\n",
      "There should be one-- and preferably only one --obvious way to do it.\n",
      "Although that way may not be obvious at first unless you're Dutch.\n",
      "Now is better than never.\n",
      "Although never is often better than *right* now.\n",
      "If the implementation is hard to explain, it's a bad idea.\n",
      "If the implementation is easy to explain, it may be a good idea.\n",
      "Namespaces are one honking great idea -- let's do more of those!\n"
     ]
    }
   ],
   "source": [
    "import this\n"
   ]
  },
  {
   "cell_type": "code",
   "execution_count": 32,
   "metadata": {},
   "outputs": [
    {
     "name": "stdout",
     "output_type": "stream",
     "text": [
      "[2, 4, 6, 8, 10, 12, 14, 16, 18, 20, 22, 24, 26, 28, 30, 32, 34, 36, 38, 40]\n"
     ]
    }
   ],
   "source": [
    "doubled = [ number * 2 for number in numbers]\n",
    "print (doubled)"
   ]
  },
  {
   "cell_type": "code",
   "execution_count": 33,
   "metadata": {},
   "outputs": [
    {
     "name": "stdout",
     "output_type": "stream",
     "text": [
      "[1, 4, 9, 16, 25, 36, 49, 64, 81, 100, 121, 144, 169, 196, 225, 256, 289, 324, 361, 400]\n"
     ]
    }
   ],
   "source": [
    "squared = [ number ** 2 for number in numbers]\n",
    "print (squared)"
   ]
  },
  {
   "attachments": {},
   "cell_type": "markdown",
   "metadata": {},
   "source": [
    "# Set"
   ]
  },
  {
   "cell_type": "code",
   "execution_count": 34,
   "metadata": {},
   "outputs": [
    {
     "name": "stdout",
     "output_type": "stream",
     "text": [
      "{1, 2, 3, 100, 4, 'a', 'c', 'b'}\n"
     ]
    }
   ],
   "source": [
    "my_set = { 100,1,2,3,4,1,1,1,1,1, 'a', 'b', 'c', 'c' }\n",
    "print(my_set)"
   ]
  },
  {
   "cell_type": "code",
   "execution_count": 35,
   "metadata": {},
   "outputs": [
    {
     "name": "stdout",
     "output_type": "stream",
     "text": [
      "8\n"
     ]
    }
   ],
   "source": [
    "print(len(my_set))"
   ]
  },
  {
   "cell_type": "code",
   "execution_count": 36,
   "metadata": {},
   "outputs": [
    {
     "ename": "TypeError",
     "evalue": "'set' object is not subscriptable",
     "output_type": "error",
     "traceback": [
      "\u001b[1;31m---------------------------------------------------------------------------\u001b[0m",
      "\u001b[1;31mTypeError\u001b[0m                                 Traceback (most recent call last)",
      "\u001b[1;32mc:\\Users\\Robotux\\Documents\\Python\\20221108VCSDMAB2B\\lesson_5.ipynb Cell 36\u001b[0m in \u001b[0;36m<module>\u001b[1;34m\u001b[0m\n\u001b[1;32m----> <a href='vscode-notebook-cell:/c%3A/Users/Robotux/Documents/Python/20221108VCSDMAB2B/lesson_5.ipynb#X51sZmlsZQ%3D%3D?line=0'>1</a>\u001b[0m \u001b[39mprint\u001b[39m(my_set[\u001b[39m0\u001b[39;49m])\n",
      "\u001b[1;31mTypeError\u001b[0m: 'set' object is not subscriptable"
     ]
    }
   ],
   "source": [
    "print(my_set[0])"
   ]
  },
  {
   "cell_type": "code",
   "execution_count": 38,
   "metadata": {},
   "outputs": [
    {
     "name": "stdout",
     "output_type": "stream",
     "text": [
      "[1, 'Darius', 5]\n"
     ]
    }
   ],
   "source": [
    "set_list = list( set( [1,1,1,1,5,5,5,5,'Darius', 'Darius', 'Darius'] ) )\n",
    "print(set_list)"
   ]
  },
  {
   "cell_type": "code",
   "execution_count": 39,
   "metadata": {},
   "outputs": [
    {
     "name": "stdout",
     "output_type": "stream",
     "text": [
      "{1, 2, 3, 100, 4, 'a', 'c', 'b'}\n"
     ]
    }
   ],
   "source": [
    "print(my_set)"
   ]
  },
  {
   "cell_type": "code",
   "execution_count": 42,
   "metadata": {},
   "outputs": [
    {
     "name": "stdout",
     "output_type": "stream",
     "text": [
      "True\n",
      "True\n",
      "False\n"
     ]
    }
   ],
   "source": [
    "print(1 in my_set)\n",
    "print('a' in my_set)\n",
    "print('d' in my_set)"
   ]
  },
  {
   "cell_type": "code",
   "execution_count": 45,
   "metadata": {},
   "outputs": [
    {
     "name": "stdout",
     "output_type": "stream",
     "text": [
      "{1, 2, 3, 100, 4, 'a', 'c', 'b'}\n",
      "{1, 2, 3, 100, 4, 5, 'a', 'c', 'b'}\n",
      "{1, 2, 3, 100, 4, 5, 200, 300, 'a', 'c', 'b'}\n"
     ]
    }
   ],
   "source": [
    "my_set = {1, 2, 3, 100, 4, 'a', 'c', 'b'}\n",
    "print(my_set)\n",
    "my_set.add(1)\n",
    "my_set.add(5)\n",
    "print(my_set)\n",
    "my_set.update( [100,200,300] )\n",
    "print(my_set)"
   ]
  },
  {
   "cell_type": "code",
   "execution_count": 52,
   "metadata": {},
   "outputs": [
    {
     "name": "stdout",
     "output_type": "stream",
     "text": [
      "{1, 2, 3, 100, 4, 5, 200, 300, 'a', 'c', 'b'}\n",
      "{3, 100, 4, 5, 200, 300, 'a', 'c', 'b'}\n",
      "{3, 100, 4, 200, 300, 'a', 'c', 'b'}\n",
      "{3, 100, 4, 200, 300, 'c', 'b'}\n"
     ]
    }
   ],
   "source": [
    "my_set = {1, 2, 3, 100, 4, 5, 200, 300, 'a', 'c', 'b'}\n",
    "print(my_set)\n",
    "my_set.pop()\n",
    "my_set.pop()\n",
    "print(my_set)\n",
    "my_set.remove(5)\n",
    "# my_set.remove(5) # error\n",
    "print(my_set)\n",
    "my_set.discard('a')\n",
    "my_set.discard('a')\n",
    "my_set.discard('a')\n",
    "my_set.discard('a')\n",
    "my_set.discard('a')\n",
    "print(my_set)"
   ]
  },
  {
   "cell_type": "code",
   "execution_count": 56,
   "metadata": {},
   "outputs": [
    {
     "name": "stdout",
     "output_type": "stream",
     "text": [
      "{1, 3, 4, 5, 6, 7, 8, 9}\n",
      "{1, 3}\n",
      "{8, 9, 4, 6}\n",
      "{5, 7}\n"
     ]
    }
   ],
   "source": [
    "my_set_1 = {1,3,5,7}\n",
    "my_set_2 = { 4,5,6,7,8,9 }\n",
    "\n",
    "print( my_set_1.union( my_set_2 ) )\n",
    "print( my_set_1.difference( my_set_2 ) )\n",
    "print( my_set_2.difference( my_set_1 ) )\n",
    "\n",
    "print( my_set_1.intersection( my_set_2 ) )"
   ]
  },
  {
   "cell_type": "code",
   "execution_count": 61,
   "metadata": {},
   "outputs": [
    {
     "name": "stdout",
     "output_type": "stream",
     "text": [
      "True\n",
      "False\n",
      "False\n",
      "True\n",
      "False\n"
     ]
    }
   ],
   "source": [
    "small_set = {2,4}\n",
    "big_set = {1,2,3,4,5}\n",
    "\n",
    "print( small_set.issubset(big_set)  )\n",
    "print( big_set.issubset(small_set)  )\n",
    "\n",
    "print( small_set.issuperset(big_set)  )\n",
    "print( big_set.issuperset(small_set)  )\n",
    "\n",
    "print( {4,6}.issubset(big_set) )\n"
   ]
  },
  {
   "cell_type": "code",
   "execution_count": 62,
   "metadata": {},
   "outputs": [
    {
     "name": "stdout",
     "output_type": "stream",
     "text": [
      "{('new_value', 5), 'apple', 'cherry', 'banana'}\n"
     ]
    }
   ],
   "source": [
    "fruits = {\"apple\", \"banana\", \"cherry\"}\n",
    "fruits.add((\"new_value\", 5))\n",
    "print(fruits)"
   ]
  },
  {
   "cell_type": "code",
   "execution_count": 63,
   "metadata": {},
   "outputs": [
    {
     "name": "stdout",
     "output_type": "stream",
     "text": [
      "{'banana', 'cherry', 'watermelon'}\n"
     ]
    }
   ],
   "source": [
    "fruits = {\"apple\", \"banana\", \"cherry\"}\n",
    "fruits.discard('apple')\n",
    "fruits.add('watermelon')\n",
    "print(fruits)"
   ]
  },
  {
   "cell_type": "code",
   "execution_count": 64,
   "metadata": {},
   "outputs": [
    {
     "name": "stdout",
     "output_type": "stream",
     "text": [
      "{'banana', 'cherry', 'apple'}\n",
      "{'banana', 'cherry', 'apple', 'watermelon'}\n",
      "{'apple', 'lemon', 'orange', 'cherry', 'watermelon', 'mango', 'pear', 'banana', 'pineapple'}\n",
      "{'lemon', 'orange', 'cherry', 'watermelon', 'mango', 'pear', 'banana', 'pineapple'}\n",
      "8\n",
      "8\n"
     ]
    }
   ],
   "source": [
    "fruits = {\"apple\", \"banana\", \"cherry\"}\n",
    "\n",
    "print(fruits)\n",
    "\n",
    "fruits.add(\"watermelon\")\n",
    "\n",
    "print(fruits)\n",
    "\n",
    "fruits.update([\"lemon\", \"orange\", \"pear\", \"pineapple\", \"mango\"])\n",
    "\n",
    "print(fruits)\n",
    "\n",
    "fruits.remove(\"apple\")\n",
    "\n",
    "print(fruits)\n",
    "\n",
    "print(len(fruits))\n",
    "\n",
    "fruits.add(\"lemon\")\n",
    "\n",
    "print(len(fruits))"
   ]
  },
  {
   "cell_type": "code",
   "execution_count": 66,
   "metadata": {},
   "outputs": [],
   "source": [
    "song = \"\"\"\n",
    "Is this the real life?\n",
    "Is this just fantasy?\n",
    "Caught in a landside,\n",
    "No escape from reality\n",
    "Open your eyes,\n",
    "Look up to the skies and see,\n",
    "I'm just a poor boy, I need no sympathy,\n",
    "Because I'm easy come, easy go,\n",
    "Little high, little low,\n",
    "Any way the wind blows doesn't really matter to\n",
    "Me, to me\n",
    "Mamaaa,\n",
    "Just killed a man,\n",
    "Put a gun against his head, pulled my trigger,\n",
    "Now he's dead\n",
    "Mamaaa, life had just begun,\n",
    "But now I've gone and thrown it all away\n",
    "Mama, oooh,\n",
    "Didn't mean to make you cry,\n",
    "If I'm not back again this time tomorrow,\n",
    "Carry on, carry on as if nothing really matters\n",
    "Too late, my time has come,\n",
    "Sends shivers down my spine, body's aching all\n",
    "The time\n",
    "Goodbye, everybody, I've got to go,\n",
    "Gotta leave you all behind and face the truth\n",
    "Mama, oooh\n",
    "I don't want to die,\n",
    "I sometimes wish I'd never been born at all.\n",
    "I see a little silhouetto of a man,\n",
    "Scaramouch, Scaramouch, will you do the Fandango!\n",
    "Thunderbolts and lightning, very, very frightening me\n",
    "Galileo, Galileo\n",
    "Galileo, Galileo\n",
    "Galileo, Figaro - magnificoo\n",
    "I'm just a poor boy nobody loves me\n",
    "He's just a poor boy from a poor family,\n",
    "Spare him his life from this monstrosity\n",
    "Easy come, easy go, will you let me go\n",
    "Bismillah! No, we will not let you go\n",
    "(Let him go!) Bismillah! We will not let you go\n",
    "(Let him go!) Bismillah! We will not let you go\n",
    "(Let me go) Will not let you go\n",
    "(Let me go)(Never) Never let you go\n",
    "(Let me go) (Never) let you go (Let me go) Ah\n",
    "No, no, no, no, no, no, no\n",
    "Oh mama mia, mama mia, mama mia, let me go\n",
    "Beelzebub has a devil put aside for me, for me,\n",
    "For meee\n",
    "So you think you can stop me and spit in my eye\n",
    "So you think you can love me and leave me to die\n",
    "Oh, baby, can't do this to me, baby,\n",
    "Just gotta get out, just gotta get right outta here\n",
    "Nothing really matters, Anyone can see,\n",
    "Nothing really matters,\n",
    "Nothing really matters to me\n",
    "Any way the wind blows...\n",
    "\"\"\""
   ]
  },
  {
   "cell_type": "code",
   "execution_count": 75,
   "metadata": {},
   "outputs": [
    {
     "name": "stdout",
     "output_type": "stream",
     "text": [
      " is this  real life is this just fantasy caught in a landside no escape from reality open your eyes look up to  skies and see im just a poor boy i need no sympathy because im easy come easy go little high little low any way  wind blows doesnt really matter to me to me mamaaa just killed a man put a gun against his head pulled my trigger now hes dead mamaaa life had just begun but now ive gone and thrown it all away mama oooh didnt mean to make you cry if im not back again this time tomorrow carry on carry on as if nothing really matters too late my time has come sends shivers down my spine bodys aching all  time goodbye everybody ive got to go gotta leave you all behind and face  truth mama oooh i dont want to die i sometimes wish id never been born at all i see a little silhouetto of a man scaramouch scaramouch will you do  fandango thunderbolts and lightning very very frightening me galileo galileo galileo galileo galileo figaro  magnificoo im just a poor boy nobody loves me hes just a poor boy from a poor family spare him his life from this monstrosity easy come easy go will you let me go bismillah no we will not let you go let him go bismillah we will not let you go let him go bismillah we will not let you go let me go will not let you go let me gonever never let you go let me go never let you go let me go ah no no no no no no no oh mama mia mama mia mama mia let me go beelzebub has a devil put aside for me for me for meee so you think you can stop me and spit in my eye so you think you can love me and leave me to die oh baby cant do this to me baby just gotta get out just gotta get right outta here nothing really matters anyone can see nothing really matters nothing really matters to me any way  wind blows \n"
     ]
    }
   ],
   "source": [
    "fix_song = song.lower().replace('the ', ' ').replace('\\'', '').replace('?', '').replace(',', '')\n",
    "fix_song = fix_song.replace('!', '').replace('(', '').replace(')', '').replace('-', '').replace('.', '').replace('\\n', ' ')\n",
    "print(fix_song)"
   ]
  },
  {
   "cell_type": "code",
   "execution_count": 81,
   "metadata": {},
   "outputs": [
    {
     "name": "stdout",
     "output_type": "stream",
     "text": [
      "['', 'is', 'this', '', 'real', 'life', 'is', 'this', 'just', 'fantasy', 'caught', 'in', 'a', 'landside', 'no', 'escape', 'from', 'reality', 'open', 'your', 'eyes', 'look', 'up', 'to', '', 'skies', 'and', 'see', 'im', 'just', 'a', 'poor', 'boy', 'i', 'need', 'no', 'sympathy', 'because', 'im', 'easy', 'come', 'easy', 'go', 'little', 'high', 'little', 'low', 'any', 'way', '', 'wind', 'blows', 'doesnt', 'really', 'matter', 'to', 'me', 'to', 'me', 'mamaaa', 'just', 'killed', 'a', 'man', 'put', 'a', 'gun', 'against', 'his', 'head', 'pulled', 'my', 'trigger', 'now', 'hes', 'dead', 'mamaaa', 'life', 'had', 'just', 'begun', 'but', 'now', 'ive', 'gone', 'and', 'thrown', 'it', 'all', 'away', 'mama', 'oooh', 'didnt', 'mean', 'to', 'make', 'you', 'cry', 'if', 'im', 'not', 'back', 'again', 'this', 'time', 'tomorrow', 'carry', 'on', 'carry', 'on', 'as', 'if', 'nothing', 'really', 'matters', 'too', 'late', 'my', 'time', 'has', 'come', 'sends', 'shivers', 'down', 'my', 'spine', 'bodys', 'aching', 'all', '', 'time', 'goodbye', 'everybody', 'ive', 'got', 'to', 'go', 'gotta', 'leave', 'you', 'all', 'behind', 'and', 'face', '', 'truth', 'mama', 'oooh', 'i', 'dont', 'want', 'to', 'die', 'i', 'sometimes', 'wish', 'id', 'never', 'been', 'born', 'at', 'all', 'i', 'see', 'a', 'little', 'silhouetto', 'of', 'a', 'man', 'scaramouch', 'scaramouch', 'will', 'you', 'do', '', 'fandango', 'thunderbolts', 'and', 'lightning', 'very', 'very', 'frightening', 'me', 'galileo', 'galileo', 'galileo', 'galileo', 'galileo', 'figaro', '', 'magnificoo', 'im', 'just', 'a', 'poor', 'boy', 'nobody', 'loves', 'me', 'hes', 'just', 'a', 'poor', 'boy', 'from', 'a', 'poor', 'family', 'spare', 'him', 'his', 'life', 'from', 'this', 'monstrosity', 'easy', 'come', 'easy', 'go', 'will', 'you', 'let', 'me', 'go', 'bismillah', 'no', 'we', 'will', 'not', 'let', 'you', 'go', 'let', 'him', 'go', 'bismillah', 'we', 'will', 'not', 'let', 'you', 'go', 'let', 'him', 'go', 'bismillah', 'we', 'will', 'not', 'let', 'you', 'go', 'let', 'me', 'go', 'will', 'not', 'let', 'you', 'go', 'let', 'me', 'gonever', 'never', 'let', 'you', 'go', 'let', 'me', 'go', 'never', 'let', 'you', 'go', 'let', 'me', 'go', 'ah', 'no', 'no', 'no', 'no', 'no', 'no', 'no', 'oh', 'mama', 'mia', 'mama', 'mia', 'mama', 'mia', 'let', 'me', 'go', 'beelzebub', 'has', 'a', 'devil', 'put', 'aside', 'for', 'me', 'for', 'me', 'for', 'meee', 'so', 'you', 'think', 'you', 'can', 'stop', 'me', 'and', 'spit', 'in', 'my', 'eye', 'so', 'you', 'think', 'you', 'can', 'love', 'me', 'and', 'leave', 'me', 'to', 'die', 'oh', 'baby', 'cant', 'do', 'this', 'to', 'me', 'baby', 'just', 'gotta', 'get', 'out', 'just', 'gotta', 'get', 'right', 'outta', 'here', 'nothing', 'really', 'matters', 'anyone', 'can', 'see', 'nothing', 'really', 'matters', 'nothing', 'really', 'matters', 'to', 'me', 'any', 'way', '', 'wind', 'blows', '']\n",
      "370\n"
     ]
    }
   ],
   "source": [
    "words = fix_song.split(' ')\n",
    "print(words)\n",
    "print(len(words) )"
   ]
  },
  {
   "cell_type": "code",
   "execution_count": 80,
   "metadata": {},
   "outputs": [
    {
     "name": "stdout",
     "output_type": "stream",
     "text": [
      "{'baby', 'everybody', 'it', 'right', 'caught', 'family', 'not', 'go', 'fandango', 'figaro', 'as', 'eye', 'doesnt', 'nothing', 'cant', 'mamaaa', 'outta', 'gotta', 'really', 'on', 'way', 'little', 'id', 'skies', 'matters', 'has', 'spit', 'wind', 'gone', 'at', 'galileo', 'but', 'devil', 'i', 'nobody', 'leave', 'meee', 'think', 'will', 'get', 'frightening', 'me', 'beelzebub', 'sometimes', 'had', 'hes', 'this', 'just', 'sends', 'to', 'mean', 'behind', 'because', 'his', 'make', 'late', 'thunderbolts', 'eyes', 'oooh', 'dont', 'want', 'blows', 'killed', 'boy', 'been', 'very', 'silhouetto', 'down', 'fantasy', 'pulled', 'bismillah', 'real', 'bodys', 'aside', 'out', 'from', 'magnificoo', 'my', 'tomorrow', 'sympathy', 'all', 'open', 'come', 'see', 'oh', 'dead', 'too', 'aching', 'ah', 'again', 'thrown', 'goodbye', 'loves', 'cry', 'so', 'didnt', 'mia', 'lightning', 'your', 'easy', 'truth', 'face', 'born', 'is', 'ive', 'head', 'never', 'man', 'monstrosity', 'wish', 'any', 'of', 'high', 'reality', 'put', 'up', 'gonever', 'a', 'you', 'matter', 'spare', 'life', 'love', 'here', 'anyone', 'stop', 'landside', 'time', 'need', 'gun', 'and', 'scaramouch', 'if', 'shivers', 'him', 'look', 'back', 'carry', 'got', 'away', 'escape', 'im', 'poor', 'now', 'in', 'die', 'trigger', 'begun', 'we', 'low', 'against', 'mama', 'for', 'no', 'can', 'spine', 'let', 'do'}\n",
      "158\n"
     ]
    }
   ],
   "source": [
    "unique_words = set(words)\n",
    "unique_words.discard('')\n",
    "print(unique_words)\n",
    "print(len(unique_words))"
   ]
  },
  {
   "cell_type": "code",
   "execution_count": 84,
   "metadata": {},
   "outputs": [
    {
     "name": "stdout",
     "output_type": "stream",
     "text": [
      "0.42702702702702705\n"
     ]
    }
   ],
   "source": [
    "ratio = len(unique_words)/len(words)\n",
    "print(ratio)"
   ]
  },
  {
   "cell_type": "code",
   "execution_count": 82,
   "metadata": {},
   "outputs": [
    {
     "name": "stdout",
     "output_type": "stream",
     "text": [
      "{'baby': 2, 'everybody': 1, 'it': 1, 'right': 1, 'caught': 1, 'family': 1, 'not': 5, 'go': 16, 'fandango': 1, 'figaro': 1, 'as': 1, 'eye': 1, 'doesnt': 1, 'nothing': 4, 'cant': 1, 'mamaaa': 2, 'outta': 1, 'gotta': 3, 'really': 5, 'on': 2, 'way': 2, 'little': 3, 'id': 1, 'skies': 1, 'matters': 4, 'has': 2, 'spit': 1, 'wind': 2, 'gone': 1, 'at': 1, 'galileo': 5, 'but': 1, 'devil': 1, 'i': 4, 'nobody': 1, 'leave': 2, 'meee': 1, 'think': 2, 'will': 6, 'get': 2, 'frightening': 1, 'me': 17, 'beelzebub': 1, 'sometimes': 1, 'had': 1, 'hes': 2, 'this': 5, 'just': 8, 'sends': 1, 'to': 9, 'mean': 1, 'behind': 1, 'because': 1, 'his': 2, 'make': 1, 'late': 1, 'thunderbolts': 1, 'eyes': 1, 'oooh': 2, 'dont': 1, 'want': 1, 'blows': 2, 'killed': 1, 'boy': 3, 'been': 1, 'very': 2, 'silhouetto': 1, 'down': 1, 'fantasy': 1, 'pulled': 1, 'bismillah': 3, 'real': 1, 'bodys': 1, 'aside': 1, 'out': 1, 'from': 3, 'magnificoo': 1, 'my': 4, 'tomorrow': 1, 'sympathy': 1, 'all': 4, 'open': 1, 'come': 3, 'see': 3, 'oh': 2, 'dead': 1, 'too': 1, 'aching': 1, 'ah': 1, 'again': 1, 'thrown': 1, 'goodbye': 1, 'loves': 1, 'cry': 1, 'so': 2, 'didnt': 1, 'mia': 3, 'lightning': 1, 'your': 1, 'easy': 4, 'truth': 1, 'face': 1, 'born': 1, 'is': 2, 'ive': 2, 'head': 1, 'never': 3, 'man': 2, 'monstrosity': 1, 'wish': 1, 'any': 2, 'of': 1, 'high': 1, 'reality': 1, 'put': 2, 'up': 1, 'gonever': 1, 'a': 10, 'you': 14, 'matter': 1, 'spare': 1, 'life': 3, 'love': 1, 'here': 1, 'anyone': 1, 'stop': 1, 'landside': 1, 'time': 3, 'need': 1, 'gun': 1, 'and': 6, 'scaramouch': 2, 'if': 2, 'shivers': 1, 'him': 3, 'look': 1, 'back': 1, 'carry': 2, 'got': 1, 'away': 1, 'escape': 1, 'im': 4, 'poor': 4, 'now': 2, 'in': 2, 'die': 2, 'trigger': 1, 'begun': 1, 'we': 3, 'low': 1, 'against': 1, 'mama': 5, 'for': 3, 'no': 10, 'can': 3, 'spine': 1, 'let': 14, 'do': 2}\n"
     ]
    }
   ],
   "source": [
    "counts = {}\n",
    "for unique_word in unique_words:\n",
    "    counts[unique_word] = words.count(unique_word)\n",
    "print(counts)\n"
   ]
  },
  {
   "cell_type": "code",
   "execution_count": null,
   "metadata": {},
   "outputs": [],
   "source": []
  }
 ],
 "metadata": {
  "kernelspec": {
   "display_name": "Python 3",
   "language": "python",
   "name": "python3"
  },
  "language_info": {
   "codemirror_mode": {
    "name": "ipython",
    "version": 3
   },
   "file_extension": ".py",
   "mimetype": "text/x-python",
   "name": "python",
   "nbconvert_exporter": "python",
   "pygments_lexer": "ipython3",
   "version": "3.10.2"
  },
  "orig_nbformat": 4
 },
 "nbformat": 4,
 "nbformat_minor": 2
}
