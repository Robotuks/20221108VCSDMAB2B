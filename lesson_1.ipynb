{
 "cells": [
  {
   "cell_type": "code",
   "execution_count": 1,
   "metadata": {},
   "outputs": [
    {
     "name": "stdout",
     "output_type": "stream",
     "text": [
      "hello\n",
      "hello\n",
      "hello\n"
     ]
    }
   ],
   "source": [
    "print('hello')\n",
    "print('hello')\n",
    "print('hello')"
   ]
  },
  {
   "cell_type": "code",
   "execution_count": 2,
   "metadata": {},
   "outputs": [
    {
     "name": "stdout",
     "output_type": "stream",
     "text": [
      "new cell\n"
     ]
    }
   ],
   "source": [
    "print(\"new cell\")\n"
   ]
  },
  {
   "cell_type": "code",
   "execution_count": 3,
   "metadata": {},
   "outputs": [],
   "source": [
    "x = 5"
   ]
  },
  {
   "cell_type": "code",
   "execution_count": 4,
   "metadata": {},
   "outputs": [
    {
     "name": "stdout",
     "output_type": "stream",
     "text": [
      "5\n"
     ]
    }
   ],
   "source": [
    "print(x)"
   ]
  },
  {
   "cell_type": "code",
   "execution_count": 5,
   "metadata": {},
   "outputs": [
    {
     "name": "stdout",
     "output_type": "stream",
     "text": [
      "7\n",
      "7\n"
     ]
    }
   ],
   "source": [
    "# variable name = 5 # error\n",
    "variable_name = 5\n",
    "\n",
    "# 1st_number = 1 # error\n",
    "number_1 = 1\n",
    "\n",
    "# this is a constant value variable and shouldn't be changed/updated\n",
    "CONSTANT_VALUE = 7\n",
    "# CONSTANT_VALUE = 6 # DON'T OVERWRITE CONSTANT VALUE\n",
    "\n",
    "\n",
    "print(CONSTANT_VALUE)\n",
    "# print = 'print' # DON'T OVERWRITE standard names, it won't work afterwards\n",
    "\n",
    "print(CONSTANT_VALUE)\n"
   ]
  },
  {
   "attachments": {},
   "cell_type": "markdown",
   "metadata": {},
   "source": [
    "to comment/uncomment a line use: Ctrl + / "
   ]
  },
  {
   "cell_type": "code",
   "execution_count": 6,
   "metadata": {},
   "outputs": [
    {
     "name": "stdout",
     "output_type": "stream",
     "text": [
      "The Zen of Python, by Tim Peters\n",
      "\n",
      "Beautiful is better than ugly.\n",
      "Explicit is better than implicit.\n",
      "Simple is better than complex.\n",
      "Complex is better than complicated.\n",
      "Flat is better than nested.\n",
      "Sparse is better than dense.\n",
      "Readability counts.\n",
      "Special cases aren't special enough to break the rules.\n",
      "Although practicality beats purity.\n",
      "Errors should never pass silently.\n",
      "Unless explicitly silenced.\n",
      "In the face of ambiguity, refuse the temptation to guess.\n",
      "There should be one-- and preferably only one --obvious way to do it.\n",
      "Although that way may not be obvious at first unless you're Dutch.\n",
      "Now is better than never.\n",
      "Although never is often better than *right* now.\n",
      "If the implementation is hard to explain, it's a bad idea.\n",
      "If the implementation is easy to explain, it may be a good idea.\n",
      "Namespaces are one honking great idea -- let's do more of those!\n"
     ]
    }
   ],
   "source": [
    "import this"
   ]
  },
  {
   "attachments": {},
   "cell_type": "markdown",
   "metadata": {},
   "source": [
    "# Strings"
   ]
  },
  {
   "cell_type": "code",
   "execution_count": 7,
   "metadata": {},
   "outputs": [],
   "source": [
    "name = 'Darius'"
   ]
  },
  {
   "cell_type": "code",
   "execution_count": 8,
   "metadata": {},
   "outputs": [
    {
     "name": "stdout",
     "output_type": "stream",
     "text": [
      "Darius\n"
     ]
    }
   ],
   "source": [
    "print(name)"
   ]
  },
  {
   "cell_type": "code",
   "execution_count": 16,
   "metadata": {},
   "outputs": [
    {
     "name": "stdout",
     "output_type": "stream",
     "text": [
      "D\n",
      "a\n",
      "s\n",
      "s\n",
      "u\n",
      "D\n",
      "6\n",
      "17\n"
     ]
    }
   ],
   "source": [
    "print( name[0] )\n",
    "print( name[1] )\n",
    "print( name[5] )\n",
    "print( name[-1] ) # 1st letter from the end\n",
    "print( name[-2] )\n",
    "print( 'Darius'[0] )\n",
    "print( len(name) ) # len - lenght\n",
    "print( len( 'Darius           ' ) )"
   ]
  },
  {
   "attachments": {},
   "cell_type": "markdown",
   "metadata": {},
   "source": [
    "## Slicing"
   ]
  },
  {
   "cell_type": "code",
   "execution_count": 24,
   "metadata": {},
   "outputs": [
    {
     "name": "stdout",
     "output_type": "stream",
     "text": [
      "H\n",
      "llo world\n",
      "llo\n",
      " \n",
      "Hello\n",
      "Hello\n"
     ]
    }
   ],
   "source": [
    "text = 'Hello world'\n",
    "\n",
    "# slicing: variable_name[start:end]\n",
    "print( text[0] )\n",
    "print( text[2:] ) # takes everything from 3rd letter\n",
    "print( text[2:5] ) # takes everything from 3rd letter up 6th letter (not including)\n",
    "print( text[5] )\n",
    "# print( text[2:6] )\n",
    "\n",
    "print( text[:5] )\n",
    "print( text[0:5] ) # same as previous"
   ]
  },
  {
   "cell_type": "code",
   "execution_count": 29,
   "metadata": {},
   "outputs": [
    {
     "name": "stdout",
     "output_type": "stream",
     "text": [
      "Hello world\n",
      "ello wor\n",
      "el o\n",
      "eoo\n",
      "dlrow olleH\n"
     ]
    }
   ],
   "source": [
    "# slicing with step: variable_name[start:end:step]\n",
    "print( text )\n",
    "print( text[1:9] )\n",
    "print( text[1:9:2] )\n",
    "print( text[1:9:3] )\n",
    "\n",
    "print( text[::-1] ) # reverse the word"
   ]
  },
  {
   "cell_type": "code",
   "execution_count": 33,
   "metadata": {},
   "outputs": [
    {
     "name": "stdout",
     "output_type": "stream",
     "text": [
      "I can't go today\n",
      "I can't go today\n",
      "I can't go today\n"
     ]
    }
   ],
   "source": [
    "# text = 'I can't go today' # error\n",
    "text = \"I can't go today\"\n",
    "print (text)\n",
    "text_2 = 'I can\\'t go today'\n",
    "print (text_2)\n",
    "\n",
    "text_3 = '''I can't go today'''\n",
    "print (text_3)"
   ]
  },
  {
   "cell_type": "code",
   "execution_count": 38,
   "metadata": {},
   "outputs": [
    {
     "name": "stdout",
     "output_type": "stream",
     "text": [
      "\n",
      "    line one\n",
      "    line two\n",
      "no spacing\n",
      "\n",
      "\n",
      "    line one\n",
      "    line two\n",
      "no spacing\n",
      "\n"
     ]
    }
   ],
   "source": [
    "# text_4 = \"\n",
    "#     line one\n",
    "#     line two\n",
    "# \" # error\n",
    "text_4 = '''\n",
    "    line one\n",
    "    line two\n",
    "no spacing\n",
    "'''\n",
    "print(text_4)\n",
    "\n",
    "text_4 = \"\"\"\n",
    "    line one\n",
    "    line two\n",
    "no spacing\n",
    "\"\"\"\n",
    "print(text_4)"
   ]
  },
  {
   "cell_type": "code",
   "execution_count": 40,
   "metadata": {},
   "outputs": [],
   "source": [
    "number = 5\n",
    "number_symbol = '5'\n",
    "# number + number_symbol # error\n"
   ]
  },
  {
   "cell_type": "code",
   "execution_count": 41,
   "metadata": {},
   "outputs": [
    {
     "name": "stdout",
     "output_type": "stream",
     "text": [
      "I can't go today\n"
     ]
    }
   ],
   "source": [
    "print (text)"
   ]
  },
  {
   "cell_type": "code",
   "execution_count": 51,
   "metadata": {},
   "outputs": [
    {
     "name": "stdout",
     "output_type": "stream",
     "text": [
      "Title\n",
      "I CAN'T GO TODAY\n",
      "I Can'T Go Today\n",
      "i can't go today\n",
      "2\n",
      "I can't go tomorrow\n",
      "I cAAn't go todAAy\n",
      "I cAAn't go today\n",
      "8\n",
      "go\n"
     ]
    }
   ],
   "source": [
    "print( 'title'.capitalize() )\n",
    "print( text.upper() )\n",
    "print( text.title() )\n",
    "print( text.lower() )\n",
    "print( text.count('a') )\n",
    "print( text.replace('today', 'tomorrow') )\n",
    "print( text.replace('a', 'AA') )\n",
    "print( text.replace('can', 'cAAn') )\n",
    "print( text.find('go') )\n",
    "print( text[8:10] )"
   ]
  },
  {
   "cell_type": "code",
   "execution_count": 58,
   "metadata": {},
   "outputs": [
    {
     "name": "stdout",
     "output_type": "stream",
     "text": [
      "a\n"
     ]
    }
   ],
   "source": [
    "text_2 = \"Hi, I can't go today to the cinema\"\n",
    "# print( text_2[8:10] ) # wrong\n",
    "print( text_2[ text_2.find('go'):] )"
   ]
  },
  {
   "cell_type": "code",
   "execution_count": 57,
   "metadata": {},
   "outputs": [
    {
     "data": {
      "text/plain": [
       "-1"
      ]
     },
     "execution_count": 57,
     "metadata": {},
     "output_type": "execute_result"
    }
   ],
   "source": [
    "text_2.find('GO')"
   ]
  },
  {
   "attachments": {},
   "cell_type": "markdown",
   "metadata": {},
   "source": [
    "Style Guide for Python Code\n",
    "https://peps.python.org/pep-0008 "
   ]
  },
  {
   "cell_type": "code",
   "execution_count": null,
   "metadata": {},
   "outputs": [],
   "source": []
  }
 ],
 "metadata": {
  "kernelspec": {
   "display_name": "Python 3",
   "language": "python",
   "name": "python3"
  },
  "language_info": {
   "codemirror_mode": {
    "name": "ipython",
    "version": 3
   },
   "file_extension": ".py",
   "mimetype": "text/x-python",
   "name": "python",
   "nbconvert_exporter": "python",
   "pygments_lexer": "ipython3",
   "version": "3.10.2"
  },
  "orig_nbformat": 4,
  "vscode": {
   "interpreter": {
    "hash": "db50a459ab6695ace3368e8957af3456c8c93e92d9fe6c38987133d01669da40"
   }
  }
 },
 "nbformat": 4,
 "nbformat_minor": 2
}
