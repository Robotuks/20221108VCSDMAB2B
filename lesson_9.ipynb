{
 "cells": [
  {
   "attachments": {},
   "cell_type": "markdown",
   "metadata": {},
   "source": [
    "# Numpy"
   ]
  },
  {
   "cell_type": "code",
   "execution_count": 4,
   "metadata": {},
   "outputs": [
    {
     "name": "stdout",
     "output_type": "stream",
     "text": [
      "Requirement already satisfied: numpy in c:\\users\\robotux\\appdata\\local\\programs\\python\\python310\\lib\\site-packages (1.22.1)\n"
     ]
    },
    {
     "name": "stderr",
     "output_type": "stream",
     "text": [
      "\n",
      "[notice] A new release of pip available: 22.3.1 -> 23.0.1\n",
      "[notice] To update, run: python.exe -m pip install --upgrade pip\n"
     ]
    }
   ],
   "source": [
    "# %pip install numpy\n",
    "!pip install numpy"
   ]
  },
  {
   "attachments": {},
   "cell_type": "markdown",
   "metadata": {},
   "source": [
    "## 2D array\n"
   ]
  },
  {
   "cell_type": "code",
   "execution_count": 6,
   "metadata": {},
   "outputs": [],
   "source": [
    "a_list = [\n",
    "    [1,2,3,4],\n",
    "    [5,4,6,7],\n",
    "    [9,10,11,12]\n",
    "]"
   ]
  },
  {
   "cell_type": "code",
   "execution_count": 16,
   "metadata": {},
   "outputs": [
    {
     "name": "stdout",
     "output_type": "stream",
     "text": [
      "[[1, 2, 3, 4], [5, 4, 6, 7], [9, 10, 11, 12]]\n",
      "6\n",
      "[9, 10, 11, 12]\n",
      "[1, 5, 9]\n"
     ]
    }
   ],
   "source": [
    "print (a_list )\n",
    "print (a_list[1][2] )\n",
    "print (a_list[2] )\n",
    "print ( [ row[0] for row in a_list ] )"
   ]
  },
  {
   "cell_type": "code",
   "execution_count": 13,
   "metadata": {},
   "outputs": [],
   "source": [
    "import numpy as np"
   ]
  },
  {
   "cell_type": "code",
   "execution_count": 17,
   "metadata": {},
   "outputs": [
    {
     "name": "stdout",
     "output_type": "stream",
     "text": [
      "[[ 1  2  3  4]\n",
      " [ 5  4  6  7]\n",
      " [ 9 10 11 12]]\n",
      "<class 'numpy.ndarray'>\n"
     ]
    }
   ],
   "source": [
    "np_array = np.array(a_list)\n",
    "print(np_array)\n",
    "print(type(np_array))"
   ]
  },
  {
   "cell_type": "code",
   "execution_count": 29,
   "metadata": {},
   "outputs": [
    {
     "name": "stdout",
     "output_type": "stream",
     "text": [
      "[1 2 3 4]\n",
      "3\n",
      "3\n",
      "[ 3  6 11] \n",
      "\n",
      "[ 4  7 12] \n",
      "\n",
      "[[ 4  6]\n",
      " [10 11]] \n",
      "\n",
      "[5 7] \n",
      "\n"
     ]
    }
   ],
   "source": [
    "print (np_array[0] )\n",
    "print (np_array[0][2] )\n",
    "print (np_array[0, 2] ) # [ row index, column index ]\n",
    "print (np_array[:, 2], '\\n' )\n",
    "print (np_array[:, 3], '\\n' )\n",
    "\n",
    "print (np_array[1:, 1:3], '\\n' )\n",
    "\n",
    "print (np_array[ 1, [0,3]], '\\n' )"
   ]
  },
  {
   "cell_type": "code",
   "execution_count": 33,
   "metadata": {},
   "outputs": [
    {
     "name": "stdout",
     "output_type": "stream",
     "text": [
      "[[ 1  2  3  4]\n",
      " [ 5  4  6  7]\n",
      " [ 9 10 11 12]]\n",
      "(3, 4)\n",
      "3\n",
      "4\n"
     ]
    }
   ],
   "source": [
    "print( np_array)\n",
    "print( np_array.shape )\n",
    "print( len(np_array) )\n",
    "print( len(np_array[0]) )"
   ]
  },
  {
   "attachments": {},
   "cell_type": "markdown",
   "metadata": {},
   "source": [
    "## 1D array"
   ]
  },
  {
   "cell_type": "code",
   "execution_count": 42,
   "metadata": {},
   "outputs": [
    {
     "name": "stdout",
     "output_type": "stream",
     "text": [
      "[ 1 58 97  3 74]\n",
      "[1, 58, 97, 3, 74, 1, 58, 97, 3, 74, 1, 58, 97, 3, 74]\n",
      "[3, 174, 291, 9, 222]\n",
      "numpy array\n",
      "[  3 174 291   9 222]\n",
      "[  4  61 100   6  77]\n",
      "[ 0.33333333 19.33333333 32.33333333  1.         24.66666667]\n",
      "[1 1 1 0 2]\n",
      "[     1 195112 912673     27 405224]\n"
     ]
    }
   ],
   "source": [
    "array_1d = np.array( [1,58,97,3,74] )\n",
    "print(array_1d)\n",
    "list_1d = [1,58,97,3,74]\n",
    "print(list_1d * 3)\n",
    "print([ num * 3 for num in list_1d])\n",
    "print('numpy array')\n",
    "print(array_1d * 3 )\n",
    "print(array_1d + 3 )\n",
    "print(array_1d / 3 )\n",
    "print(array_1d % 3 )\n",
    "print(array_1d ** 3 )"
   ]
  },
  {
   "cell_type": "code",
   "execution_count": 49,
   "metadata": {},
   "outputs": [
    {
     "name": "stdout",
     "output_type": "stream",
     "text": [
      "[ 1 58 97  3 74]\n",
      "[1, 58, 10, 25, 74]\n",
      "[1, 58, 50, 50, 74]\n",
      "[ 1 58 10 25 74]\n",
      "[ 1 58 50 50 74]\n"
     ]
    }
   ],
   "source": [
    "array_1d = np.array( [1,58,97,3,74] )\n",
    "print(array_1d)\n",
    "list_1d = [1,58,97,3,74]\n",
    "list_1d[2:4] = [10,25]\n",
    "print(list_1d)\n",
    "# list_1d[2:4] = 50 # error\n",
    "list_1d[2:4] = [50, 50 ]\n",
    "print(list_1d)\n",
    "\n",
    "array_1d[2:4] = [10,25]\n",
    "print(array_1d)\n",
    "array_1d[2:4] = 50\n",
    "print(array_1d)"
   ]
  },
  {
   "attachments": {},
   "cell_type": "markdown",
   "metadata": {},
   "source": [
    "## 3D array"
   ]
  },
  {
   "cell_type": "code",
   "execution_count": 50,
   "metadata": {},
   "outputs": [
    {
     "name": "stdout",
     "output_type": "stream",
     "text": [
      "[[[1 2 3]\n",
      "  [4 5 6]]\n",
      "\n",
      " [[1 2 3]\n",
      "  [4 5 6]]]\n"
     ]
    }
   ],
   "source": [
    "arr_3d = np.array([\n",
    "        [ \n",
    "            [1, 2, 3], \n",
    "            [4, 5, 6]\n",
    "        ],\n",
    "        [\n",
    "            [1, 2, 3],\n",
    "            [4, 5, 6]\n",
    "        ]\n",
    "    ]\n",
    ")\n",
    "print (arr_3d)"
   ]
  },
  {
   "cell_type": "code",
   "execution_count": 51,
   "metadata": {},
   "outputs": [
    {
     "name": "stdout",
     "output_type": "stream",
     "text": [
      "(2, 2, 3)\n"
     ]
    }
   ],
   "source": [
    "print(arr_3d.shape)"
   ]
  },
  {
   "cell_type": "code",
   "execution_count": 54,
   "metadata": {},
   "outputs": [
    {
     "name": "stdout",
     "output_type": "stream",
     "text": [
      "[[[ 1  2 10]\n",
      "  [ 4  5 10]]\n",
      "\n",
      " [[50 50 10]\n",
      "  [ 4  5 10]]] \n",
      "\n",
      "[[[ 1  2 10]\n",
      "  [ 4  5 10]]\n",
      "\n",
      " [[50 50 10]\n",
      "  [ 4  5 10]]]\n"
     ]
    }
   ],
   "source": [
    "arr_3d[ :, :, 2 ] = 10\n",
    "print(arr_3d, '\\n')\n",
    "# replace 2nd matrix 1st row 1st and 2nd column values with 50\n",
    "arr_3d[1, 0, 0:2] = 50\n",
    "print(arr_3d)"
   ]
  },
  {
   "attachments": {},
   "cell_type": "markdown",
   "metadata": {},
   "source": [
    "## Numpy speed"
   ]
  },
  {
   "cell_type": "code",
   "execution_count": 55,
   "metadata": {},
   "outputs": [],
   "source": [
    "size = 1_000_000"
   ]
  },
  {
   "cell_type": "code",
   "execution_count": 58,
   "metadata": {},
   "outputs": [],
   "source": [
    "# %%timeit # Jupyter command\n",
    "\n",
    "py_list = list(range(size)) # ~15 ms"
   ]
  },
  {
   "cell_type": "code",
   "execution_count": 59,
   "metadata": {},
   "outputs": [
    {
     "data": {
      "text/plain": [
       "1000000"
      ]
     },
     "execution_count": 59,
     "metadata": {},
     "output_type": "execute_result"
    }
   ],
   "source": [
    "len(py_list)"
   ]
  },
  {
   "cell_type": "code",
   "execution_count": 61,
   "metadata": {},
   "outputs": [
    {
     "name": "stdout",
     "output_type": "stream",
     "text": [
      "1.25 ms ± 10.8 µs per loop (mean ± std. dev. of 7 runs, 1,000 loops each)\n"
     ]
    }
   ],
   "source": [
    "%%timeit\n",
    "\n",
    "np_arr = np.arange(size) # ~1 ms"
   ]
  },
  {
   "cell_type": "code",
   "execution_count": 62,
   "metadata": {},
   "outputs": [
    {
     "name": "stdout",
     "output_type": "stream",
     "text": [
      "56 ms ± 731 µs per loop (mean ± std. dev. of 7 runs, 10 loops each)\n"
     ]
    }
   ],
   "source": [
    "%%timeit\n",
    "[ num * 2 for num in py_list]"
   ]
  },
  {
   "cell_type": "code",
   "execution_count": 63,
   "metadata": {},
   "outputs": [
    {
     "name": "stdout",
     "output_type": "stream",
     "text": [
      "1.25 ms ± 12.9 µs per loop (mean ± std. dev. of 7 runs, 1,000 loops each)\n"
     ]
    }
   ],
   "source": [
    "%%timeit\n",
    "np_arr * 2"
   ]
  },
  {
   "attachments": {},
   "cell_type": "markdown",
   "metadata": {},
   "source": [
    "## Numpy reshape"
   ]
  },
  {
   "cell_type": "code",
   "execution_count": 64,
   "metadata": {},
   "outputs": [
    {
     "name": "stdout",
     "output_type": "stream",
     "text": [
      "[ 0  1  2  3  4  5  6  7  8  9 10 11 12 13 14 15 16 17 18 19 20 21 22 23\n",
      " 24 25 26 27 28 29 30 31 32 33 34 35 36 37 38 39 40 41 42 43 44 45 46 47\n",
      " 48 49 50 51 52 53 54 55 56 57 58 59 60 61 62 63 64 65 66 67 68 69 70 71\n",
      " 72 73 74 75 76 77 78 79 80 81 82 83 84 85 86 87 88 89 90 91 92 93 94 95\n",
      " 96 97 98 99]\n"
     ]
    }
   ],
   "source": [
    "np_arr = np.arange(100)\n",
    "print(np_arr)"
   ]
  },
  {
   "cell_type": "code",
   "execution_count": 65,
   "metadata": {},
   "outputs": [
    {
     "name": "stdout",
     "output_type": "stream",
     "text": [
      "[[ 0  1  2  3  4  5  6  7  8  9]\n",
      " [10 11 12 13 14 15 16 17 18 19]\n",
      " [20 21 22 23 24 25 26 27 28 29]\n",
      " [30 31 32 33 34 35 36 37 38 39]\n",
      " [40 41 42 43 44 45 46 47 48 49]\n",
      " [50 51 52 53 54 55 56 57 58 59]\n",
      " [60 61 62 63 64 65 66 67 68 69]\n",
      " [70 71 72 73 74 75 76 77 78 79]\n",
      " [80 81 82 83 84 85 86 87 88 89]\n",
      " [90 91 92 93 94 95 96 97 98 99]]\n"
     ]
    }
   ],
   "source": [
    "print( np_arr.reshape( (10, 10) ) )"
   ]
  },
  {
   "cell_type": "code",
   "execution_count": 66,
   "metadata": {},
   "outputs": [
    {
     "name": "stdout",
     "output_type": "stream",
     "text": [
      "[[[ 0  1  2  3  4]\n",
      "  [ 5  6  7  8  9]\n",
      "  [10 11 12 13 14]\n",
      "  [15 16 17 18 19]\n",
      "  [20 21 22 23 24]]\n",
      "\n",
      " [[25 26 27 28 29]\n",
      "  [30 31 32 33 34]\n",
      "  [35 36 37 38 39]\n",
      "  [40 41 42 43 44]\n",
      "  [45 46 47 48 49]]\n",
      "\n",
      " [[50 51 52 53 54]\n",
      "  [55 56 57 58 59]\n",
      "  [60 61 62 63 64]\n",
      "  [65 66 67 68 69]\n",
      "  [70 71 72 73 74]]\n",
      "\n",
      " [[75 76 77 78 79]\n",
      "  [80 81 82 83 84]\n",
      "  [85 86 87 88 89]\n",
      "  [90 91 92 93 94]\n",
      "  [95 96 97 98 99]]]\n"
     ]
    }
   ],
   "source": [
    "print( np_arr.reshape( (4,5,5) ) )"
   ]
  },
  {
   "cell_type": "code",
   "execution_count": 67,
   "metadata": {},
   "outputs": [
    {
     "name": "stdout",
     "output_type": "stream",
     "text": [
      "[[[ 0  1]\n",
      "  [ 2  3]\n",
      "  [ 4  5]\n",
      "  [ 6  7]\n",
      "  [ 8  9]\n",
      "  [10 11]\n",
      "  [12 13]\n",
      "  [14 15]\n",
      "  [16 17]\n",
      "  [18 19]]\n",
      "\n",
      " [[20 21]\n",
      "  [22 23]\n",
      "  [24 25]\n",
      "  [26 27]\n",
      "  [28 29]\n",
      "  [30 31]\n",
      "  [32 33]\n",
      "  [34 35]\n",
      "  [36 37]\n",
      "  [38 39]]\n",
      "\n",
      " [[40 41]\n",
      "  [42 43]\n",
      "  [44 45]\n",
      "  [46 47]\n",
      "  [48 49]\n",
      "  [50 51]\n",
      "  [52 53]\n",
      "  [54 55]\n",
      "  [56 57]\n",
      "  [58 59]]\n",
      "\n",
      " [[60 61]\n",
      "  [62 63]\n",
      "  [64 65]\n",
      "  [66 67]\n",
      "  [68 69]\n",
      "  [70 71]\n",
      "  [72 73]\n",
      "  [74 75]\n",
      "  [76 77]\n",
      "  [78 79]]\n",
      "\n",
      " [[80 81]\n",
      "  [82 83]\n",
      "  [84 85]\n",
      "  [86 87]\n",
      "  [88 89]\n",
      "  [90 91]\n",
      "  [92 93]\n",
      "  [94 95]\n",
      "  [96 97]\n",
      "  [98 99]]]\n"
     ]
    }
   ],
   "source": [
    "print( np_arr.reshape( (5, 10, -1) ) )\n"
   ]
  },
  {
   "attachments": {},
   "cell_type": "markdown",
   "metadata": {},
   "source": [
    "## Numpy methods and functions"
   ]
  },
  {
   "cell_type": "code",
   "execution_count": 68,
   "metadata": {},
   "outputs": [
    {
     "name": "stdout",
     "output_type": "stream",
     "text": [
      "(4, 3, 2)\n"
     ]
    }
   ],
   "source": [
    "array_3d = np.array( [\n",
    "    [ [1,2], [4,3], [7,4] ],\n",
    "    [ [2,2], [4,3], [7,4] ],\n",
    "    [ [3,2], [4,3], [7,4] ],\n",
    "    [ [4,2], [4,3], [7,4] ],\n",
    "]\n",
    ")\n",
    "print(array_3d.shape)"
   ]
  },
  {
   "cell_type": "code",
   "execution_count": 69,
   "metadata": {},
   "outputs": [
    {
     "name": "stdout",
     "output_type": "stream",
     "text": [
      "[[[1 2]\n",
      "  [4 3]\n",
      "  [7 4]]\n",
      "\n",
      " [[2 2]\n",
      "  [4 3]\n",
      "  [7 4]]\n",
      "\n",
      " [[3 2]\n",
      "  [4 3]\n",
      "  [7 4]]\n",
      "\n",
      " [[4 2]\n",
      "  [4 3]\n",
      "  [7 4]]]\n"
     ]
    }
   ],
   "source": [
    "print(array_3d)"
   ]
  },
  {
   "cell_type": "code",
   "execution_count": 76,
   "metadata": {},
   "outputs": [
    {
     "name": "stdout",
     "output_type": "stream",
     "text": [
      "3.75\n",
      "3.75\n",
      "Matrix mean\n",
      " [[2.5 2. ]\n",
      " [4.  3. ]\n",
      " [7.  4. ]] \n",
      "\n",
      "Column mean\n",
      " [[4.         3.        ]\n",
      " [4.33333333 3.        ]\n",
      " [4.66666667 3.        ]\n",
      " [5.         3.        ]] \n",
      "\n",
      "Row mean\n",
      " [[1.5 3.5 5.5]\n",
      " [2.  3.5 5.5]\n",
      " [2.5 3.5 5.5]\n",
      " [3.  3.5 5.5]] \n",
      "\n"
     ]
    }
   ],
   "source": [
    "print( array_3d.mean() )\n",
    "print( np.mean(array_3d)  )\n",
    "\n",
    "print( 'Matrix mean\\n', array_3d.mean(axis=0 ), '\\n' )\n",
    "print( 'Column mean\\n', array_3d.mean(axis=1 ), '\\n' )\n",
    "print( 'Row mean\\n', array_3d.mean(axis=2 ), '\\n' )"
   ]
  },
  {
   "cell_type": "code",
   "execution_count": 78,
   "metadata": {},
   "outputs": [
    {
     "name": "stdout",
     "output_type": "stream",
     "text": [
      "Row sum\n",
      " [[ 3  7 11]\n",
      " [ 4  7 11]\n",
      " [ 5  7 11]\n",
      " [ 6  7 11]] \n",
      "\n",
      "Column std\n",
      " [[2.44948974 0.81649658]\n",
      " [2.05480467 0.81649658]\n",
      " [1.69967317 0.81649658]\n",
      " [1.41421356 0.81649658]] \n",
      "\n"
     ]
    }
   ],
   "source": [
    "print( 'Row sum\\n', array_3d.sum(axis=2 ), '\\n' )\n",
    "print( 'Column std\\n', array_3d.std(axis=1 ), '\\n' )"
   ]
  },
  {
   "cell_type": "code",
   "execution_count": 84,
   "metadata": {},
   "outputs": [
    {
     "name": "stdout",
     "output_type": "stream",
     "text": [
      "[[[1 2]\n",
      "  [4 3]\n",
      "  [7 4]]\n",
      "\n",
      " [[2 2]\n",
      "  [4 3]\n",
      "  [7 4]]\n",
      "\n",
      " [[3 2]\n",
      "  [4 3]\n",
      "  [7 4]]\n",
      "\n",
      " [[4 2]\n",
      "  [4 3]\n",
      "  [7 4]]]\n",
      "Column max value\n",
      " [[7 4]\n",
      " [7 4]\n",
      " [7 4]\n",
      " [7 4]] \n",
      "\n",
      "Column min value\n",
      " [[1 2]\n",
      " [2 2]\n",
      " [3 2]\n",
      " [4 2]] \n",
      "\n",
      "Overall min value\n",
      " 1 \n",
      "\n"
     ]
    }
   ],
   "source": [
    "print(array_3d)\n",
    "print( 'Column max value\\n', array_3d.max(axis=1 ), '\\n' )\n",
    "print( 'Column min value\\n', array_3d.min(axis=1 ), '\\n' )\n",
    "print( 'Overall min value\\n', array_3d.min(), '\\n' )"
   ]
  },
  {
   "cell_type": "code",
   "execution_count": 88,
   "metadata": {},
   "outputs": [
    {
     "name": "stdout",
     "output_type": "stream",
     "text": [
      "(4, 3, 2)\n",
      "(2, 3, 4)\n",
      "[[[1 2 3 4]\n",
      "  [4 4 4 4]\n",
      "  [7 7 7 7]]\n",
      "\n",
      " [[2 2 2 2]\n",
      "  [3 3 3 3]\n",
      "  [4 4 4 4]]]\n"
     ]
    }
   ],
   "source": [
    "print(array_3d.shape)\n",
    "print(array_3d.T.shape)\n",
    "print(array_3d.T)"
   ]
  },
  {
   "attachments": {},
   "cell_type": "markdown",
   "metadata": {},
   "source": [
    "## Numpy comparison"
   ]
  },
  {
   "cell_type": "code",
   "execution_count": 100,
   "metadata": {},
   "outputs": [
    {
     "name": "stdout",
     "output_type": "stream",
     "text": [
      "[[17 43 44 34 15 34 28 41 23 48]\n",
      " [10 35 33 44 18 49 32 34 16 19]\n",
      " [19 24  8 17 16 32 36 17 42 20]\n",
      " [21 10 35 38 47 37 42 49 10 44]\n",
      " [40  7 38 45 39 26 24 41 19  6]\n",
      " [14 16 18 23 33 31 29 34 34  9]\n",
      " [26 23  5 26 10 11 44  9 41 32]\n",
      " [39 22 24 12 38 10 34 36 46 40]\n",
      " [20 49 24 46 19 28 17 30 39 44]\n",
      " [26 47 30 46 23 34 31 31 11 49]]\n",
      "(10, 10)\n"
     ]
    }
   ],
   "source": [
    "rand_array = np.random.randint( 5,50, (10,10) )\n",
    "print(rand_array)\n",
    "print(rand_array.shape)"
   ]
  },
  {
   "cell_type": "code",
   "execution_count": 97,
   "metadata": {},
   "outputs": [
    {
     "name": "stdout",
     "output_type": "stream",
     "text": [
      "[[ True  True False  True  True False  True False  True  True]\n",
      " [ True  True  True  True  True False  True  True  True  True]\n",
      " [False  True  True False  True  True  True  True  True  True]\n",
      " [ True  True  True  True False  True  True  True  True  True]\n",
      " [ True  True  True  True False  True  True  True  True  True]\n",
      " [False  True  True  True  True  True  True False  True  True]\n",
      " [ True  True  True  True False  True False False  True  True]\n",
      " [False  True  True  True  True  True False  True  True  True]\n",
      " [ True  True False False  True  True  True  True False  True]\n",
      " [ True  True False  True False False  True  True  True  True]]\n"
     ]
    }
   ],
   "source": [
    "print( rand_array > 15 ) # This is called a mask"
   ]
  },
  {
   "cell_type": "code",
   "execution_count": 99,
   "metadata": {},
   "outputs": [
    {
     "name": "stdout",
     "output_type": "stream",
     "text": [
      "[29 30 35 20 19 48 26 18 45 38 49 31 33 34 35 41 26 30 35 36 33 44 29 43\n",
      " 20 27 43 45 31 49 35 24 42 46 43 29 35 25 43 34 27 31 42 42 29 41 36 33\n",
      " 46 39 19 32 26 16 44 47 25 27 47 32 38 24 21 43 40 44 41 29 37 20 43 34\n",
      " 36 36 37 39 33 33 42]\n",
      "(79,)\n"
     ]
    }
   ],
   "source": [
    "print(rand_array[ rand_array > 15 ] )\n",
    "print(rand_array[ rand_array > 15 ].shape )"
   ]
  },
  {
   "cell_type": "code",
   "execution_count": 102,
   "metadata": {},
   "outputs": [
    {
     "name": "stdout",
     "output_type": "stream",
     "text": [
      "[48 49 47 49 46 49 46 47 46 49]\n"
     ]
    }
   ],
   "source": [
    "print(rand_array[ rand_array > 45 ] )"
   ]
  },
  {
   "cell_type": "code",
   "execution_count": 103,
   "metadata": {},
   "outputs": [
    {
     "name": "stdout",
     "output_type": "stream",
     "text": [
      "[44 34 34 28 48 10 44 18 32 34 16 24  8 16 32 36 42 20 10 38 42 10 44 40\n",
      " 38 26 24  6 14 16 18 34 34 26 26 10 44 32 22 24 12 38 10 34 36 46 40 20\n",
      " 24 46 28 30 44 26 30 46 34]\n"
     ]
    }
   ],
   "source": [
    "print(rand_array[ rand_array % 2 == 0 ] )"
   ]
  },
  {
   "attachments": {},
   "cell_type": "markdown",
   "metadata": {},
   "source": [
    "## iterating numpy array"
   ]
  },
  {
   "cell_type": "code",
   "execution_count": 104,
   "metadata": {},
   "outputs": [
    {
     "name": "stdout",
     "output_type": "stream",
     "text": [
      "[[[1 2]\n",
      "  [4 3]\n",
      "  [7 4]]\n",
      "\n",
      " [[2 2]\n",
      "  [4 3]\n",
      "  [7 4]]\n",
      "\n",
      " [[3 2]\n",
      "  [4 3]\n",
      "  [7 4]]\n",
      "\n",
      " [[4 2]\n",
      "  [4 3]\n",
      "  [7 4]]]\n"
     ]
    }
   ],
   "source": [
    "print(array_3d)"
   ]
  },
  {
   "cell_type": "code",
   "execution_count": 108,
   "metadata": {},
   "outputs": [
    {
     "name": "stdout",
     "output_type": "stream",
     "text": [
      "loop iteration\n",
      "[[1 2]\n",
      " [4 3]\n",
      " [7 4]]\n",
      "1\n",
      "2\n",
      "4\n",
      "3\n",
      "7\n",
      "4\n",
      "loop iteration\n",
      "[[2 2]\n",
      " [4 3]\n",
      " [7 4]]\n",
      "2\n",
      "2\n",
      "4\n",
      "3\n",
      "7\n",
      "4\n",
      "loop iteration\n",
      "[[3 2]\n",
      " [4 3]\n",
      " [7 4]]\n",
      "3\n",
      "2\n",
      "4\n",
      "3\n",
      "7\n",
      "4\n",
      "loop iteration\n",
      "[[4 2]\n",
      " [4 3]\n",
      " [7 4]]\n",
      "4\n",
      "2\n",
      "4\n",
      "3\n",
      "7\n",
      "4\n"
     ]
    }
   ],
   "source": [
    "for matrix in array_3d:\n",
    "    print('loop iteration')\n",
    "    print(matrix)\n",
    "    for row in matrix:\n",
    "        for col in row:\n",
    "            print(col)"
   ]
  },
  {
   "attachments": {},
   "cell_type": "markdown",
   "metadata": {},
   "source": [
    "# Pandas"
   ]
  },
  {
   "cell_type": "code",
   "execution_count": 110,
   "metadata": {},
   "outputs": [
    {
     "name": "stdout",
     "output_type": "stream",
     "text": [
      "Requirement already satisfied: pandas in c:\\users\\robotux\\appdata\\local\\programs\\python\\python310\\lib\\site-packages (1.3.5)\n",
      "Requirement already satisfied: pytz>=2017.3 in c:\\users\\robotux\\appdata\\local\\programs\\python\\python310\\lib\\site-packages (from pandas) (2021.3)\n",
      "Requirement already satisfied: python-dateutil>=2.7.3 in c:\\users\\robotux\\appdata\\local\\programs\\python\\python310\\lib\\site-packages (from pandas) (2.8.2)\n",
      "Requirement already satisfied: numpy>=1.21.0 in c:\\users\\robotux\\appdata\\local\\programs\\python\\python310\\lib\\site-packages (from pandas) (1.22.1)\n",
      "Requirement already satisfied: six>=1.5 in c:\\users\\robotux\\appdata\\local\\programs\\python\\python310\\lib\\site-packages (from python-dateutil>=2.7.3->pandas) (1.12.0)\n",
      "Note: you may need to restart the kernel to use updated packages.\n"
     ]
    },
    {
     "name": "stderr",
     "output_type": "stream",
     "text": [
      "\n",
      "[notice] A new release of pip available: 22.3.1 -> 23.0.1\n",
      "[notice] To update, run: python.exe -m pip install --upgrade pip\n"
     ]
    }
   ],
   "source": [
    "%pip install pandas"
   ]
  },
  {
   "cell_type": "code",
   "execution_count": 111,
   "metadata": {},
   "outputs": [],
   "source": [
    "import pandas as pd"
   ]
  },
  {
   "cell_type": "code",
   "execution_count": 113,
   "metadata": {},
   "outputs": [
    {
     "data": {
      "text/html": [
       "<div>\n",
       "<style scoped>\n",
       "    .dataframe tbody tr th:only-of-type {\n",
       "        vertical-align: middle;\n",
       "    }\n",
       "\n",
       "    .dataframe tbody tr th {\n",
       "        vertical-align: top;\n",
       "    }\n",
       "\n",
       "    .dataframe thead th {\n",
       "        text-align: right;\n",
       "    }\n",
       "</style>\n",
       "<table border=\"1\" class=\"dataframe\">\n",
       "  <thead>\n",
       "    <tr style=\"text-align: right;\">\n",
       "      <th></th>\n",
       "      <th>month</th>\n",
       "      <th>avg_high</th>\n",
       "      <th>avg_low</th>\n",
       "      <th>record_high</th>\n",
       "      <th>record_low</th>\n",
       "      <th>avg_precipitation</th>\n",
       "    </tr>\n",
       "  </thead>\n",
       "  <tbody>\n",
       "    <tr>\n",
       "      <th>0</th>\n",
       "      <td>Jan</td>\n",
       "      <td>58</td>\n",
       "      <td>42.0</td>\n",
       "      <td>74.0</td>\n",
       "      <td>22</td>\n",
       "      <td>2.05</td>\n",
       "    </tr>\n",
       "    <tr>\n",
       "      <th>1</th>\n",
       "      <td>Feb</td>\n",
       "      <td>61</td>\n",
       "      <td>45.0</td>\n",
       "      <td>78.0</td>\n",
       "      <td>26</td>\n",
       "      <td>3.02</td>\n",
       "    </tr>\n",
       "    <tr>\n",
       "      <th>2</th>\n",
       "      <td>Mar</td>\n",
       "      <td>65</td>\n",
       "      <td>48.0</td>\n",
       "      <td>84.0</td>\n",
       "      <td>25</td>\n",
       "      <td>2.34</td>\n",
       "    </tr>\n",
       "    <tr>\n",
       "      <th>3</th>\n",
       "      <td>Apr</td>\n",
       "      <td>67</td>\n",
       "      <td>50.0</td>\n",
       "      <td>92.0</td>\n",
       "      <td>28</td>\n",
       "      <td>1.02</td>\n",
       "    </tr>\n",
       "    <tr>\n",
       "      <th>4</th>\n",
       "      <td>May</td>\n",
       "      <td>71</td>\n",
       "      <td>53.0</td>\n",
       "      <td>98.0</td>\n",
       "      <td>35</td>\n",
       "      <td>0.48</td>\n",
       "    </tr>\n",
       "    <tr>\n",
       "      <th>5</th>\n",
       "      <td>Jun</td>\n",
       "      <td>75</td>\n",
       "      <td>56.0</td>\n",
       "      <td>107.0</td>\n",
       "      <td>41</td>\n",
       "      <td>0.11</td>\n",
       "    </tr>\n",
       "    <tr>\n",
       "      <th>6</th>\n",
       "      <td>Jul</td>\n",
       "      <td>77</td>\n",
       "      <td>58.0</td>\n",
       "      <td>105.0</td>\n",
       "      <td>44</td>\n",
       "      <td>0.00</td>\n",
       "    </tr>\n",
       "    <tr>\n",
       "      <th>7</th>\n",
       "      <td>Aug</td>\n",
       "      <td>77</td>\n",
       "      <td>59.0</td>\n",
       "      <td>102.0</td>\n",
       "      <td>43</td>\n",
       "      <td>0.03</td>\n",
       "    </tr>\n",
       "    <tr>\n",
       "      <th>8</th>\n",
       "      <td>Sep</td>\n",
       "      <td>77</td>\n",
       "      <td>57.0</td>\n",
       "      <td>103.0</td>\n",
       "      <td>40</td>\n",
       "      <td>0.17</td>\n",
       "    </tr>\n",
       "    <tr>\n",
       "      <th>9</th>\n",
       "      <td>Oct</td>\n",
       "      <td>73</td>\n",
       "      <td>54.0</td>\n",
       "      <td>96.0</td>\n",
       "      <td>34</td>\n",
       "      <td>0.81</td>\n",
       "    </tr>\n",
       "    <tr>\n",
       "      <th>10</th>\n",
       "      <td>Nov</td>\n",
       "      <td>64</td>\n",
       "      <td>48.0</td>\n",
       "      <td>84.0</td>\n",
       "      <td>30</td>\n",
       "      <td>1.70</td>\n",
       "    </tr>\n",
       "    <tr>\n",
       "      <th>11</th>\n",
       "      <td>Dec</td>\n",
       "      <td>58</td>\n",
       "      <td>NaN</td>\n",
       "      <td>NaN</td>\n",
       "      <td>21</td>\n",
       "      <td>2.56</td>\n",
       "    </tr>\n",
       "    <tr>\n",
       "      <th>12</th>\n",
       "      <td>Dec</td>\n",
       "      <td>58</td>\n",
       "      <td>42.0</td>\n",
       "      <td>73.0</td>\n",
       "      <td>21</td>\n",
       "      <td>2.56</td>\n",
       "    </tr>\n",
       "  </tbody>\n",
       "</table>\n",
       "</div>"
      ],
      "text/plain": [
       "   month  avg_high  avg_low  record_high  record_low  avg_precipitation\n",
       "0    Jan        58     42.0         74.0          22               2.05\n",
       "1    Feb        61     45.0         78.0          26               3.02\n",
       "2    Mar        65     48.0         84.0          25               2.34\n",
       "3    Apr        67     50.0         92.0          28               1.02\n",
       "4    May        71     53.0         98.0          35               0.48\n",
       "5    Jun        75     56.0        107.0          41               0.11\n",
       "6    Jul        77     58.0        105.0          44               0.00\n",
       "7    Aug        77     59.0        102.0          43               0.03\n",
       "8    Sep        77     57.0        103.0          40               0.17\n",
       "9    Oct        73     54.0         96.0          34               0.81\n",
       "10   Nov        64     48.0         84.0          30               1.70\n",
       "11   Dec        58      NaN          NaN          21               2.56\n",
       "12   Dec        58     42.0         73.0          21               2.56"
      ]
     },
     "execution_count": 113,
     "metadata": {},
     "output_type": "execute_result"
    }
   ],
   "source": [
    "df = pd.DataFrame(\n",
    "    [ ['Jan',58,42,74,22,2.05],\n",
    "    ['Feb',61,45,78,26,3.02],\n",
    "    ['Mar',65,48,84,25,2.34],\n",
    "    ['Apr',67,50,92,28,1.02],\n",
    "    ['May',71,53,98,35,0.48],\n",
    "    ['Jun',75,56,107,41,0.11],\n",
    "    ['Jul',77,58,105,44,0.0],\n",
    "    ['Aug',77,59,102,43,0.03],\n",
    "    ['Sep',77,57,103,40,0.17],\n",
    "    ['Oct',73,54,96,34,0.81],\n",
    "    ['Nov',64,48,84,30,1.7],\n",
    "    ['Dec',58,None,None,21,2.56],\n",
    "    ['Dec',58,42,73,21,2.56] ],\n",
    "    columns = ['month','avg_high','avg_low','record_high','record_low','avg_precipitation'])\n",
    "\n",
    "df"
   ]
  },
  {
   "cell_type": "code",
   "execution_count": 114,
   "metadata": {},
   "outputs": [
    {
     "name": "stdout",
     "output_type": "stream",
     "text": [
      "<class 'pandas.core.frame.DataFrame'>\n",
      "RangeIndex: 13 entries, 0 to 12\n",
      "Data columns (total 6 columns):\n",
      " #   Column             Non-Null Count  Dtype  \n",
      "---  ------             --------------  -----  \n",
      " 0   month              13 non-null     object \n",
      " 1   avg_high           13 non-null     int64  \n",
      " 2   avg_low            12 non-null     float64\n",
      " 3   record_high        12 non-null     float64\n",
      " 4   record_low         13 non-null     int64  \n",
      " 5   avg_precipitation  13 non-null     float64\n",
      "dtypes: float64(3), int64(2), object(1)\n",
      "memory usage: 752.0+ bytes\n"
     ]
    }
   ],
   "source": [
    "df.info()"
   ]
  },
  {
   "cell_type": "code",
   "execution_count": 115,
   "metadata": {},
   "outputs": [
    {
     "data": {
      "text/html": [
       "<div>\n",
       "<style scoped>\n",
       "    .dataframe tbody tr th:only-of-type {\n",
       "        vertical-align: middle;\n",
       "    }\n",
       "\n",
       "    .dataframe tbody tr th {\n",
       "        vertical-align: top;\n",
       "    }\n",
       "\n",
       "    .dataframe thead th {\n",
       "        text-align: right;\n",
       "    }\n",
       "</style>\n",
       "<table border=\"1\" class=\"dataframe\">\n",
       "  <thead>\n",
       "    <tr style=\"text-align: right;\">\n",
       "      <th></th>\n",
       "      <th>avg_high</th>\n",
       "      <th>avg_low</th>\n",
       "      <th>record_high</th>\n",
       "      <th>record_low</th>\n",
       "      <th>avg_precipitation</th>\n",
       "    </tr>\n",
       "  </thead>\n",
       "  <tbody>\n",
       "    <tr>\n",
       "      <th>count</th>\n",
       "      <td>13.000000</td>\n",
       "      <td>12.000000</td>\n",
       "      <td>12.000000</td>\n",
       "      <td>13.000000</td>\n",
       "      <td>13.000000</td>\n",
       "    </tr>\n",
       "    <tr>\n",
       "      <th>mean</th>\n",
       "      <td>67.769231</td>\n",
       "      <td>51.000000</td>\n",
       "      <td>91.333333</td>\n",
       "      <td>31.538462</td>\n",
       "      <td>1.296154</td>\n",
       "    </tr>\n",
       "    <tr>\n",
       "      <th>std</th>\n",
       "      <td>7.639305</td>\n",
       "      <td>6.060303</td>\n",
       "      <td>12.323911</td>\n",
       "      <td>8.501131</td>\n",
       "      <td>1.115210</td>\n",
       "    </tr>\n",
       "    <tr>\n",
       "      <th>min</th>\n",
       "      <td>58.000000</td>\n",
       "      <td>42.000000</td>\n",
       "      <td>73.000000</td>\n",
       "      <td>21.000000</td>\n",
       "      <td>0.000000</td>\n",
       "    </tr>\n",
       "    <tr>\n",
       "      <th>25%</th>\n",
       "      <td>61.000000</td>\n",
       "      <td>47.250000</td>\n",
       "      <td>82.500000</td>\n",
       "      <td>25.000000</td>\n",
       "      <td>0.170000</td>\n",
       "    </tr>\n",
       "    <tr>\n",
       "      <th>50%</th>\n",
       "      <td>67.000000</td>\n",
       "      <td>51.500000</td>\n",
       "      <td>94.000000</td>\n",
       "      <td>30.000000</td>\n",
       "      <td>1.020000</td>\n",
       "    </tr>\n",
       "    <tr>\n",
       "      <th>75%</th>\n",
       "      <td>75.000000</td>\n",
       "      <td>56.250000</td>\n",
       "      <td>102.250000</td>\n",
       "      <td>40.000000</td>\n",
       "      <td>2.340000</td>\n",
       "    </tr>\n",
       "    <tr>\n",
       "      <th>max</th>\n",
       "      <td>77.000000</td>\n",
       "      <td>59.000000</td>\n",
       "      <td>107.000000</td>\n",
       "      <td>44.000000</td>\n",
       "      <td>3.020000</td>\n",
       "    </tr>\n",
       "  </tbody>\n",
       "</table>\n",
       "</div>"
      ],
      "text/plain": [
       "        avg_high    avg_low  record_high  record_low  avg_precipitation\n",
       "count  13.000000  12.000000    12.000000   13.000000          13.000000\n",
       "mean   67.769231  51.000000    91.333333   31.538462           1.296154\n",
       "std     7.639305   6.060303    12.323911    8.501131           1.115210\n",
       "min    58.000000  42.000000    73.000000   21.000000           0.000000\n",
       "25%    61.000000  47.250000    82.500000   25.000000           0.170000\n",
       "50%    67.000000  51.500000    94.000000   30.000000           1.020000\n",
       "75%    75.000000  56.250000   102.250000   40.000000           2.340000\n",
       "max    77.000000  59.000000   107.000000   44.000000           3.020000"
      ]
     },
     "execution_count": 115,
     "metadata": {},
     "output_type": "execute_result"
    }
   ],
   "source": [
    "df.describe()"
   ]
  },
  {
   "cell_type": "code",
   "execution_count": 116,
   "metadata": {},
   "outputs": [
    {
     "data": {
      "text/html": [
       "<div>\n",
       "<style scoped>\n",
       "    .dataframe tbody tr th:only-of-type {\n",
       "        vertical-align: middle;\n",
       "    }\n",
       "\n",
       "    .dataframe tbody tr th {\n",
       "        vertical-align: top;\n",
       "    }\n",
       "\n",
       "    .dataframe thead th {\n",
       "        text-align: right;\n",
       "    }\n",
       "</style>\n",
       "<table border=\"1\" class=\"dataframe\">\n",
       "  <thead>\n",
       "    <tr style=\"text-align: right;\">\n",
       "      <th></th>\n",
       "      <th>month</th>\n",
       "      <th>avg_high</th>\n",
       "      <th>avg_low</th>\n",
       "      <th>record_high</th>\n",
       "      <th>record_low</th>\n",
       "      <th>avg_precipitation</th>\n",
       "    </tr>\n",
       "  </thead>\n",
       "  <tbody>\n",
       "    <tr>\n",
       "      <th>0</th>\n",
       "      <td>Jan</td>\n",
       "      <td>58</td>\n",
       "      <td>42.0</td>\n",
       "      <td>74.0</td>\n",
       "      <td>22</td>\n",
       "      <td>2.05</td>\n",
       "    </tr>\n",
       "    <tr>\n",
       "      <th>1</th>\n",
       "      <td>Feb</td>\n",
       "      <td>61</td>\n",
       "      <td>45.0</td>\n",
       "      <td>78.0</td>\n",
       "      <td>26</td>\n",
       "      <td>3.02</td>\n",
       "    </tr>\n",
       "    <tr>\n",
       "      <th>2</th>\n",
       "      <td>Mar</td>\n",
       "      <td>65</td>\n",
       "      <td>48.0</td>\n",
       "      <td>84.0</td>\n",
       "      <td>25</td>\n",
       "      <td>2.34</td>\n",
       "    </tr>\n",
       "    <tr>\n",
       "      <th>3</th>\n",
       "      <td>Apr</td>\n",
       "      <td>67</td>\n",
       "      <td>50.0</td>\n",
       "      <td>92.0</td>\n",
       "      <td>28</td>\n",
       "      <td>1.02</td>\n",
       "    </tr>\n",
       "    <tr>\n",
       "      <th>4</th>\n",
       "      <td>May</td>\n",
       "      <td>71</td>\n",
       "      <td>53.0</td>\n",
       "      <td>98.0</td>\n",
       "      <td>35</td>\n",
       "      <td>0.48</td>\n",
       "    </tr>\n",
       "  </tbody>\n",
       "</table>\n",
       "</div>"
      ],
      "text/plain": [
       "  month  avg_high  avg_low  record_high  record_low  avg_precipitation\n",
       "0   Jan        58     42.0         74.0          22               2.05\n",
       "1   Feb        61     45.0         78.0          26               3.02\n",
       "2   Mar        65     48.0         84.0          25               2.34\n",
       "3   Apr        67     50.0         92.0          28               1.02\n",
       "4   May        71     53.0         98.0          35               0.48"
      ]
     },
     "execution_count": 116,
     "metadata": {},
     "output_type": "execute_result"
    }
   ],
   "source": [
    "df.head()"
   ]
  },
  {
   "cell_type": "code",
   "execution_count": 117,
   "metadata": {},
   "outputs": [
    {
     "data": {
      "text/html": [
       "<div>\n",
       "<style scoped>\n",
       "    .dataframe tbody tr th:only-of-type {\n",
       "        vertical-align: middle;\n",
       "    }\n",
       "\n",
       "    .dataframe tbody tr th {\n",
       "        vertical-align: top;\n",
       "    }\n",
       "\n",
       "    .dataframe thead th {\n",
       "        text-align: right;\n",
       "    }\n",
       "</style>\n",
       "<table border=\"1\" class=\"dataframe\">\n",
       "  <thead>\n",
       "    <tr style=\"text-align: right;\">\n",
       "      <th></th>\n",
       "      <th>month</th>\n",
       "      <th>avg_high</th>\n",
       "      <th>avg_low</th>\n",
       "      <th>record_high</th>\n",
       "      <th>record_low</th>\n",
       "      <th>avg_precipitation</th>\n",
       "    </tr>\n",
       "  </thead>\n",
       "  <tbody>\n",
       "    <tr>\n",
       "      <th>0</th>\n",
       "      <td>Jan</td>\n",
       "      <td>58</td>\n",
       "      <td>42.0</td>\n",
       "      <td>74.0</td>\n",
       "      <td>22</td>\n",
       "      <td>2.05</td>\n",
       "    </tr>\n",
       "    <tr>\n",
       "      <th>1</th>\n",
       "      <td>Feb</td>\n",
       "      <td>61</td>\n",
       "      <td>45.0</td>\n",
       "      <td>78.0</td>\n",
       "      <td>26</td>\n",
       "      <td>3.02</td>\n",
       "    </tr>\n",
       "    <tr>\n",
       "      <th>2</th>\n",
       "      <td>Mar</td>\n",
       "      <td>65</td>\n",
       "      <td>48.0</td>\n",
       "      <td>84.0</td>\n",
       "      <td>25</td>\n",
       "      <td>2.34</td>\n",
       "    </tr>\n",
       "  </tbody>\n",
       "</table>\n",
       "</div>"
      ],
      "text/plain": [
       "  month  avg_high  avg_low  record_high  record_low  avg_precipitation\n",
       "0   Jan        58     42.0         74.0          22               2.05\n",
       "1   Feb        61     45.0         78.0          26               3.02\n",
       "2   Mar        65     48.0         84.0          25               2.34"
      ]
     },
     "execution_count": 117,
     "metadata": {},
     "output_type": "execute_result"
    }
   ],
   "source": [
    "df.head(3)"
   ]
  },
  {
   "cell_type": "code",
   "execution_count": 118,
   "metadata": {},
   "outputs": [
    {
     "data": {
      "text/html": [
       "<div>\n",
       "<style scoped>\n",
       "    .dataframe tbody tr th:only-of-type {\n",
       "        vertical-align: middle;\n",
       "    }\n",
       "\n",
       "    .dataframe tbody tr th {\n",
       "        vertical-align: top;\n",
       "    }\n",
       "\n",
       "    .dataframe thead th {\n",
       "        text-align: right;\n",
       "    }\n",
       "</style>\n",
       "<table border=\"1\" class=\"dataframe\">\n",
       "  <thead>\n",
       "    <tr style=\"text-align: right;\">\n",
       "      <th></th>\n",
       "      <th>month</th>\n",
       "      <th>avg_high</th>\n",
       "      <th>avg_low</th>\n",
       "      <th>record_high</th>\n",
       "      <th>record_low</th>\n",
       "      <th>avg_precipitation</th>\n",
       "    </tr>\n",
       "  </thead>\n",
       "  <tbody>\n",
       "    <tr>\n",
       "      <th>10</th>\n",
       "      <td>Nov</td>\n",
       "      <td>64</td>\n",
       "      <td>48.0</td>\n",
       "      <td>84.0</td>\n",
       "      <td>30</td>\n",
       "      <td>1.70</td>\n",
       "    </tr>\n",
       "    <tr>\n",
       "      <th>11</th>\n",
       "      <td>Dec</td>\n",
       "      <td>58</td>\n",
       "      <td>NaN</td>\n",
       "      <td>NaN</td>\n",
       "      <td>21</td>\n",
       "      <td>2.56</td>\n",
       "    </tr>\n",
       "    <tr>\n",
       "      <th>12</th>\n",
       "      <td>Dec</td>\n",
       "      <td>58</td>\n",
       "      <td>42.0</td>\n",
       "      <td>73.0</td>\n",
       "      <td>21</td>\n",
       "      <td>2.56</td>\n",
       "    </tr>\n",
       "  </tbody>\n",
       "</table>\n",
       "</div>"
      ],
      "text/plain": [
       "   month  avg_high  avg_low  record_high  record_low  avg_precipitation\n",
       "10   Nov        64     48.0         84.0          30               1.70\n",
       "11   Dec        58      NaN          NaN          21               2.56\n",
       "12   Dec        58     42.0         73.0          21               2.56"
      ]
     },
     "execution_count": 118,
     "metadata": {},
     "output_type": "execute_result"
    }
   ],
   "source": [
    "df.tail(3)"
   ]
  },
  {
   "cell_type": "code",
   "execution_count": null,
   "metadata": {},
   "outputs": [],
   "source": []
  }
 ],
 "metadata": {
  "kernelspec": {
   "display_name": "Python 3",
   "language": "python",
   "name": "python3"
  },
  "language_info": {
   "codemirror_mode": {
    "name": "ipython",
    "version": 3
   },
   "file_extension": ".py",
   "mimetype": "text/x-python",
   "name": "python",
   "nbconvert_exporter": "python",
   "pygments_lexer": "ipython3",
   "version": "3.10.2"
  },
  "orig_nbformat": 4
 },
 "nbformat": 4,
 "nbformat_minor": 2
}
