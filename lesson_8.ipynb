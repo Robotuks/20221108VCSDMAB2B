{
 "cells": [
  {
   "cell_type": "code",
   "execution_count": 6,
   "metadata": {},
   "outputs": [
    {
     "name": "stdout",
     "output_type": "stream",
     "text": [
      "<class 'list_iterator'>\n",
      "1\n",
      "2\n"
     ]
    },
    {
     "ename": "StopIteration",
     "evalue": "",
     "output_type": "error",
     "traceback": [
      "\u001b[1;31m---------------------------------------------------------------------------\u001b[0m",
      "\u001b[1;31mStopIteration\u001b[0m                             Traceback (most recent call last)",
      "\u001b[1;32mc:\\Users\\Robotux\\Documents\\Python\\20221108VCSDMAB2B\\lesson_8.ipynb Cell 1\u001b[0m in \u001b[0;36m<module>\u001b[1;34m\u001b[0m\n\u001b[0;32m      <a href='vscode-notebook-cell:/c%3A/Users/Robotux/Documents/Python/20221108VCSDMAB2B/lesson_8.ipynb#W0sZmlsZQ%3D%3D?line=3'>4</a>\u001b[0m \u001b[39mprint\u001b[39m( \u001b[39mnext\u001b[39m(it) )\n\u001b[0;32m      <a href='vscode-notebook-cell:/c%3A/Users/Robotux/Documents/Python/20221108VCSDMAB2B/lesson_8.ipynb#W0sZmlsZQ%3D%3D?line=4'>5</a>\u001b[0m \u001b[39mprint\u001b[39m( \u001b[39mnext\u001b[39m(it) )\n\u001b[1;32m----> <a href='vscode-notebook-cell:/c%3A/Users/Robotux/Documents/Python/20221108VCSDMAB2B/lesson_8.ipynb#W0sZmlsZQ%3D%3D?line=5'>6</a>\u001b[0m \u001b[39mprint\u001b[39m( \u001b[39mnext\u001b[39;49m(it) )\n",
      "\u001b[1;31mStopIteration\u001b[0m: "
     ]
    }
   ],
   "source": [
    "it = iter([1,2])\n",
    "print(type(it))\n",
    "\n",
    "print( next(it) )\n",
    "print( next(it) )\n",
    "print( next(it) )"
   ]
  },
  {
   "attachments": {},
   "cell_type": "markdown",
   "metadata": {},
   "source": [
    "# Raising an error"
   ]
  },
  {
   "cell_type": "code",
   "execution_count": 13,
   "metadata": {},
   "outputs": [
    {
     "name": "stdout",
     "output_type": "stream",
     "text": [
      "17\n"
     ]
    },
    {
     "ename": "ValueError",
     "evalue": "argument `b` is not an integer",
     "output_type": "error",
     "traceback": [
      "\u001b[1;31m---------------------------------------------------------------------------\u001b[0m",
      "\u001b[1;31mValueError\u001b[0m                                Traceback (most recent call last)",
      "\u001b[1;32mc:\\Users\\Robotux\\Documents\\Python\\20221108VCSDMAB2B\\lesson_8.ipynb Cell 3\u001b[0m in \u001b[0;36m<module>\u001b[1;34m\u001b[0m\n\u001b[0;32m      <a href='vscode-notebook-cell:/c%3A/Users/Robotux/Documents/Python/20221108VCSDMAB2B/lesson_8.ipynb#W1sZmlsZQ%3D%3D?line=8'>9</a>\u001b[0m \u001b[39mprint\u001b[39m(add_numbers(\u001b[39m5\u001b[39m,\u001b[39m12\u001b[39m))\n\u001b[0;32m     <a href='vscode-notebook-cell:/c%3A/Users/Robotux/Documents/Python/20221108VCSDMAB2B/lesson_8.ipynb#W1sZmlsZQ%3D%3D?line=9'>10</a>\u001b[0m \u001b[39m# print(add_numbers('5', '12'))\u001b[39;00m\n\u001b[1;32m---> <a href='vscode-notebook-cell:/c%3A/Users/Robotux/Documents/Python/20221108VCSDMAB2B/lesson_8.ipynb#W1sZmlsZQ%3D%3D?line=10'>11</a>\u001b[0m \u001b[39mprint\u001b[39m(add_numbers(\u001b[39m5\u001b[39;49m, \u001b[39m'\u001b[39;49m\u001b[39m12\u001b[39;49m\u001b[39m'\u001b[39;49m))\n",
      "\u001b[1;32mc:\\Users\\Robotux\\Documents\\Python\\20221108VCSDMAB2B\\lesson_8.ipynb Cell 3\u001b[0m in \u001b[0;36madd_numbers\u001b[1;34m(a, b)\u001b[0m\n\u001b[0;32m      <a href='vscode-notebook-cell:/c%3A/Users/Robotux/Documents/Python/20221108VCSDMAB2B/lesson_8.ipynb#W1sZmlsZQ%3D%3D?line=2'>3</a>\u001b[0m     \u001b[39mraise\u001b[39;00m \u001b[39mTypeError\u001b[39;00m(\u001b[39m'\u001b[39m\u001b[39margument `a` is not an integer\u001b[39m\u001b[39m'\u001b[39m)\n\u001b[0;32m      <a href='vscode-notebook-cell:/c%3A/Users/Robotux/Documents/Python/20221108VCSDMAB2B/lesson_8.ipynb#W1sZmlsZQ%3D%3D?line=3'>4</a>\u001b[0m \u001b[39mif\u001b[39;00m \u001b[39mnot\u001b[39;00m \u001b[39misinstance\u001b[39m(b, \u001b[39mint\u001b[39m):\n\u001b[1;32m----> <a href='vscode-notebook-cell:/c%3A/Users/Robotux/Documents/Python/20221108VCSDMAB2B/lesson_8.ipynb#W1sZmlsZQ%3D%3D?line=4'>5</a>\u001b[0m     \u001b[39mraise\u001b[39;00m \u001b[39mValueError\u001b[39;00m(\u001b[39m'\u001b[39m\u001b[39margument `b` is not an integer\u001b[39m\u001b[39m'\u001b[39m)\n\u001b[0;32m      <a href='vscode-notebook-cell:/c%3A/Users/Robotux/Documents/Python/20221108VCSDMAB2B/lesson_8.ipynb#W1sZmlsZQ%3D%3D?line=5'>6</a>\u001b[0m \u001b[39mreturn\u001b[39;00m a \u001b[39m+\u001b[39m b\n",
      "\u001b[1;31mValueError\u001b[0m: argument `b` is not an integer"
     ]
    }
   ],
   "source": [
    "def add_numbers(a, b):\n",
    "    if not isinstance(a, int):\n",
    "        raise TypeError('argument `a` is not an integer')\n",
    "    if not isinstance(b, int):\n",
    "        raise ValueError('argument `b` is not an integer')\n",
    "    return a + b\n",
    "\n",
    "\n",
    "print(add_numbers(5,12))\n",
    "# print(add_numbers('5', '12'))\n",
    "print(add_numbers(5, '12'))"
   ]
  },
  {
   "attachments": {},
   "cell_type": "markdown",
   "metadata": {},
   "source": [
    "# Try/except"
   ]
  },
  {
   "cell_type": "code",
   "execution_count": 15,
   "metadata": {},
   "outputs": [
    {
     "ename": "NameError",
     "evalue": "name 'name' is not defined",
     "output_type": "error",
     "traceback": [
      "\u001b[1;31m---------------------------------------------------------------------------\u001b[0m",
      "\u001b[1;31mNameError\u001b[0m                                 Traceback (most recent call last)",
      "\u001b[1;32mc:\\Users\\Robotux\\Documents\\Python\\20221108VCSDMAB2B\\lesson_8.ipynb Cell 5\u001b[0m in \u001b[0;36m<module>\u001b[1;34m\u001b[0m\n\u001b[1;32m----> <a href='vscode-notebook-cell:/c%3A/Users/Robotux/Documents/Python/20221108VCSDMAB2B/lesson_8.ipynb#W2sZmlsZQ%3D%3D?line=0'>1</a>\u001b[0m \u001b[39mprint\u001b[39m(name)\n\u001b[0;32m      <a href='vscode-notebook-cell:/c%3A/Users/Robotux/Documents/Python/20221108VCSDMAB2B/lesson_8.ipynb#W2sZmlsZQ%3D%3D?line=1'>2</a>\u001b[0m \u001b[39mprint\u001b[39m(\u001b[39m'\u001b[39m\u001b[39mend of the code\u001b[39m\u001b[39m'\u001b[39m)\n",
      "\u001b[1;31mNameError\u001b[0m: name 'name' is not defined"
     ]
    }
   ],
   "source": [
    "print(name)\n",
    "print('end of the code')"
   ]
  },
  {
   "cell_type": "code",
   "execution_count": 16,
   "metadata": {},
   "outputs": [
    {
     "name": "stdout",
     "output_type": "stream",
     "text": [
      "beginning of the try clause\n",
      "error occured\n",
      "end of the code\n"
     ]
    }
   ],
   "source": [
    "try:\n",
    "    print('beginning of the try clause')\n",
    "    print(name)\n",
    "    print('end of the try clause')\n",
    "except:\n",
    "    print('error occured')\n",
    "\n",
    "print('end of the code')"
   ]
  },
  {
   "cell_type": "code",
   "execution_count": 17,
   "metadata": {},
   "outputs": [
    {
     "name": "stdout",
     "output_type": "stream",
     "text": [
      "beginning of the try clause\n",
      "end of the try clause\n",
      "end of the code\n"
     ]
    }
   ],
   "source": [
    "try:\n",
    "    print('beginning of the try clause')\n",
    "    # print(name)\n",
    "    print('end of the try clause')\n",
    "except: # DON'T use except without error type\n",
    "    print('error occured')\n",
    "\n",
    "print('end of the code')"
   ]
  },
  {
   "cell_type": "code",
   "execution_count": 21,
   "metadata": {},
   "outputs": [
    {
     "name": "stdout",
     "output_type": "stream",
     "text": [
      "beginning of the try clause\n",
      "error occured: name 'name' is not defined\n",
      "end of the code\n"
     ]
    }
   ],
   "source": [
    "try:\n",
    "    # 5/0\n",
    "    print('beginning of the try clause')\n",
    "    print(name)\n",
    "    print('end of the try clause')\n",
    "except NameError as e: # e - error\n",
    "    print(f'error occured: {e}')\n",
    "\n",
    "print('end of the code')"
   ]
  },
  {
   "cell_type": "code",
   "execution_count": 25,
   "metadata": {},
   "outputs": [
    {
     "name": "stdout",
     "output_type": "stream",
     "text": [
      "Zero division occurred\n",
      "end of the code\n"
     ]
    }
   ],
   "source": [
    "try:\n",
    "    5/0\n",
    "    print('beginning of the try clause')\n",
    "    print(name)\n",
    "    print('end of the try clause')\n",
    "except NameError as e: # e - error\n",
    "    print(f'error occured: {e}')\n",
    "except ZeroDivisionError as e:\n",
    "    print(\"Zero division occurred\")\n",
    "\n",
    "print('end of the code')"
   ]
  },
  {
   "cell_type": "code",
   "execution_count": 28,
   "metadata": {},
   "outputs": [
    {
     "name": "stdout",
     "output_type": "stream",
     "text": [
      "beginning of the try clause\n",
      "end of the try clause\n",
      "This is always executed\n",
      "end of the code\n"
     ]
    }
   ],
   "source": [
    "try:\n",
    "    # 5/0\n",
    "    print('beginning of the try clause')\n",
    "    # print(name)\n",
    "    print('end of the try clause')\n",
    "except NameError as e: # e - error\n",
    "    print(f'error occured: {e}')\n",
    "finally:\n",
    "    print('This is always executed')\n",
    "\n",
    "print('end of the code')"
   ]
  },
  {
   "attachments": {},
   "cell_type": "markdown",
   "metadata": {},
   "source": [
    "## In most cases you can get away without try/except"
   ]
  },
  {
   "cell_type": "code",
   "execution_count": 30,
   "metadata": {},
   "outputs": [],
   "source": [
    "b = 5\n",
    "c = 0\n",
    "\n",
    "# if c == 0:\n",
    "#     c = 1\n",
    "\n",
    "if c == 0:\n",
    "    # a = 1\n",
    "    a = None\n",
    "else:\n",
    "    a = b / c"
   ]
  },
  {
   "cell_type": "code",
   "execution_count": 31,
   "metadata": {},
   "outputs": [
    {
     "data": {
      "text/plain": [
       "16"
      ]
     },
     "execution_count": 31,
     "metadata": {},
     "output_type": "execute_result"
    }
   ],
   "source": [
    "def add_numbers(a, b):\n",
    "    if not isinstance(a, int):\n",
    "        a = int(a)\n",
    "    if not isinstance(b, int):\n",
    "        b = int(b)\n",
    "    return a + b\n",
    "\n",
    "add_numbers('5','11')"
   ]
  },
  {
   "attachments": {},
   "cell_type": "markdown",
   "metadata": {},
   "source": [
    "# OS library"
   ]
  },
  {
   "cell_type": "code",
   "execution_count": 32,
   "metadata": {},
   "outputs": [],
   "source": [
    "import os"
   ]
  },
  {
   "cell_type": "code",
   "execution_count": 33,
   "metadata": {},
   "outputs": [
    {
     "name": "stdout",
     "output_type": "stream",
     "text": [
      "c:\\Users\\Robotux\\Documents\\Python\\20221108VCSDMAB2B\n"
     ]
    }
   ],
   "source": [
    "print (os.getcwd() ) # cwd - current working directory"
   ]
  },
  {
   "cell_type": "code",
   "execution_count": 36,
   "metadata": {},
   "outputs": [
    {
     "name": "stdout",
     "output_type": "stream",
     "text": [
      "c:\\Users\\Robotux\\Documents\\Python\n",
      "c:\\Users\\Robotux\\Documents\\Python\\20221108VCSDMAB2B\n"
     ]
    }
   ],
   "source": [
    "os.chdir('../') # change directory\n",
    "print (os.getcwd() )\n",
    "# os.chdir('c:\\\\Users\\\\Robotux\\\\Documents\\\\Python\\\\20221108VCSDMAB2B') # vvv same as vvv\n",
    "os.chdir('c:/Users/Robotux/Documents/Python/20221108VCSDMAB2B')\n",
    "print (os.getcwd() )"
   ]
  },
  {
   "cell_type": "code",
   "execution_count": 37,
   "metadata": {},
   "outputs": [
    {
     "name": "stdout",
     "output_type": "stream",
     "text": [
      "['.git', '.gitignore', 'lesson_1.ipynb', 'lesson_2.ipynb', 'lesson_3.ipynb', 'lesson_4.ipynb', 'lesson_5.ipynb', 'lesson_6.ipynb', 'lesson_7.ipynb', 'lesson_8.ipynb', 'README.md']\n"
     ]
    }
   ],
   "source": [
    "print( os.listdir() )"
   ]
  },
  {
   "cell_type": "code",
   "execution_count": 38,
   "metadata": {},
   "outputs": [],
   "source": [
    "os.makedirs(\"folder1/folder2/my_folder\")"
   ]
  },
  {
   "cell_type": "code",
   "execution_count": 54,
   "metadata": {},
   "outputs": [],
   "source": [
    "os.makedirs(\"folder1/folder2/my_folder\", exist_ok=True)"
   ]
  },
  {
   "cell_type": "code",
   "execution_count": 56,
   "metadata": {},
   "outputs": [],
   "source": [
    "os.removedirs(\"folder1/folder2/my_folder\") # deletes only empty folders"
   ]
  },
  {
   "attachments": {},
   "cell_type": "markdown",
   "metadata": {},
   "source": [
    "## write/read file"
   ]
  },
  {
   "cell_type": "code",
   "execution_count": 58,
   "metadata": {},
   "outputs": [
    {
     "ename": "ValueError",
     "evalue": "I/O operation on closed file.",
     "output_type": "error",
     "traceback": [
      "\u001b[1;31m---------------------------------------------------------------------------\u001b[0m",
      "\u001b[1;31mValueError\u001b[0m                                Traceback (most recent call last)",
      "\u001b[1;32mc:\\Users\\Robotux\\Documents\\Python\\20221108VCSDMAB2B\\lesson_8.ipynb Cell 23\u001b[0m in \u001b[0;36m<module>\u001b[1;34m\u001b[0m\n\u001b[0;32m      <a href='vscode-notebook-cell:/c%3A/Users/Robotux/Documents/Python/20221108VCSDMAB2B/lesson_8.ipynb#X30sZmlsZQ%3D%3D?line=2'>3</a>\u001b[0m \u001b[39mwith\u001b[39;00m \u001b[39mopen\u001b[39m(\u001b[39m'\u001b[39m\u001b[39mtext.txt\u001b[39m\u001b[39m'\u001b[39m, \u001b[39m'\u001b[39m\u001b[39mw\u001b[39m\u001b[39m'\u001b[39m) \u001b[39mas\u001b[39;00m fw: \u001b[39m# fw - file write\u001b[39;00m\n\u001b[0;32m      <a href='vscode-notebook-cell:/c%3A/Users/Robotux/Documents/Python/20221108VCSDMAB2B/lesson_8.ipynb#X30sZmlsZQ%3D%3D?line=3'>4</a>\u001b[0m     fw\u001b[39m.\u001b[39mwrite( text )\n\u001b[1;32m----> <a href='vscode-notebook-cell:/c%3A/Users/Robotux/Documents/Python/20221108VCSDMAB2B/lesson_8.ipynb#X30sZmlsZQ%3D%3D?line=5'>6</a>\u001b[0m fw\u001b[39m.\u001b[39;49mwrite(\u001b[39m\"\u001b[39;49m\u001b[39mwon\u001b[39;49m\u001b[39m'\u001b[39;49m\u001b[39mt work\u001b[39;49m\u001b[39m\"\u001b[39;49m)\n",
      "\u001b[1;31mValueError\u001b[0m: I/O operation on closed file."
     ]
    }
   ],
   "source": [
    "text = 'Hello from Python\\nI wrote this from Python code'\n",
    "\n",
    "with open('text.txt', 'w') as fw: # fw - file write\n",
    "    fw.write( text )\n",
    "\n",
    "fw.write(\"won't work\") "
   ]
  },
  {
   "cell_type": "code",
   "execution_count": 59,
   "metadata": {},
   "outputs": [
    {
     "name": "stdout",
     "output_type": "stream",
     "text": [
      "Hello from Python\n",
      "I wrote this from Python code\n"
     ]
    }
   ],
   "source": [
    "with open('text.txt', 'r') as fr: # fr - file read\n",
    "    text_read = fr.read()\n",
    "\n",
    "print(text_read)"
   ]
  },
  {
   "attachments": {},
   "cell_type": "markdown",
   "metadata": {},
   "source": [
    "## JSON"
   ]
  },
  {
   "cell_type": "code",
   "execution_count": 60,
   "metadata": {},
   "outputs": [],
   "source": [
    "import json"
   ]
  },
  {
   "cell_type": "code",
   "execution_count": 62,
   "metadata": {},
   "outputs": [
    {
     "name": "stdout",
     "output_type": "stream",
     "text": [
      "{'name': 'Darius', 'hobbies': ['tennis', 'bicycle', 'bouldering'], 'age': 269}\n"
     ]
    }
   ],
   "source": [
    "my_dict = {\n",
    "    'name': 'Darius',\n",
    "    'hobbies': [\n",
    "        'tennis', 'bicycle', 'bouldering'\n",
    "    ],\n",
    "    'age': 269\n",
    "}\n",
    "print(my_dict)"
   ]
  },
  {
   "cell_type": "code",
   "execution_count": 63,
   "metadata": {},
   "outputs": [],
   "source": [
    "with open('me.json', 'w') as fw:\n",
    "    json.dump( my_dict, fw )"
   ]
  },
  {
   "cell_type": "code",
   "execution_count": null,
   "metadata": {},
   "outputs": [],
   "source": []
  },
  {
   "cell_type": "code",
   "execution_count": 66,
   "metadata": {},
   "outputs": [
    {
     "name": "stdout",
     "output_type": "stream",
     "text": [
      "{'name': 'Darius', 'hobbies': ['tennis', 'bicycle', 'bouldering'], 'age': 269}\n",
      "dict_keys(['name', 'hobbies', 'age'])\n",
      "dict_values(['Darius', ['tennis', 'bicycle', 'bouldering'], 269])\n"
     ]
    }
   ],
   "source": [
    "with open('me.json', 'r') as fr:\n",
    "    read_json = json.load(fr)\n",
    "\n",
    "print(read_json)\n",
    "print(read_json.keys())\n",
    "print(read_json.values())"
   ]
  },
  {
   "cell_type": "code",
   "execution_count": 69,
   "metadata": {},
   "outputs": [],
   "source": [
    "import csv\n",
    "\n",
    "with open('eggs.csv', 'w', newline='') as csvfile:\n",
    "    spamwriter = csv.writer(csvfile, delimiter=',')\n",
    "    spamwriter.writerow(['name', 'surname', 'age'])\n",
    "    spamwriter.writerow(['Darius', 'Grigaliunas', '27'])\n",
    "    spamwriter.writerow(['Jonas', 'Jonaitis', '40'])"
   ]
  },
  {
   "cell_type": "code",
   "execution_count": 72,
   "metadata": {},
   "outputs": [
    {
     "name": "stdout",
     "output_type": "stream",
     "text": [
      "name, surname, age\n",
      "Darius, Grigaliunas, 27\n",
      "Jonas, Jonaitis, 40\n"
     ]
    }
   ],
   "source": [
    "with open('eggs.csv', newline='') as csvfile:\n",
    "    spamreader = csv.reader(csvfile, delimiter=',')\n",
    "    for row in spamreader:\n",
    "        print(', '.join(row))"
   ]
  },
  {
   "cell_type": "code",
   "execution_count": null,
   "metadata": {},
   "outputs": [],
   "source": []
  }
 ],
 "metadata": {
  "kernelspec": {
   "display_name": "Python 3",
   "language": "python",
   "name": "python3"
  },
  "language_info": {
   "codemirror_mode": {
    "name": "ipython",
    "version": 3
   },
   "file_extension": ".py",
   "mimetype": "text/x-python",
   "name": "python",
   "nbconvert_exporter": "python",
   "pygments_lexer": "ipython3",
   "version": "3.10.2"
  },
  "orig_nbformat": 4
 },
 "nbformat": 4,
 "nbformat_minor": 2
}
